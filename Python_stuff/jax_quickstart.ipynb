{
 "cells": [
  {
   "source": [
    "import jax.numpy as np\n",
    "from jax import grad, jit, vmap\n",
    "from jax import random"
   ],
   "cell_type": "code",
   "outputs": [],
   "metadata": {},
   "execution_count": 1
  },
  {
   "source": [
    "key = random.PRNGKey(0)\n",
    "x = random.normal(key, (10,))\n",
    "print(x)"
   ],
   "cell_type": "code",
   "outputs": [
    {
     "output_type": "stream",
     "name": "stdout",
     "text": "[-0.3721109   0.26423115 -0.18252768 -0.7368197  -0.44030377 -0.1521442\n -0.67135346 -0.5908641   0.73168886  0.5673026 ]\n"
    }
   ],
   "metadata": {},
   "execution_count": 2
  },
  {
   "source": [
    "size = 3000\n",
    "x = random.normal(key, (size, size), dtype=np.float32)\n",
    "%timeit np.dot(x, x.T).block_until_ready()  # runs on the GPU"
   ],
   "cell_type": "code",
   "outputs": [
    {
     "output_type": "stream",
     "name": "stdout",
     "text": "10.9 ms ± 1.85 ms per loop (mean ± std. dev. of 7 runs, 1 loop each)\n"
    }
   ],
   "metadata": {},
   "execution_count": 3
  },
  {
   "source": [
    "import numpy as onp  # original CPU-backed NumPy\n",
    "x = onp.random.normal(size=(size, size)).astype(onp.float32)\n",
    "%timeit np.dot(x, x.T).block_until_ready()"
   ],
   "cell_type": "code",
   "outputs": [
    {
     "output_type": "stream",
     "name": "stdout",
     "text": "26.8 ms ± 226 µs per loop (mean ± std. dev. of 7 runs, 10 loops each)\n"
    }
   ],
   "metadata": {},
   "execution_count": 4
  },
  {
   "source": [
    "from jax import device_put\n",
    "\n",
    "x = onp.random.normal(size=(size, size)).astype(onp.float32)\n",
    "x = device_put(x)\n",
    "%timeit np.dot(x, x.T).block_until_ready()"
   ],
   "cell_type": "code",
   "outputs": [
    {
     "output_type": "stream",
     "name": "stdout",
     "text": "11 ms ± 100 µs per loop (mean ± std. dev. of 7 runs, 100 loops each)\n"
    }
   ],
   "metadata": {},
   "execution_count": 5
  },
  {
   "source": [
    "x = onp.random.normal(size=(size, size)).astype(onp.float32)\n",
    "%timeit onp.dot(x, x.T)"
   ],
   "cell_type": "code",
   "outputs": [
    {
     "output_type": "stream",
     "name": "stdout",
     "text": "211 ms ± 2.54 ms per loop (mean ± std. dev. of 7 runs, 1 loop each)\n"
    }
   ],
   "metadata": {},
   "execution_count": 6
  },
  {
   "source": [
    "def selu(x, alpha=1.67, lmbda=1.05):\n",
    "    return lmbda * np.where(x > 0, x, alpha * np.exp(x) - alpha)"
   ],
   "cell_type": "code",
   "outputs": [],
   "metadata": {},
   "execution_count": 7
  },
  {
   "source": [
    "x = random.normal(key, (1_000_000,))"
   ],
   "cell_type": "code",
   "outputs": [],
   "metadata": {},
   "execution_count": 8
  },
  {
   "source": [
    "%timeit selu(x).block_until_ready()"
   ],
   "cell_type": "code",
   "outputs": [
    {
     "output_type": "stream",
     "name": "stdout",
     "text": "1.46 ms ± 422 µs per loop (mean ± std. dev. of 7 runs, 1 loop each)\n"
    }
   ],
   "metadata": {},
   "execution_count": 9
  },
  {
   "source": [
    "selu_jit = jit(selu)\n",
    "%timeit selu_jit(x).block_until_ready()"
   ],
   "cell_type": "code",
   "outputs": [
    {
     "output_type": "stream",
     "name": "stdout",
     "text": "110 µs ± 1.45 µs per loop (mean ± std. dev. of 7 runs, 10000 loops each)\n"
    }
   ],
   "metadata": {},
   "execution_count": 10
  },
  {
   "source": [
    "2.05 * 1000 / 110"
   ],
   "cell_type": "code",
   "outputs": [
    {
     "output_type": "execute_result",
     "data": {
      "text/plain": "18.636363636363637"
     },
     "metadata": {},
     "execution_count": 11
    }
   ],
   "metadata": {},
   "execution_count": 11
  },
  {
   "source": [
    "def sum_logistic(x):\n",
    "    return np.sum(1.0 / (1.0 + np.exp(-x)))\n",
    "\n",
    "x_small = np.arange(3.)\n",
    "derivative_fn = grad(sum_logistic)\n",
    "print(derivative_fn(x_small))"
   ],
   "cell_type": "code",
   "outputs": [
    {
     "output_type": "stream",
     "name": "stdout",
     "text": "[0.25       0.19661197 0.10499357]\n"
    }
   ],
   "metadata": {},
   "execution_count": 12
  },
  {
   "source": [
    "def first_finite_difference(f, x, eps=1e-3):\n",
    "    return np.array([(f(x + eps * v) - f(x - eps * v)) / (2 * eps) for v in np.eye(len(x))])\n",
    "\n",
    "print(first_finite_difference(sum_logistic, x_small))"
   ],
   "cell_type": "code",
   "outputs": [
    {
     "output_type": "stream",
     "name": "stdout",
     "text": "[0.24998187 0.1965761  0.10502338]\n"
    }
   ],
   "metadata": {},
   "execution_count": 13
  },
  {
   "source": [
    "print(\n",
    "    grad(\n",
    "        jit(\n",
    "            grad(\n",
    "                jit(\n",
    "                    grad(\n",
    "                        sum_logistic\n",
    "                    )\n",
    "                )\n",
    "            )\n",
    "        )\n",
    "    )(1.0)\n",
    ")"
   ],
   "cell_type": "code",
   "outputs": [
    {
     "output_type": "stream",
     "name": "stdout",
     "text": "-0.03532559\n"
    }
   ],
   "metadata": {},
   "execution_count": 14
  },
  {
   "source": [
    "from jax import jacfwd, jacrev\n",
    "def hessian(fun):\n",
    "    return jit(jacfwd(jacrev(fun)))"
   ],
   "cell_type": "code",
   "outputs": [],
   "metadata": {},
   "execution_count": 15
  },
  {
   "source": [
    "hessian(sum_logistic)(x_small)"
   ],
   "cell_type": "code",
   "outputs": [
    {
     "output_type": "execute_result",
     "data": {
      "text/plain": "DeviceArray([[-0.        , -0.        , -0.        ],\n             [-0.        , -0.09085777, -0.        ],\n             [-0.        , -0.        , -0.07996248]], dtype=float32)"
     },
     "metadata": {},
     "execution_count": 16
    }
   ],
   "metadata": {},
   "execution_count": 16
  },
  {
   "source": [
    "x_small"
   ],
   "cell_type": "code",
   "outputs": [
    {
     "output_type": "execute_result",
     "data": {
      "text/plain": "array([0., 1., 2.])"
     },
     "metadata": {},
     "execution_count": 17
    }
   ],
   "metadata": {},
   "execution_count": 17
  },
  {
   "source": [
    "mat = random.normal(key, (150, 100))\n",
    "batched_x = random.normal(key, (10, 100))"
   ],
   "cell_type": "code",
   "outputs": [],
   "metadata": {},
   "execution_count": 18
  },
  {
   "source": [
    "def apply_matrix(v):\n",
    "    return np.dot(mat, v)"
   ],
   "cell_type": "code",
   "outputs": [],
   "metadata": {},
   "execution_count": 19
  },
  {
   "source": [
    "def naively_batched_apply_matrix(v_batched):\n",
    "    return np.stack([apply_matrix(v) for v in v_batched])"
   ],
   "cell_type": "code",
   "outputs": [],
   "metadata": {},
   "execution_count": 20
  },
  {
   "source": [
    "print('Naively batched')\n",
    "%timeit naively_batched_apply_matrix(batched_x).block_until_ready()"
   ],
   "cell_type": "code",
   "outputs": [
    {
     "output_type": "stream",
     "name": "stdout",
     "text": "Naively batched\n3.37 ms ± 256 µs per loop (mean ± std. dev. of 7 runs, 100 loops each)\n"
    }
   ],
   "metadata": {},
   "execution_count": 21
  },
  {
   "source": [
    "batched_x[:3, :5]"
   ],
   "cell_type": "code",
   "outputs": [
    {
     "output_type": "execute_result",
     "data": {
      "text/plain": "DeviceArray([[-1.5721827 , -0.5877473 , -0.15419528, -0.68907833,\n               0.659211  ],\n             [ 0.23441708,  1.2395371 , -1.0322325 , -0.97337836,\n               1.4354849 ],\n             [-0.39501408,  1.1313331 ,  0.77410907, -2.1247523 ,\n              -0.92607194]], dtype=float32)"
     },
     "metadata": {},
     "execution_count": 22
    }
   ],
   "metadata": {},
   "execution_count": 22
  },
  {
   "source": [
    "naively_batched_apply_matrix(batched_x).block_until_ready()"
   ],
   "cell_type": "code",
   "outputs": [
    {
     "output_type": "execute_result",
     "data": {
      "text/plain": "DeviceArray([[  7.6967783 ,  -1.2004204 ,  -7.8025274 , ...,\n               -9.198534  ,  -4.6361337 ,   5.0350065 ],\n             [ -3.7661114 ,  22.081488  ,  15.895488  , ...,\n              -10.457462  ,  11.743891  ,  -1.0312204 ],\n             [ -6.269892  ,   0.04147506, -10.759269  , ...,\n                6.7663145 ,   0.24011374,  -4.183442  ],\n             ...,\n             [  1.8337102 ,  10.578623  ,  17.425434  , ...,\n                6.059695  ,   0.08220291,  -3.881513  ],\n             [-15.693324  ,  18.875978  ,  10.051355  , ...,\n               -1.5857544 , -14.738106  ,  13.019888  ],\n             [  3.3215523 ,  -0.08373046,  15.172007  , ...,\n                7.6211233 ,  -6.221728  , -15.446037  ]], dtype=float32)"
     },
     "metadata": {},
     "execution_count": 23
    }
   ],
   "metadata": {},
   "execution_count": 23
  },
  {
   "source": [
    "@jit\n",
    "def batched_apply_matrix(v_batched):\n",
    "    return np.dot(v_batched, mat.T)\n",
    "\n",
    "print('Manually batched')\n",
    "%timeit batched_apply_matrix(batched_x).block_until_ready()"
   ],
   "cell_type": "code",
   "outputs": [
    {
     "output_type": "stream",
     "name": "stdout",
     "text": "Manually batched\n110 µs ± 1.56 µs per loop (mean ± std. dev. of 7 runs, 10000 loops each)\n"
    }
   ],
   "metadata": {},
   "execution_count": 24
  },
  {
   "source": [
    "@jit\n",
    "def vmap_batched_apply_matrix(v_batched):\n",
    "    return vmap(apply_matrix)(v_batched)\n",
    "\n",
    "print('Auto-vectorized with vmap')\n",
    "%timeit vmap_batched_apply_matrix(batched_x).block_until_ready()"
   ],
   "cell_type": "code",
   "outputs": [
    {
     "output_type": "stream",
     "name": "stdout",
     "text": "Auto-vectorized with vmap\n107 µs ± 2.36 µs per loop (mean ± std. dev. of 7 runs, 10000 loops each)\n"
    }
   ],
   "metadata": {},
   "execution_count": 25
  },
  {
   "cell_type": "code",
   "execution_count": null,
   "metadata": {},
   "outputs": [],
   "source": []
  }
 ],
 "metadata": {
  "kernelspec": {
   "display_name": "Python 3.7.6 64-bit ('py37_gpu': conda)",
   "language": "python",
   "name": "python37664bitpy37gpuconda52a2d32b6ef749ee8055220574a69f98"
  },
  "language_info": {
   "codemirror_mode": {
    "name": "ipython",
    "version": 3
   },
   "file_extension": ".py",
   "mimetype": "text/x-python",
   "name": "python",
   "nbconvert_exporter": "python",
   "pygments_lexer": "ipython3",
   "version": "3.7.6-final"
  }
 },
 "nbformat": 4,
 "nbformat_minor": 4
}