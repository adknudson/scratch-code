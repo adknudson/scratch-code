{
 "cells": [
  {
   "cell_type": "code",
   "execution_count": 1,
   "metadata": {},
   "outputs": [],
   "source": [
    "%reset -s -f"
   ]
  },
  {
   "cell_type": "code",
   "execution_count": 2,
   "metadata": {},
   "outputs": [],
   "source": [
    "import numpyro\n",
    "import jax\n",
    "import jax.numpy as np\n",
    "import jax.random as random\n",
    "import numpyro.distributions as dist\n",
    "from numpyro import infer, optim, handlers\n",
    "from numpyro.infer import NUTS, MCMC, HMC\n",
    "\n",
    "import numpy as onp\n",
    "import seaborn as sns"
   ]
  },
  {
   "cell_type": "code",
   "execution_count": 3,
   "metadata": {},
   "outputs": [],
   "source": [
    "def softplus(x):\n",
    "    return np.log(1 + np.exp(x))"
   ]
  },
  {
   "cell_type": "code",
   "execution_count": 4,
   "metadata": {},
   "outputs": [],
   "source": [
    "n = 500\n",
    "a = 2\n",
    "b = 4\n",
    "c = 8"
   ]
  },
  {
   "cell_type": "code",
   "execution_count": 5,
   "metadata": {},
   "outputs": [],
   "source": [
    "x = dist.Normal(0, 0.34).sample(random.PRNGKey(0), (n,))"
   ]
  },
  {
   "cell_type": "code",
   "execution_count": 6,
   "metadata": {},
   "outputs": [],
   "source": [
    "link = softplus(a * x + b)"
   ]
  },
  {
   "cell_type": "code",
   "execution_count": 7,
   "metadata": {},
   "outputs": [],
   "source": [
    "y = dist.Exponential(rate = 1 / link).sample(random.PRNGKey(1))"
   ]
  },
  {
   "cell_type": "code",
   "execution_count": 8,
   "metadata": {},
   "outputs": [],
   "source": [
    "censor_label = np.array(y > c, dtype=np.float32)"
   ]
  },
  {
   "cell_type": "code",
   "execution_count": 9,
   "metadata": {},
   "outputs": [
    {
     "data": {
      "text/plain": [
       "DeviceArray([0., 0., 1., 0., 0., 1., 0., 0., 0., 0., 0., 1., 1., 0., 0.,\n",
       "             0., 0., 0., 0., 0., 0., 0., 0., 0., 0., 0., 0., 0., 0., 0.,\n",
       "             0., 0., 0., 0., 0., 0., 0., 0., 0., 0., 0., 0., 0., 0., 0.,\n",
       "             0., 0., 0., 0., 1., 0., 1., 0., 0., 0., 0., 0., 0., 0., 0.,\n",
       "             0., 0., 0., 0., 0., 0., 0., 0., 0., 0., 0., 0., 0., 1., 0.,\n",
       "             0., 0., 0., 0., 0., 0., 0., 1., 0., 0., 0., 0., 0., 0., 0.,\n",
       "             0., 0., 0., 0., 0., 0., 0., 0., 0., 1., 1., 0., 1., 0., 0.,\n",
       "             0., 1., 0., 0., 0., 0., 0., 0., 0., 0., 0., 1., 0., 1., 0.,\n",
       "             0., 0., 0., 0., 0., 0., 0., 0., 0., 0., 0., 0., 0., 0., 1.,\n",
       "             0., 0., 0., 0., 1., 0., 1., 0., 1., 0., 0., 0., 0., 0., 0.,\n",
       "             0., 0., 0., 0., 0., 0., 1., 0., 0., 0., 0., 0., 0., 0., 0.,\n",
       "             0., 0., 0., 0., 1., 0., 0., 0., 0., 0., 0., 0., 0., 0., 0.,\n",
       "             0., 0., 0., 0., 0., 0., 0., 0., 0., 0., 0., 1., 0., 0., 0.,\n",
       "             0., 1., 0., 0., 0., 0., 0., 0., 0., 0., 0., 0., 0., 0., 0.,\n",
       "             0., 1., 0., 1., 0., 0., 0., 1., 0., 0., 1., 0., 0., 1., 0.,\n",
       "             1., 0., 1., 0., 0., 0., 0., 0., 1., 0., 0., 0., 0., 0., 1.,\n",
       "             0., 0., 0., 1., 0., 0., 1., 0., 0., 0., 0., 0., 0., 0., 0.,\n",
       "             0., 1., 0., 0., 0., 0., 1., 1., 0., 0., 0., 0., 0., 0., 0.,\n",
       "             0., 0., 0., 0., 0., 0., 0., 0., 0., 0., 0., 0., 0., 0., 0.,\n",
       "             0., 0., 0., 0., 0., 0., 1., 0., 0., 0., 1., 0., 1., 0., 0.,\n",
       "             0., 1., 0., 0., 0., 1., 0., 0., 0., 0., 0., 1., 0., 0., 0.,\n",
       "             0., 0., 0., 0., 0., 0., 0., 0., 0., 0., 0., 0., 0., 0., 1.,\n",
       "             1., 1., 0., 0., 0., 0., 0., 0., 0., 0., 0., 0., 0., 1., 0.,\n",
       "             0., 0., 1., 0., 0., 0., 0., 0., 0., 0., 0., 0., 0., 1., 0.,\n",
       "             0., 0., 0., 0., 0., 0., 0., 1., 1., 0., 0., 0., 0., 0., 0.,\n",
       "             0., 0., 0., 0., 0., 0., 0., 0., 0., 0., 0., 0., 0., 0., 0.,\n",
       "             0., 0., 0., 0., 0., 0., 1., 1., 0., 0., 0., 0., 1., 0., 1.,\n",
       "             0., 0., 1., 0., 0., 0., 0., 0., 0., 0., 0., 0., 0., 0., 0.,\n",
       "             0., 0., 0., 0., 0., 0., 0., 0., 1., 0., 0., 1., 0., 0., 0.,\n",
       "             0., 0., 0., 0., 0., 0., 0., 0., 1., 0., 0., 0., 0., 0., 1.,\n",
       "             0., 0., 0., 0., 0., 0., 0., 1., 0., 0., 0., 0., 0., 1., 0.,\n",
       "             0., 0., 0., 0., 0., 0., 0., 0., 1., 1., 0., 1., 0., 0., 0.,\n",
       "             0., 0., 0., 0., 1., 0., 0., 0., 0., 0., 0., 0., 0., 0., 0.,\n",
       "             0., 0., 0., 0., 0.], dtype=float32)"
      ]
     },
     "execution_count": 9,
     "metadata": {},
     "output_type": "execute_result"
    }
   ],
   "source": [
    "censor_label"
   ]
  },
  {
   "cell_type": "code",
   "execution_count": 10,
   "metadata": {},
   "outputs": [],
   "source": [
    "y_obs = y.clip(a_max=c)"
   ]
  },
  {
   "cell_type": "code",
   "execution_count": 11,
   "metadata": {},
   "outputs": [
    {
     "data": {
      "text/plain": [
       "DeviceArray([4.3776464e+00, 4.6362615e+00, 8.0000000e+00, 1.5325994e+00,\n",
       "             1.0261387e+00, 8.0000000e+00, 3.1019723e+00, 5.3426857e+00,\n",
       "             4.7022119e+00, 5.5207953e+00, 1.4228680e+00, 8.0000000e+00,\n",
       "             8.0000000e+00, 5.7343321e+00, 5.8120811e-01, 1.7148134e+00,\n",
       "             4.6875095e+00, 3.6019182e+00, 3.5998695e+00, 1.4522029e+00,\n",
       "             1.4926254e+00, 5.2420735e-01, 6.3451938e-02, 4.0326279e-01,\n",
       "             2.4711673e+00, 1.9222857e+00, 7.8271353e-01, 6.7459118e-01,\n",
       "             1.7220433e+00, 4.4319123e-01, 3.3171782e-01, 2.7299571e-01,\n",
       "             2.8046623e-01, 6.0104675e+00, 4.0208688e+00, 1.0217892e+00,\n",
       "             6.2720098e+00, 3.7831717e+00, 3.8560040e+00, 3.7828767e+00,\n",
       "             2.1056378e+00, 3.6766067e+00, 1.7647116e+00, 2.8840001e+00,\n",
       "             2.7884123e-01, 4.3340962e-02, 4.1297565e+00, 7.7971417e-01,\n",
       "             3.8573990e+00, 8.0000000e+00, 2.6359487e+00, 8.0000000e+00,\n",
       "             2.7234886e+00, 2.9648626e+00, 2.0026181e+00, 6.5510383e+00,\n",
       "             4.8029155e-01, 1.6213020e+00, 6.0508931e-01, 1.0648987e+00,\n",
       "             6.0325251e+00, 1.3600427e+00, 2.6731651e+00, 2.9074631e+00,\n",
       "             3.5238543e+00, 1.5319078e+00, 3.2454772e+00, 6.9407189e-01,\n",
       "             6.0962611e-01, 2.3432677e+00, 3.3677847e+00, 1.0012945e+00,\n",
       "             7.3506732e+00, 8.0000000e+00, 5.6730211e-01, 2.0988104e+00,\n",
       "             3.7539771e+00, 2.1225529e+00, 4.0177994e+00, 1.5593021e+00,\n",
       "             5.4901819e+00, 5.3058796e+00, 8.0000000e+00, 7.9298544e-01,\n",
       "             1.1546278e+00, 1.8446574e+00, 4.4544697e+00, 4.8576465e-01,\n",
       "             2.9514384e+00, 4.3583632e+00, 2.7898862e+00, 7.2299910e-01,\n",
       "             5.3543752e-01, 1.8019142e+00, 2.4965241e+00, 2.4007108e+00,\n",
       "             1.6020651e-01, 2.9958119e+00, 9.3673325e-01, 8.0000000e+00,\n",
       "             8.0000000e+00, 3.9306371e+00, 8.0000000e+00, 3.0498021e+00,\n",
       "             1.6608465e+00, 1.1960295e+00, 8.0000000e+00, 7.9301124e+00,\n",
       "             3.6827660e+00, 1.8987702e-01, 8.0339265e-01, 1.5568974e+00,\n",
       "             2.2701794e-01, 5.7460675e+00, 3.0515199e+00, 4.7900516e-01,\n",
       "             8.0000000e+00, 2.6501095e+00, 8.0000000e+00, 3.9388824e-01,\n",
       "             1.4203384e+00, 6.4144139e+00, 2.9084005e+00, 1.0867006e+00,\n",
       "             2.2857554e+00, 2.6855883e-01, 4.3251567e+00, 4.5353577e-01,\n",
       "             1.6880493e+00, 1.2943649e+00, 5.2243962e+00, 2.4133873e+00,\n",
       "             1.4735367e+00, 4.0880265e+00, 8.0000000e+00, 3.8072352e+00,\n",
       "             7.8351027e-01, 6.9538511e-02, 2.4390243e-01, 8.0000000e+00,\n",
       "             3.2460892e+00, 8.0000000e+00, 3.8019507e+00, 8.0000000e+00,\n",
       "             2.3408363e+00, 1.4003046e+00, 6.1776900e+00, 2.1654598e-01,\n",
       "             3.0236208e-01, 1.5423441e+00, 4.1892343e+00, 4.4716182e-01,\n",
       "             3.6607223e+00, 8.8764203e-01, 2.7640444e-01, 2.1167631e+00,\n",
       "             8.0000000e+00, 6.6185946e+00, 6.9867244e+00, 4.4966297e+00,\n",
       "             1.4258336e+00, 1.8026447e-01, 1.5509921e-01, 1.3947833e+00,\n",
       "             2.2953222e+00, 1.5883808e-01, 2.8766172e+00, 3.6031911e-01,\n",
       "             1.4677529e+00, 8.0000000e+00, 3.8824236e+00, 2.7696781e+00,\n",
       "             3.8730779e+00, 1.6248506e+00, 7.1696121e-01, 4.4955034e+00,\n",
       "             9.9283952e-01, 1.2150388e+00, 4.5035176e-02, 2.8037460e+00,\n",
       "             2.1879051e+00, 6.5925229e-01, 8.8814318e-01, 2.6731780e+00,\n",
       "             1.5681299e+00, 2.3257982e-02, 4.2035899e+00, 3.1844941e-01,\n",
       "             2.7986076e+00, 1.8967748e-01, 1.8604397e+00, 8.0000000e+00,\n",
       "             2.3673794e+00, 7.5496836e+00, 6.1825174e-01, 5.0254049e+00,\n",
       "             8.0000000e+00, 3.3091161e+00, 1.1637805e+00, 5.1949415e+00,\n",
       "             7.2584832e-01, 5.1652122e+00, 3.1658368e+00, 9.8818861e-02,\n",
       "             5.5656238e+00, 3.8937564e+00, 1.9003358e+00, 4.5136094e+00,\n",
       "             1.2588272e+00, 3.5218818e+00, 8.7290376e-01, 8.0000000e+00,\n",
       "             1.6802561e+00, 8.0000000e+00, 1.1458085e+00, 2.0460098e+00,\n",
       "             6.9219387e-01, 8.0000000e+00, 8.0344808e-01, 3.5814278e+00,\n",
       "             8.0000000e+00, 2.3955517e+00, 7.9957795e-01, 8.0000000e+00,\n",
       "             5.3307204e+00, 8.0000000e+00, 2.2980857e+00, 8.0000000e+00,\n",
       "             1.7741703e+00, 3.9241731e+00, 2.2775671e+00, 3.2100806e+00,\n",
       "             2.2231309e+00, 8.0000000e+00, 6.6249216e-01, 3.4861474e+00,\n",
       "             3.1726003e+00, 2.5202258e+00, 4.1138577e+00, 8.0000000e+00,\n",
       "             3.5080397e-01, 5.1815109e+00, 3.4779177e+00, 8.0000000e+00,\n",
       "             1.2523038e+00, 7.1658974e+00, 8.0000000e+00, 4.3600712e+00,\n",
       "             4.8745809e+00, 3.1098127e+00, 9.0664780e-01, 3.6918300e-01,\n",
       "             5.3570466e+00, 2.0738870e-02, 2.4280395e-01, 2.5578339e+00,\n",
       "             8.0000000e+00, 1.8727475e+00, 3.4334904e-01, 1.7944834e+00,\n",
       "             2.4632301e+00, 8.0000000e+00, 8.0000000e+00, 5.1770717e-01,\n",
       "             4.9431672e+00, 7.1649742e-01, 1.0505736e+00, 2.9386723e+00,\n",
       "             5.1578078e+00, 2.2807038e-01, 9.5900208e-01, 3.5595242e-02,\n",
       "             7.2504991e-01, 1.2178005e+00, 4.5552654e-03, 1.4875591e+00,\n",
       "             5.7919800e-01, 5.2911410e+00, 2.3070900e+00, 1.8983674e-01,\n",
       "             1.0069556e+00, 5.2069087e+00, 5.3008091e-01, 4.2427754e+00,\n",
       "             1.7883848e+00, 8.2972240e-01, 2.9781032e+00, 1.3631927e+00,\n",
       "             3.0015142e+00, 7.2279987e+00, 3.9571450e+00, 8.0000000e+00,\n",
       "             3.2082191e+00, 2.7651920e+00, 5.3704195e+00, 8.0000000e+00,\n",
       "             1.0222476e+00, 8.0000000e+00, 7.8067176e-02, 3.5021472e+00,\n",
       "             3.0895784e+00, 8.0000000e+00, 5.7190061e+00, 4.1873093e+00,\n",
       "             6.9730496e-01, 8.0000000e+00, 7.0140141e-01, 1.9712812e+00,\n",
       "             2.2177384e+00, 1.3061653e+00, 1.3385295e+00, 8.0000000e+00,\n",
       "             2.0363479e+00, 2.1477418e+00, 1.1137617e+00, 1.1812928e+00,\n",
       "             7.0763296e-01, 1.8931426e+00, 8.8006544e-01, 1.4463787e-01,\n",
       "             8.6377032e-02, 1.6610247e+00, 1.5050189e+00, 2.8676674e+00,\n",
       "             2.8511479e+00, 2.4640951e+00, 4.9602442e+00, 3.0406740e+00,\n",
       "             3.3656871e+00, 8.0000000e+00, 8.0000000e+00, 8.0000000e+00,\n",
       "             1.8833612e+00, 4.3918690e-01, 2.7776608e+00, 4.4777918e+00,\n",
       "             8.4252739e-01, 9.8132994e-03, 7.4193816e+00, 6.5505257e+00,\n",
       "             1.9076774e+00, 3.3664606e+00, 1.4954683e+00, 8.0000000e+00,\n",
       "             8.9334595e-01, 1.0115972e+00, 7.6907533e-01, 8.0000000e+00,\n",
       "             2.2140903e+00, 1.3911899e+00, 1.6937335e+00, 4.5174642e+00,\n",
       "             1.9011246e+00, 1.1254245e+00, 3.9561379e+00, 2.3039942e+00,\n",
       "             3.4324341e+00, 1.9166516e+00, 8.0000000e+00, 1.3403777e+00,\n",
       "             2.5045667e-02, 4.2851768e+00, 4.1781870e-01, 5.4461975e+00,\n",
       "             1.0964829e+00, 9.9023032e-01, 1.3389748e+00, 8.0000000e+00,\n",
       "             8.0000000e+00, 2.3918145e+00, 1.7891314e+00, 3.7883055e+00,\n",
       "             5.3163781e+00, 3.7565150e+00, 3.7145433e-01, 1.2705784e+00,\n",
       "             4.3181390e-01, 4.4582715e+00, 1.1979393e+00, 2.3878849e+00,\n",
       "             3.6848760e+00, 3.9780190e+00, 4.0212169e+00, 5.2804875e+00,\n",
       "             4.1962209e+00, 1.9396290e+00, 6.7830334e+00, 2.3012044e+00,\n",
       "             1.4550428e+00, 3.3497458e+00, 4.6190557e+00, 7.2189391e-01,\n",
       "             2.1240659e+00, 4.2324200e+00, 6.0495415e+00, 3.0999877e+00,\n",
       "             8.0000000e+00, 8.0000000e+00, 4.6572304e+00, 1.4486555e+00,\n",
       "             7.3952470e+00, 8.9964136e-02, 8.0000000e+00, 3.6632848e+00,\n",
       "             8.0000000e+00, 2.4932923e+00, 7.7558322e+00, 8.0000000e+00,\n",
       "             4.3119721e+00, 2.4653895e+00, 7.5298486e+00, 4.2728186e+00,\n",
       "             1.6993657e+00, 1.0407941e+00, 1.6061925e+00, 3.9806681e+00,\n",
       "             4.3970528e+00, 4.4443221e+00, 8.1150264e-01, 1.0569092e+00,\n",
       "             1.2291137e+00, 1.6508316e+00, 1.2546227e+00, 5.9679956e+00,\n",
       "             7.1817021e+00, 2.0844116e+00, 4.4671454e+00, 5.6935725e+00,\n",
       "             8.0000000e+00, 1.5012518e-01, 1.5135775e+00, 8.0000000e+00,\n",
       "             5.1592510e-02, 3.7193451e+00, 1.3588111e+00, 7.6593680e+00,\n",
       "             4.1229444e+00, 2.6867962e+00, 3.9735785e+00, 2.5169587e+00,\n",
       "             1.1874547e+00, 1.6431576e+00, 1.9046698e+00, 8.0000000e+00,\n",
       "             3.9656010e-01, 8.9792138e-01, 5.5500002e+00, 3.6818635e+00,\n",
       "             6.3662882e+00, 8.0000000e+00, 3.2913765e-01, 1.7956464e+00,\n",
       "             3.9716866e+00, 3.1099036e+00, 1.2310896e-02, 3.9902780e+00,\n",
       "             2.5042107e+00, 8.0000000e+00, 7.6491404e-01, 6.4668231e+00,\n",
       "             2.8730736e+00, 5.7940197e+00, 4.0046377e+00, 8.0000000e+00,\n",
       "             5.5150086e-01, 5.4341660e+00, 6.5789866e+00, 2.3246627e+00,\n",
       "             5.2739625e+00, 3.2048790e+00, 1.5178468e+00, 1.2579569e+00,\n",
       "             8.0425441e-01, 8.0000000e+00, 8.0000000e+00, 3.0201666e+00,\n",
       "             8.0000000e+00, 8.2034898e-01, 4.1608140e-01, 1.5329411e+00,\n",
       "             6.7898564e+00, 2.1195513e-01, 1.1444902e+00, 8.1002742e-01,\n",
       "             8.0000000e+00, 2.1723180e-01, 6.8245625e+00, 5.5244970e-01,\n",
       "             1.6460302e+00, 3.0600274e-01, 1.3478159e+00, 1.1594017e+00,\n",
       "             1.4066178e+00, 4.7909336e+00, 6.3951964e+00, 2.7303209e+00,\n",
       "             2.4511878e+00, 4.0486345e+00, 3.6368237e+00, 6.3674121e+00],            dtype=float32)"
      ]
     },
     "execution_count": 11,
     "metadata": {},
     "output_type": "execute_result"
    }
   ],
   "source": [
    "y_obs"
   ]
  },
  {
   "cell_type": "code",
   "execution_count": 12,
   "metadata": {},
   "outputs": [
    {
     "data": {
      "image/png": "[encoded data removed]",
      "text/plain": [
       "<Figure size 432x288 with 1 Axes>"
      ]
     },
     "metadata": {
      "needs_background": "light"
     },
     "output_type": "display_data"
    }
   ],
   "source": [
    "sns.regplot(x, y)\n",
    "sns.regplot(x, y_obs);"
   ]
  },
  {
   "cell_type": "code",
   "execution_count": 13,
   "metadata": {},
   "outputs": [
    {
     "ename": "SyntaxError",
     "evalue": "invalid syntax (<ipython-input-13-78470468c950>, line 12)",
     "output_type": "error",
     "traceback": [
      "\u001b[0;36m  File \u001b[0;32m\"<ipython-input-13-78470468c950>\"\u001b[0;36m, line \u001b[0;32m12\u001b[0m\n\u001b[0;31m    with\u001b[0m\n\u001b[0m         ^\u001b[0m\n\u001b[0;31mSyntaxError\u001b[0m\u001b[0;31m:\u001b[0m invalid syntax\n"
     ]
    }
   ],
   "source": [
    "def Exp_Cdf(x, rate=1.0):\n",
    "    return 1 - np.exp(-rate * x)\n",
    "\n",
    "\n",
    "def model(x, y, censor_label):\n",
    "    a_model = numpyro.sample('a_model', dist.Normal(0., 10.))\n",
    "    b_model = numpyro.sample('b_model', dist.Normal(0., 10.))\n",
    "    \n",
    "    link = softplus(a_model * x + b_model)\n",
    "    rates = 1/link\n",
    "    \n",
    "    with numpyro.plate(\"data\", len(x)):\n",
    "        y_hidden_dist = dist.Exponential(rates)\n",
    "        \n",
    "        "
   ]
  },
  {
   "cell_type": "code",
   "execution_count": null,
   "metadata": {},
   "outputs": [
    {
     "name": "stderr",
     "output_type": "stream",
     "text": [
      "  0%|          | 0/10050 [00:00<?, ?it/s]"
     ]
    }
   ],
   "source": [
    "rng_key = random.PRNGKey(3)\n",
    "rng_key, rng_key_ = random.split(rng_key)\n",
    "\n",
    "# Run NUTS.\n",
    "kernel = NUTS(model)\n",
    "mcmc = MCMC(kernel, 10000, 50)\n",
    "mcmc.run(rng_key_, x=x, y=y, censor_label=censor_label)"
   ]
  },
  {
   "cell_type": "code",
   "execution_count": null,
   "metadata": {},
   "outputs": [],
   "source": [
    "mcmc.print_summary()\n",
    "samples = mcmc.get_samples()"
   ]
  }
 ],
 "metadata": {
  "kernelspec": {
   "display_name": "Python 3",
   "language": "python",
   "name": "python3"
  },
  "language_info": {
   "codemirror_mode": {
    "name": "ipython",
    "version": 3
   },
   "file_extension": ".py",
   "mimetype": "text/x-python",
   "name": "python",
   "nbconvert_exporter": "python",
   "pygments_lexer": "ipython3",
   "version": "3.7.6"
  }
 },
 "nbformat": 4,
 "nbformat_minor": 4
}
