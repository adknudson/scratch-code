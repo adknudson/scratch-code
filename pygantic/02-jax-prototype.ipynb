{
 "cells": [
  {
   "cell_type": "code",
   "execution_count": 22,
   "metadata": {},
   "outputs": [],
   "source": [
    "import jax.numpy as np\n",
    "from jax import jit\n",
    "from jax import random\n",
    "from jax.scipy import stats as sps\n",
    "\n",
    "import numpy as onp\n",
    "from scipy import stats as osps"
   ]
  },
  {
   "cell_type": "markdown",
   "metadata": {},
   "source": [
    "# Original Numpy"
   ]
  },
  {
   "cell_type": "code",
   "execution_count": 23,
   "metadata": {},
   "outputs": [],
   "source": [
    "def normal2marginal(x, margin):\n",
    "    return margin[0].ppf(osps.norm.cdf(x), *margin[1:])\n",
    "\n",
    "\n",
    "def rvec(n, rho, margins):\n",
    "    d = rho.shape[0]\n",
    "    z = onp.random.multivariate_normal(mean=onp.zeros(d),\n",
    "                                       cov=rho,\n",
    "                                       size=n)\n",
    "    u = onp.empty_like(z)\n",
    "    for i, c in enumerate(z.T):\n",
    "        u[:,i] = normal2marginal(c, my_margins[i])\n",
    "    \n",
    "    return u"
   ]
  },
  {
   "cell_type": "code",
   "execution_count": 34,
   "metadata": {},
   "outputs": [],
   "source": [
    "my_margins = [(osps.gamma, 8, 2),\n",
    "              (osps.gamma, 12, 3),\n",
    "              (osps.gamma, 4, 4),\n",
    "              (osps.gamma, 16, 1)]\n",
    "x = rvec(10, onp.eye(4), my_margins)"
   ]
  },
  {
   "cell_type": "code",
   "execution_count": 35,
   "metadata": {},
   "outputs": [
    {
     "name": "stdout",
     "output_type": "stream",
     "text": [
      "9.52 ms ± 229 µs per loop (mean ± std. dev. of 7 runs, 100 loops each)\n"
     ]
    }
   ],
   "source": [
    "%timeit rvec(2000, onp.eye(4), my_margins)"
   ]
  },
  {
   "cell_type": "code",
   "execution_count": 26,
   "metadata": {},
   "outputs": [
    {
     "data": {
      "text/plain": [
       "array([[ 2., 14.,  9., 49.],\n",
       "       [ 1., 18., 25., 48.],\n",
       "       [ 3., 16.,  3., 29.],\n",
       "       [ 5., 18., 21., 37.],\n",
       "       [ 8., 24.,  8., 34.],\n",
       "       [11., 20.,  6., 41.],\n",
       "       [ 3., 16.,  7., 48.],\n",
       "       [ 0., 19.,  8., 35.],\n",
       "       [ 3., 12., 11., 40.],\n",
       "       [ 4., 25.,  2., 23.]])"
      ]
     },
     "execution_count": 26,
     "metadata": {},
     "output_type": "execute_result"
    }
   ],
   "source": [
    "x"
   ]
  },
  {
   "cell_type": "markdown",
   "metadata": {},
   "source": [
    "# Jax Numpy"
   ]
  },
  {
   "cell_type": "code",
   "execution_count": 40,
   "metadata": {},
   "outputs": [],
   "source": [
    "@jit\n",
    "def normal2marginal2(x, margin):\n",
    "    return margin[0].ppf(stats.norm.cdf(x), *margin[1:])\n",
    "\n",
    "\n",
    "def rvec2(key, n, rho, margins):\n",
    "    d = rho.shape[0]\n",
    "    z = random.multivariate_normal(key,\n",
    "                                   mean=np.zeros(d),\n",
    "                                   cov=rho,\n",
    "                                   shape=(n,),\n",
    "                                   dtype=np.float32)\n",
    "    return np.stack([normal2marginal(v, margins[i]) for i, v in enumerate(z.T)])"
   ]
  },
  {
   "cell_type": "code",
   "execution_count": 41,
   "metadata": {},
   "outputs": [],
   "source": [
    "key = random.PRNGKey(0)\n",
    "my_margins2  = [(stats.gamma, 8, 2),\n",
    "                (stats.gamma, 12, 3),\n",
    "                (stats.gamma, 4, 4),\n",
    "                (stats.gamma, 16, 1)]\n",
    "x = rvec2(key, 10, np.eye(4), my_margins2)"
   ]
  },
  {
   "cell_type": "code",
   "execution_count": 42,
   "metadata": {},
   "outputs": [
    {
     "data": {
      "text/plain": [
       "DeviceArray([[ 9.833338 , 10.337629 , 11.287834 ,  9.608943 ,  8.870486 ,\n",
       "              10.056011 ,  7.523633 ,  8.918815 , 16.096806 ,  6.259414 ],\n",
       "             [ 9.586226 , 17.54643  , 10.3423395, 21.2349   , 12.142886 ,\n",
       "              15.855058 , 13.0485325, 15.689952 , 23.330044 , 12.770042 ],\n",
       "             [10.530828 ,  5.928883 ,  7.152106 ,  6.982293 ,  6.4090323,\n",
       "               6.9920473,  6.5529485,  9.491214 , 10.033285 ,  8.352106 ],\n",
       "             [18.552755 , 19.784525 , 12.112805 , 27.52418  , 17.31361  ,\n",
       "              17.112753 , 17.965212 , 21.758514 , 14.025983 , 16.05636  ]],            dtype=float32)"
      ]
     },
     "execution_count": 42,
     "metadata": {},
     "output_type": "execute_result"
    }
   ],
   "source": [
    "x"
   ]
  },
  {
   "cell_type": "code",
   "execution_count": 43,
   "metadata": {},
   "outputs": [
    {
     "name": "stdout",
     "output_type": "stream",
     "text": [
      "9.82 ms ± 198 µs per loop (mean ± std. dev. of 7 runs, 100 loops each)\n"
     ]
    }
   ],
   "source": [
    "%timeit rvec2(key, 2000, np.eye(4), my_margins2).block_until_ready()"
   ]
  },
  {
   "cell_type": "code",
   "execution_count": 44,
   "metadata": {},
   "outputs": [],
   "source": [
    "rvec2_jitted = jit(rvec2)"
   ]
  },
  {
   "cell_type": "code",
   "execution_count": 46,
   "metadata": {},
   "outputs": [
    {
     "ename": "TypeError",
     "evalue": "Argument '<scipy.stats._continuous_distns.gamma_gen object at 0x7f4aea669e50>' of type <class 'scipy.stats._continuous_distns.gamma_gen'> is not a valid JAX type",
     "output_type": "error",
     "traceback": [
      "\u001b[0;31m---------------------------------------------------------------------------\u001b[0m",
      "\u001b[0;31mTypeError\u001b[0m                                 Traceback (most recent call last)",
      "\u001b[0;32m<ipython-input-46-b518beb53d35>\u001b[0m in \u001b[0;36m<module>\u001b[0;34m\u001b[0m\n\u001b[0;32m----> 1\u001b[0;31m \u001b[0mrvec2_jitted\u001b[0m\u001b[0;34m(\u001b[0m\u001b[0mkey\u001b[0m\u001b[0;34m,\u001b[0m \u001b[0;36m2000\u001b[0m\u001b[0;34m,\u001b[0m \u001b[0mnp\u001b[0m\u001b[0;34m.\u001b[0m\u001b[0meye\u001b[0m\u001b[0;34m(\u001b[0m\u001b[0;36m4\u001b[0m\u001b[0;34m)\u001b[0m\u001b[0;34m,\u001b[0m \u001b[0mmy_margins2\u001b[0m\u001b[0;34m)\u001b[0m\u001b[0;34m.\u001b[0m\u001b[0mblock_until_ready\u001b[0m\u001b[0;34m(\u001b[0m\u001b[0;34m)\u001b[0m\u001b[0;34m\u001b[0m\u001b[0;34m\u001b[0m\u001b[0m\n\u001b[0m",
      "\u001b[0;32m~/miniconda3/envs/numpyro-gpu/lib/python3.7/site-packages/jax/api.py\u001b[0m in \u001b[0;36mf_jitted\u001b[0;34m(*args, **kwargs)\u001b[0m\n\u001b[1;32m    145\u001b[0m       \u001b[0mdyn_args\u001b[0m \u001b[0;34m=\u001b[0m \u001b[0margs\u001b[0m\u001b[0;34m\u001b[0m\u001b[0;34m\u001b[0m\u001b[0m\n\u001b[1;32m    146\u001b[0m     \u001b[0margs_flat\u001b[0m\u001b[0;34m,\u001b[0m \u001b[0min_tree\u001b[0m \u001b[0;34m=\u001b[0m \u001b[0mtree_flatten\u001b[0m\u001b[0;34m(\u001b[0m\u001b[0;34m(\u001b[0m\u001b[0mdyn_args\u001b[0m\u001b[0;34m,\u001b[0m \u001b[0mkwargs\u001b[0m\u001b[0;34m)\u001b[0m\u001b[0;34m)\u001b[0m\u001b[0;34m\u001b[0m\u001b[0;34m\u001b[0m\u001b[0m\n\u001b[0;32m--> 147\u001b[0;31m     \u001b[0m_check_args\u001b[0m\u001b[0;34m(\u001b[0m\u001b[0margs_flat\u001b[0m\u001b[0;34m)\u001b[0m\u001b[0;34m\u001b[0m\u001b[0;34m\u001b[0m\u001b[0m\n\u001b[0m\u001b[1;32m    148\u001b[0m     \u001b[0mflat_fun\u001b[0m\u001b[0;34m,\u001b[0m \u001b[0mout_tree\u001b[0m \u001b[0;34m=\u001b[0m \u001b[0mflatten_fun\u001b[0m\u001b[0;34m(\u001b[0m\u001b[0mf\u001b[0m\u001b[0;34m,\u001b[0m \u001b[0min_tree\u001b[0m\u001b[0;34m)\u001b[0m\u001b[0;34m\u001b[0m\u001b[0;34m\u001b[0m\u001b[0m\n\u001b[1;32m    149\u001b[0m     out = xla.xla_call(flat_fun, *args_flat, device=device, backend=backend,\n",
      "\u001b[0;32m~/miniconda3/envs/numpyro-gpu/lib/python3.7/site-packages/jax/api.py\u001b[0m in \u001b[0;36m_check_args\u001b[0;34m(args)\u001b[0m\n\u001b[1;32m   1472\u001b[0m     \u001b[0;32mif\u001b[0m \u001b[0;32mnot\u001b[0m \u001b[0;34m(\u001b[0m\u001b[0misinstance\u001b[0m\u001b[0;34m(\u001b[0m\u001b[0marg\u001b[0m\u001b[0;34m,\u001b[0m \u001b[0mcore\u001b[0m\u001b[0;34m.\u001b[0m\u001b[0mTracer\u001b[0m\u001b[0;34m)\u001b[0m \u001b[0;32mor\u001b[0m \u001b[0m_valid_jaxtype\u001b[0m\u001b[0;34m(\u001b[0m\u001b[0marg\u001b[0m\u001b[0;34m)\u001b[0m\u001b[0;34m)\u001b[0m\u001b[0;34m:\u001b[0m\u001b[0;34m\u001b[0m\u001b[0;34m\u001b[0m\u001b[0m\n\u001b[1;32m   1473\u001b[0m       raise TypeError(\"Argument '{}' of type {} is not a valid JAX type\"\n\u001b[0;32m-> 1474\u001b[0;31m                       .format(arg, type(arg)))\n\u001b[0m\u001b[1;32m   1475\u001b[0m \u001b[0;34m\u001b[0m\u001b[0m\n\u001b[1;32m   1476\u001b[0m \u001b[0;32mdef\u001b[0m \u001b[0m_valid_jaxtype\u001b[0m\u001b[0;34m(\u001b[0m\u001b[0marg\u001b[0m\u001b[0;34m)\u001b[0m\u001b[0;34m:\u001b[0m\u001b[0;34m\u001b[0m\u001b[0;34m\u001b[0m\u001b[0m\n",
      "\u001b[0;31mTypeError\u001b[0m: Argument '<scipy.stats._continuous_distns.gamma_gen object at 0x7f4aea669e50>' of type <class 'scipy.stats._continuous_distns.gamma_gen'> is not a valid JAX type"
     ]
    }
   ],
   "source": [
    "rvec2_jitted(key, 2000, np.eye(4), my_margins2).block_until_ready()"
   ]
  },
  {
   "cell_type": "code",
   "execution_count": null,
   "metadata": {},
   "outputs": [],
   "source": []
  }
 ],
 "metadata": {
  "kernelspec": {
   "display_name": "Python 3",
   "language": "python",
   "name": "python3"
  },
  "language_info": {
   "codemirror_mode": {
    "name": "ipython",
    "version": 3
   },
   "file_extension": ".py",
   "mimetype": "text/x-python",
   "name": "python",
   "nbconvert_exporter": "python",
   "pygments_lexer": "ipython3",
   "version": "3.7.7"
  }
 },
 "nbformat": 4,
 "nbformat_minor": 4
}
