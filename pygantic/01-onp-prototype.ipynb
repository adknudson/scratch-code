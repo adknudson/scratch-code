{
 "cells": [
  {
   "cell_type": "markdown",
   "metadata": {},
   "source": [
    "# Prototype of NORTA Algorithm\n",
    "The goal is to take the existing methods in our `bigsimr` package and translate them to python code using the numpy library. The code here is written with the intention of later using `jax.numpy` for JIT compilation and GPU acceleration. Jax works best with small composable functions, so every part of the `rvec` function should be broken up into its simplest pieces."
   ]
  },
  {
   "cell_type": "code",
   "execution_count": 7,
   "metadata": {},
   "outputs": [],
   "source": [
    "import numpy as np\n",
    "from scipy import stats"
   ]
  },
  {
   "cell_type": "code",
   "execution_count": 58,
   "metadata": {},
   "outputs": [],
   "source": [
    "def normal2marginal(x, margin):\n",
    "    return margin[0].ppf(stats.norm.cdf(x), *margin[1:])"
   ]
  },
  {
   "cell_type": "code",
   "execution_count": 59,
   "metadata": {},
   "outputs": [],
   "source": [
    "def rvec(n, rho, margins):\n",
    "    \n",
    "    d = rho.shape[0]\n",
    "    \n",
    "    # Generate multivariate normal data\n",
    "    z = np.random.multivariate_normal(mean=np.zeros(d),\n",
    "                                      cov=rho,\n",
    "                                      size=n)\n",
    "    \n",
    "    # For each margin, apply `normal2marginal()`\n",
    "    u = np.empty_like(z)\n",
    "    for i, c in enumerate(z.T):\n",
    "        u[:,i] = normal2marginal(c, my_margins[i])\n",
    "    \n",
    "    \n",
    "    return u"
   ]
  },
  {
   "cell_type": "code",
   "execution_count": 60,
   "metadata": {},
   "outputs": [],
   "source": [
    "my_margins = [(stats.nbinom, 12, 0.75),\n",
    "              (stats.nbinom, 20, 0.50),\n",
    "              (stats.nbinom, 5, 0.35),\n",
    "              (stats.nbinom, 12, 0.25)]\n",
    "x = rvec(10, np.eye(4), my_margins)"
   ]
  },
  {
   "cell_type": "code",
   "execution_count": 61,
   "metadata": {},
   "outputs": [
    {
     "name": "stdout",
     "output_type": "stream",
     "text": [
      "41.1 ms ± 128 µs per loop (mean ± std. dev. of 7 runs, 10 loops each)\n"
     ]
    }
   ],
   "source": [
    "%timeit rvec(2000, np.eye(4), my_margins)"
   ]
  },
  {
   "cell_type": "code",
   "execution_count": 62,
   "metadata": {},
   "outputs": [
    {
     "data": {
      "text/plain": [
       "array([[ 4., 18., 12., 51.],\n",
       "       [ 2., 27.,  3., 27.],\n",
       "       [ 8., 22., 14., 32.],\n",
       "       [ 4., 13., 17., 24.],\n",
       "       [ 2., 15., 16., 20.],\n",
       "       [ 2., 15., 15., 42.],\n",
       "       [ 3., 16., 15., 22.],\n",
       "       [ 7., 12.,  8., 35.],\n",
       "       [ 2., 24., 14., 46.],\n",
       "       [ 2., 26., 11., 33.]])"
      ]
     },
     "execution_count": 62,
     "metadata": {},
     "output_type": "execute_result"
    }
   ],
   "source": [
    "x"
   ]
  },
  {
   "cell_type": "code",
   "execution_count": null,
   "metadata": {},
   "outputs": [],
   "source": []
  }
 ],
 "metadata": {
  "kernelspec": {
   "display_name": "Python 3",
   "language": "python",
   "name": "python3"
  },
  "language_info": {
   "codemirror_mode": {
    "name": "ipython",
    "version": 3
   },
   "file_extension": ".py",
   "mimetype": "text/x-python",
   "name": "python",
   "nbconvert_exporter": "python",
   "pygments_lexer": "ipython3",
   "version": "3.7.7"
  }
 },
 "nbformat": 4,
 "nbformat_minor": 4
}
