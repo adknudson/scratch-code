{
 "cells": [
  {
   "cell_type": "markdown",
   "metadata": {},
   "source": [
    "Variables\n",
    "\n",
    "$P = R - C$\n",
    "\n",
    "$R = 1500 N$\n",
    "\n",
    "$C = r N$\n",
    "\n",
    "$N = n_0 \\left (1+\\frac{0.15r}{100} \\right )$\n",
    "\n",
    "$P = n_0 \\left (1+\\frac{0.15r}{100} \\right ) \\left (1500\\right ) - r n_0 \\left (1+\\frac{0.15r}{100} \\right )$\n",
    "\n",
    "$P = n_0 \\left (1500-r \\right )\\left (1+\\frac{0.15r}{100} \\right )$\n",
    "\n",
    "Assumptions\n",
    "\n",
    "$r \\in \\left [0, 1500 \\right ]$"
   ]
  },
  {
   "cell_type": "code",
   "execution_count": 2,
   "metadata": {},
   "outputs": [],
   "source": [
    "def f(x):\n",
    "    return (1500 - x) * (1 + 0.15 * x / 100)\n",
    "\n",
    "def f_flipped(x):\n",
    "    return -1 * f(x)"
   ]
  },
  {
   "cell_type": "code",
   "execution_count": 3,
   "metadata": {},
   "outputs": [],
   "source": [
    "from scipy.optimize import minimize_scalar\n",
    "import numpy as np"
   ]
  },
  {
   "cell_type": "code",
   "execution_count": 4,
   "metadata": {},
   "outputs": [
    {
     "name": "stdout",
     "output_type": "stream",
     "text": [
      "     fun: -1760.4166666666667\n",
      " message: 'Solution found.'\n",
      "    nfev: 6\n",
      "  status: 0\n",
      " success: True\n",
      "       x: 416.6666666666671\n"
     ]
    }
   ],
   "source": [
    "res = minimize_scalar(f_flipped, bounds = (0, 1500), method='bounded')\n",
    "print(res)"
   ]
  },
  {
   "cell_type": "markdown",
   "metadata": {},
   "source": [
    "Since we are trying to maximize profits, we need to find the minimum of the flipped function since scipy only offers minimization functions."
   ]
  },
  {
   "cell_type": "code",
   "execution_count": 5,
   "metadata": {},
   "outputs": [],
   "source": [
    "import sympy as sym"
   ]
  },
  {
   "cell_type": "code",
   "execution_count": 6,
   "metadata": {},
   "outputs": [
    {
     "data": {
      "text/latex": [
       "$\\displaystyle x + 2 y$"
      ],
      "text/plain": [
       "x + 2*y"
      ]
     },
     "execution_count": 6,
     "metadata": {},
     "output_type": "execute_result"
    }
   ],
   "source": [
    "x, y = sym.symbols('x y')\n",
    "\n",
    "expr = x + 2*y\n",
    "expr"
   ]
  },
  {
   "cell_type": "code",
   "execution_count": 7,
   "metadata": {},
   "outputs": [
    {
     "data": {
      "text/latex": [
       "$\\displaystyle x + 2 y + 1$"
      ],
      "text/plain": [
       "x + 2*y + 1"
      ]
     },
     "execution_count": 7,
     "metadata": {},
     "output_type": "execute_result"
    }
   ],
   "source": [
    "expr + 1"
   ]
  },
  {
   "cell_type": "code",
   "execution_count": 8,
   "metadata": {},
   "outputs": [
    {
     "data": {
      "text/latex": [
       "$\\displaystyle 2 y$"
      ],
      "text/plain": [
       "2*y"
      ]
     },
     "execution_count": 8,
     "metadata": {},
     "output_type": "execute_result"
    }
   ],
   "source": [
    "expr - x"
   ]
  },
  {
   "cell_type": "code",
   "execution_count": 9,
   "metadata": {},
   "outputs": [
    {
     "data": {
      "text/latex": [
       "$\\displaystyle x^{2} + 2 x y$"
      ],
      "text/plain": [
       "x**2 + 2*x*y"
      ]
     },
     "execution_count": 9,
     "metadata": {},
     "output_type": "execute_result"
    }
   ],
   "source": [
    "sym.expand(x * expr)"
   ]
  },
  {
   "cell_type": "code",
   "execution_count": 10,
   "metadata": {},
   "outputs": [],
   "source": [
    "x, t, z, nu = sym.symbols('x t z nu')"
   ]
  },
  {
   "cell_type": "code",
   "execution_count": 11,
   "metadata": {},
   "outputs": [],
   "source": [
    "sym.init_printing(use_unicode=True)"
   ]
  },
  {
   "cell_type": "code",
   "execution_count": 12,
   "metadata": {},
   "outputs": [
    {
     "data": {
      "image/png": "[encoded data removed]",
      "text/latex": [
       "$\\displaystyle e^{x} \\sin{\\left(x \\right)} + e^{x} \\cos{\\left(x \\right)}$"
      ],
      "text/plain": [
       " x           x       \n",
       "ℯ ⋅sin(x) + ℯ ⋅cos(x)"
      ]
     },
     "execution_count": 12,
     "metadata": {},
     "output_type": "execute_result"
    }
   ],
   "source": [
    "dx = sym.diff(sym.sin(x)*sym.exp(x), x)\n",
    "dx"
   ]
  },
  {
   "cell_type": "code",
   "execution_count": 13,
   "metadata": {},
   "outputs": [
    {
     "data": {
      "image/png": "[encoded data removed]",
      "text/latex": [
       "$\\displaystyle e^{x} \\sin{\\left(x \\right)}$"
      ],
      "text/plain": [
       " x       \n",
       "ℯ ⋅sin(x)"
      ]
     },
     "execution_count": 13,
     "metadata": {},
     "output_type": "execute_result"
    }
   ],
   "source": [
    "sym.integrate(dx, x)"
   ]
  },
  {
   "cell_type": "code",
   "execution_count": 14,
   "metadata": {},
   "outputs": [
    {
     "data": {
      "image/png": "[encoded data removed]",
      "text/latex": [
       "$\\displaystyle \\frac{\\sqrt{2} \\sqrt{\\pi}}{2}$"
      ],
      "text/plain": [
       "√2⋅√π\n",
       "─────\n",
       "  2  "
      ]
     },
     "execution_count": 14,
     "metadata": {},
     "output_type": "execute_result"
    }
   ],
   "source": [
    "sym.integrate(sym.sin(x**2), (x, -sym.oo, sym.oo))"
   ]
  },
  {
   "cell_type": "code",
   "execution_count": 15,
   "metadata": {},
   "outputs": [
    {
     "data": {
      "image/png": "[encoded data removed]",
      "text/latex": [
       "$\\displaystyle 1$"
      ],
      "text/plain": [
       "1"
      ]
     },
     "execution_count": 15,
     "metadata": {},
     "output_type": "execute_result"
    }
   ],
   "source": [
    "sym.limit(sym.sin(x) / x, x, 0)"
   ]
  },
  {
   "cell_type": "code",
   "execution_count": 16,
   "metadata": {},
   "outputs": [
    {
     "data": {
      "image/png": "[encoded data removed]",
      "text/latex": [
       "$\\displaystyle \\left[ - \\sqrt{2}, \\  \\sqrt{2}\\right]$"
      ],
      "text/plain": [
       "[-√2, √2]"
      ]
     },
     "execution_count": 16,
     "metadata": {},
     "output_type": "execute_result"
    }
   ],
   "source": [
    "sym.solve(x**2 - 2, x)"
   ]
  },
  {
   "cell_type": "code",
   "execution_count": 17,
   "metadata": {},
   "outputs": [],
   "source": [
    "y = sym.Function('y')"
   ]
  },
  {
   "cell_type": "code",
   "execution_count": 18,
   "metadata": {},
   "outputs": [
    {
     "data": {
      "image/png": "[encoded data removed]",
      "text/latex": [
       "$\\displaystyle y{\\left(t \\right)} = C_{2} e^{- t} + \\left(C_{1} + \\frac{t}{2}\\right) e^{t}$"
      ],
      "text/plain": [
       "           -t   ⎛     t⎞  t\n",
       "y(t) = C₂⋅ℯ   + ⎜C₁ + ─⎟⋅ℯ \n",
       "                ⎝     2⎠   "
      ]
     },
     "execution_count": 18,
     "metadata": {},
     "output_type": "execute_result"
    }
   ],
   "source": [
    "sym.dsolve(sym.Eq(y(t).diff(t, t) - y(t), sym.exp(t)), y(t))"
   ]
  },
  {
   "cell_type": "code",
   "execution_count": 19,
   "metadata": {},
   "outputs": [],
   "source": [
    "n, r = sym.symbols('n r')\n",
    "\n",
    "P = (n * (1500 - r) * (1 + 0.15 * r / 100))"
   ]
  },
  {
   "cell_type": "code",
   "execution_count": 20,
   "metadata": {},
   "outputs": [
    {
     "data": {
      "image/png": "[encoded data removed]",
      "text/latex": [
       "$\\displaystyle n \\left(1500 - r\\right) \\left(0.0015 r + 1\\right)$"
      ],
      "text/plain": [
       "n⋅(1500 - r)⋅(0.0015⋅r + 1)"
      ]
     },
     "execution_count": 20,
     "metadata": {},
     "output_type": "execute_result"
    }
   ],
   "source": [
    "P"
   ]
  },
  {
   "cell_type": "code",
   "execution_count": 21,
   "metadata": {},
   "outputs": [
    {
     "data": {
      "image/png": "[encoded data removed]",
      "text/latex": [
       "$\\displaystyle \\left[ 416.666666666667\\right]$"
      ],
      "text/plain": [
       "[416.666666666667]"
      ]
     },
     "execution_count": 21,
     "metadata": {},
     "output_type": "execute_result"
    }
   ],
   "source": [
    "sym.solve(sym.diff(P, r), r)"
   ]
  },
  {
   "cell_type": "code",
   "execution_count": 22,
   "metadata": {},
   "outputs": [],
   "source": [
    "D = sym.Interval(0, 1500)"
   ]
  },
  {
   "cell_type": "code",
   "execution_count": 23,
   "metadata": {},
   "outputs": [
    {
     "data": {
      "image/png": "[encoded data removed]",
      "text/latex": [
       "$\\displaystyle \\left[0, 1500\\right]$"
      ],
      "text/plain": [
       "[0, 1500]"
      ]
     },
     "execution_count": 23,
     "metadata": {},
     "output_type": "execute_result"
    }
   ],
   "source": [
    "D"
   ]
  },
  {
   "cell_type": "code",
   "execution_count": 24,
   "metadata": {},
   "outputs": [
    {
     "data": {
      "image/png": "[encoded data removed]",
      "text/latex": [
       "$\\displaystyle 416.666666666667$"
      ],
      "text/plain": [
       "416.666666666667"
      ]
     },
     "execution_count": 24,
     "metadata": {},
     "output_type": "execute_result"
    }
   ],
   "source": [
    "res = sym.solveset(sym.diff(P, r), r, D)\n",
    "res.args[0]"
   ]
  },
  {
   "cell_type": "code",
   "execution_count": 25,
   "metadata": {},
   "outputs": [
    {
     "data": {
      "image/png": "[encoded data removed]",
      "text/latex": [
       "$\\displaystyle 1760.41666666667 n$"
      ],
      "text/plain": [
       "1760.41666666667⋅n"
      ]
     },
     "execution_count": 25,
     "metadata": {},
     "output_type": "execute_result"
    }
   ],
   "source": [
    "P.subs(r, res.args[0])"
   ]
  },
  {
   "cell_type": "code",
   "execution_count": 26,
   "metadata": {},
   "outputs": [],
   "source": [
    "n, r = sym.symbols('n r', positive=True)"
   ]
  },
  {
   "cell_type": "code",
   "execution_count": 27,
   "metadata": {},
   "outputs": [],
   "source": [
    "P = (n * (1500 - r) * (1 + 0.15 * r / 100))"
   ]
  },
  {
   "cell_type": "code",
   "execution_count": 28,
   "metadata": {},
   "outputs": [
    {
     "data": {
      "image/png": "[encoded data removed]",
      "text/latex": [
       "$\\displaystyle 416.666666666667$"
      ],
      "text/plain": [
       "416.666666666667"
      ]
     },
     "execution_count": 28,
     "metadata": {},
     "output_type": "execute_result"
    }
   ],
   "source": [
    "res = sym.solveset(sym.diff(P, r), r, D)\n",
    "res.args[0]"
   ]
  },
  {
   "cell_type": "code",
   "execution_count": 29,
   "metadata": {},
   "outputs": [
    {
     "data": {
      "image/png": "[encoded data removed]",
      "text/latex": [
       "$\\displaystyle \\text{True}$"
      ],
      "text/plain": [
       "True"
      ]
     },
     "execution_count": 29,
     "metadata": {},
     "output_type": "execute_result"
    }
   ],
   "source": [
    "P.diff(r).diff(r) < 0"
   ]
  },
  {
   "cell_type": "code",
   "execution_count": 30,
   "metadata": {},
   "outputs": [
    {
     "data": {
      "image/png": "[encoded data removed]",
      "text/latex": [
       "$\\displaystyle n \\left(1500 - r\\right) \\left(0.0015 r + 1\\right)$"
      ],
      "text/plain": [
       "n⋅(1500 - r)⋅(0.0015⋅r + 1)"
      ]
     },
     "execution_count": 30,
     "metadata": {},
     "output_type": "execute_result"
    }
   ],
   "source": [
    "P"
   ]
  },
  {
   "cell_type": "code",
   "execution_count": 31,
   "metadata": {},
   "outputs": [],
   "source": [
    "x = sym.symbols('x', real=True)"
   ]
  },
  {
   "cell_type": "code",
   "execution_count": 32,
   "metadata": {},
   "outputs": [],
   "source": [
    "E = sym.Eq(sym.sqrt(x-4), -x**2/2 + 10)"
   ]
  },
  {
   "cell_type": "code",
   "execution_count": 33,
   "metadata": {},
   "outputs": [
    {
     "data": {
      "image/png": "[encoded data removed]",
      "text/latex": [
       "$\\displaystyle \\sqrt{x - 4} = 10 - \\frac{x^{2}}{2}$"
      ],
      "text/plain": [
       "                  2\n",
       "  _______        x \n",
       "╲╱ x - 4  = 10 - ──\n",
       "                 2 "
      ]
     },
     "execution_count": 33,
     "metadata": {},
     "output_type": "execute_result"
    }
   ],
   "source": [
    "E"
   ]
  },
  {
   "cell_type": "code",
   "execution_count": 34,
   "metadata": {},
   "outputs": [
    {
     "data": {
      "image/png": "[encoded data removed]",
      "text/latex": [
       "$\\displaystyle \\left[ - \\frac{\\sqrt{- 2 \\sqrt[3]{\\frac{\\sqrt{9097}}{3} + \\frac{66907}{27}} - \\frac{3296}{9 \\sqrt[3]{\\frac{\\sqrt{9097}}{3} + \\frac{66907}{27}}} + \\frac{8}{\\sqrt{\\frac{80}{3} + \\frac{3296}{9 \\sqrt[3]{\\frac{\\sqrt{9097}}{3} + \\frac{66907}{27}}} + 2 \\sqrt[3]{\\frac{\\sqrt{9097}}{3} + \\frac{66907}{27}}}} + \\frac{160}{3}}}{2} + \\frac{\\sqrt{\\frac{80}{3} + \\frac{3296}{9 \\sqrt[3]{\\frac{\\sqrt{9097}}{3} + \\frac{66907}{27}}} + 2 \\sqrt[3]{\\frac{\\sqrt{9097}}{3} + \\frac{66907}{27}}}}{2}\\right]$"
      ],
      "text/plain": [
       "⎡              _______________________________________________________________\n",
       "⎢             ╱         _______________                                       \n",
       "⎢            ╱         ╱ √9097   66907             3296                       \n",
       "⎢           ╱   - 2⋅3 ╱  ───── + ─────  - ───────────────────── + ────────────\n",
       "⎢          ╱        ╲╱     3       27           _______________           ____\n",
       "⎢         ╱                                    ╱ √9097   66907           ╱    \n",
       "⎢        ╱                                9⋅3 ╱  ───── + ─────          ╱  80 \n",
       "⎢       ╱                                   ╲╱     3       27          ╱   ── \n",
       "⎢      ╱                                                              ╱    3  \n",
       "⎢     ╱                                                              ╱        \n",
       "⎢    ╱                                                              ╱         \n",
       "⎢  ╲╱                                                             ╲╱          \n",
       "⎢- ───────────────────────────────────────────────────────────────────────────\n",
       "⎣                                                                  2          \n",
       "\n",
       "_______________________________________________________                       \n",
       "                                                                              \n",
       "                 8                                 160                        \n",
       "──────────────────────────────────────────────── + ───                        \n",
       "________________________________________________    3             ____________\n",
       "                                _______________                  ╱            \n",
       "           3296                ╱ √9097   66907                  ╱  80         \n",
       "+ ───────────────────── + 2⋅3 ╱  ───── + ─────                 ╱   ── + ──────\n",
       "        _______________     ╲╱     3       27                 ╱    3          \n",
       "       ╱ √9097   66907                                       ╱               ╱\n",
       "  9⋅3 ╱  ───── + ─────                                      ╱           9⋅3 ╱ \n",
       "    ╲╱     3       27                                     ╲╱              ╲╱  \n",
       "─────────────────────────────────────────────────────── + ────────────────────\n",
       "                                                                              \n",
       "\n",
       "                                        ⎤\n",
       "                                        ⎥\n",
       "                                        ⎥\n",
       "                                        ⎥\n",
       "________________________________________⎥\n",
       "                        _______________ ⎥\n",
       "   3296                ╱ √9097   66907  ⎥\n",
       "─────────────── + 2⋅3 ╱  ───── + ─────  ⎥\n",
       "_______________     ╲╱     3       27   ⎥\n",
       " √9097   66907                          ⎥\n",
       " ───── + ─────                          ⎥\n",
       "   3       27                           ⎥\n",
       "────────────────────────────────────────⎥\n",
       "         2                              ⎦"
      ]
     },
     "execution_count": 34,
     "metadata": {},
     "output_type": "execute_result"
    }
   ],
   "source": [
    "res = sym.solve(E, x)\n",
    "res"
   ]
  },
  {
   "cell_type": "code",
   "execution_count": 34,
   "metadata": {},
   "outputs": [
    {
     "data": {
      "image/png": "[encoded data removed]",
      "text/latex": [
       "$$4.33982776588231$$"
      ],
      "text/plain": [
       "4.33982776588231"
      ]
     },
     "execution_count": 34,
     "metadata": {},
     "output_type": "execute_result"
    }
   ],
   "source": [
    "res[0].evalf()"
   ]
  },
  {
   "cell_type": "markdown",
   "metadata": {},
   "source": [
    "$$\\frac{f(x+h)-f(x-h)}{2h} \\cdot \\frac{f(x)}{x}$$"
   ]
  },
  {
   "cell_type": "code",
   "execution_count": null,
   "metadata": {
    "collapsed": true
   },
   "outputs": [],
   "source": []
  }
 ],
 "metadata": {
  "kernelspec": {
   "display_name": "Python 3",
   "language": "python",
   "name": "python3"
  },
  "language_info": {
   "codemirror_mode": {
    "name": "ipython",
    "version": 3
   },
   "file_extension": ".py",
   "mimetype": "text/x-python",
   "name": "python",
   "nbconvert_exporter": "python",
   "pygments_lexer": "ipython3",
   "version": "3.7.3"
  }
 },
 "nbformat": 4,
 "nbformat_minor": 2
}
