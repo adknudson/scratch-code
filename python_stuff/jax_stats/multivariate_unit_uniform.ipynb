{
 "cells": [
  {
   "cell_type": "code",
   "execution_count": 1,
   "metadata": {},
   "outputs": [],
   "source": [
    "import jax\n",
    "from jax import device_get, device_put, random\n",
    "import jax.numpy as np\n",
    "\n",
    "import numpy as onp"
   ]
  },
  {
   "cell_type": "markdown",
   "metadata": {},
   "source": [
    "# Generate Multivariate Normal Data"
   ]
  },
  {
   "cell_type": "code",
   "execution_count": 17,
   "metadata": {},
   "outputs": [],
   "source": [
    "d = 3\n",
    "n = 10\n",
    "r = 0.5\n",
    "\n",
    "key = random.PRNGKey(0)"
   ]
  },
  {
   "cell_type": "code",
   "execution_count": 30,
   "metadata": {},
   "outputs": [
    {
     "data": {
      "text/plain": [
       "DeviceArray([0., 0., 0.], dtype=float32)"
      ]
     },
     "execution_count": 30,
     "metadata": {},
     "output_type": "execute_result"
    }
   ],
   "source": [
    "mu = np.zeros((d,))\n",
    "mu"
   ]
  },
  {
   "cell_type": "code",
   "execution_count": 27,
   "metadata": {},
   "outputs": [
    {
     "data": {
      "text/plain": [
       "DeviceArray([[1. , 0.5, 0.5],\n",
       "             [0.5, 1. , 0.5],\n",
       "             [0.5, 0.5, 1. ]], dtype=float32)"
      ]
     },
     "execution_count": 27,
     "metadata": {},
     "output_type": "execute_result"
    }
   ],
   "source": [
    "rho = onp.full((d, d), r)\n",
    "rho[onp.diag_indices_from(rho)] = 1.0\n",
    "rho = device_put(rho)\n",
    "rho"
   ]
  },
  {
   "cell_type": "code",
   "execution_count": 28,
   "metadata": {},
   "outputs": [
    {
     "data": {
      "text/plain": [
       "DeviceArray([[-0.28371075,  0.6694512 , -0.692005  ],\n",
       "             [ 1.4165013 ,  1.6213272 ,  1.756285  ],\n",
       "             [-0.42656714,  0.6407802 , -0.383819  ],\n",
       "             [ 0.01532494, -1.7924309 , -0.13934608],\n",
       "             [ 0.9142364 ,  0.95461476,  1.2131029 ],\n",
       "             [ 0.12106168, -0.21983227,  1.2926582 ],\n",
       "             [ 0.24500382, -1.0734603 , -0.77513266],\n",
       "             [ 0.14037243,  0.79851717, -0.58057636],\n",
       "             [-1.0775021 , -1.5257134 , -1.352197  ],\n",
       "             [-0.15576522, -0.40975612, -1.098453  ]], dtype=float32)"
      ]
     },
     "execution_count": 28,
     "metadata": {},
     "output_type": "execute_result"
    }
   ],
   "source": [
    "z = random.multivariate_normal(key, mu, rho, (n,))\n",
    "z"
   ]
  },
  {
   "cell_type": "code",
   "execution_count": 29,
   "metadata": {},
   "outputs": [
    {
     "data": {
      "text/plain": [
       "DeviceArray([[0.38831604, 0.74839616, 0.24446711],\n",
       "             [0.9216856 , 0.9475262 , 0.9604801 ],\n",
       "             [0.33484733, 0.7391672 , 0.3505563 ],\n",
       "             [0.5061135 , 0.036532  , 0.44458833],\n",
       "             [0.81970364, 0.8301137 , 0.88745475],\n",
       "             [0.5481789 , 0.41300088, 0.90193534],\n",
       "             [0.59677327, 0.14153232, 0.21913067],\n",
       "             [0.5558171 , 0.7877147 , 0.28076303],\n",
       "             [0.14062801, 0.06354064, 0.08815616],\n",
       "             [0.43810904, 0.34099242, 0.1360034 ]], dtype=float32)"
      ]
     },
     "execution_count": 29,
     "metadata": {},
     "output_type": "execute_result"
    }
   ],
   "source": [
    "jax.scipy.stats.norm.cdf(z)"
   ]
  },
  {
   "cell_type": "markdown",
   "metadata": {},
   "source": [
    "Basic algorithm\n",
    "\n",
    "```\n",
    "Let R be a d x d correlation matrix\n",
    "Generate Z := MVN(0, R)\n",
    "Compute  U := NormalCDF(Z)\n",
    "```"
   ]
  },
  {
   "cell_type": "code",
   "execution_count": null,
   "metadata": {},
   "outputs": [],
   "source": []
  }
 ],
 "metadata": {
  "kernelspec": {
   "display_name": "Python [conda env:jax_stats] *",
   "language": "python",
   "name": "conda-env-jax_stats-py"
  },
  "language_info": {
   "codemirror_mode": {
    "name": "ipython",
    "version": 3
   },
   "file_extension": ".py",
   "mimetype": "text/x-python",
   "name": "python",
   "nbconvert_exporter": "python",
   "pygments_lexer": "ipython3",
   "version": "3.7.7"
  }
 },
 "nbformat": 4,
 "nbformat_minor": 4
}
