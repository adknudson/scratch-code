{
 "cells": [
  {
   "cell_type": "code",
   "execution_count": 1,
   "metadata": {},
   "outputs": [],
   "source": [
    "import jax\n",
    "import jax.numpy as np\n",
    "import numpy as onp\n",
    "\n",
    "import csv"
   ]
  },
  {
   "cell_type": "code",
   "execution_count": 2,
   "metadata": {},
   "outputs": [
    {
     "data": {
      "text/plain": [
       "array([[ 1.        , -0.01301598,  0.14123724, -0.10308511, -0.26204787,\n",
       "        -0.08292474,  0.64547595,  0.16234743, -0.15385011,  0.4721754 ],\n",
       "       [-0.01301598,  1.        , -0.24707931,  0.02770884,  0.25542452,\n",
       "         0.26156863, -0.052855  , -0.37699734, -0.09271484, -0.04467161],\n",
       "       [ 0.14123724, -0.24707931,  1.        ,  0.26957427, -0.20179411,\n",
       "        -0.32947896,  0.15704886, -0.00476229, -0.04586942,  0.05997399],\n",
       "       [-0.10308511,  0.02770884,  0.26957427,  1.        , -0.06544319,\n",
       "        -0.05847775, -0.0443766 , -0.15504393, -0.02538405, -0.03200717],\n",
       "       [-0.26204787,  0.25542452, -0.20179411, -0.06544319,  1.        ,\n",
       "         0.36626381, -0.24566953, -0.23739906,  0.00651204, -0.14096476],\n",
       "       [-0.08292474,  0.26156863, -0.32947896, -0.05847775,  0.36626381,\n",
       "         1.        , -0.068004  , -0.23439481, -0.05177342, -0.07236493],\n",
       "       [ 0.64547595, -0.052855  ,  0.15704886, -0.0443766 , -0.24566953,\n",
       "        -0.068004  ,  1.        ,  0.30655046,  0.0506413 ,  0.64077713],\n",
       "       [ 0.16234743, -0.37699734, -0.00476229, -0.15504393, -0.23739906,\n",
       "        -0.23439481,  0.30655046,  1.        ,  0.38222831,  0.40250039],\n",
       "       [-0.15385011, -0.09271484, -0.04586942, -0.02538405,  0.00651204,\n",
       "        -0.05177342,  0.0506413 ,  0.38222831,  1.        ,  0.1644034 ],\n",
       "       [ 0.4721754 , -0.04467161,  0.05997399, -0.03200717, -0.14096476,\n",
       "        -0.07236493,  0.64077713,  0.40250039,  0.1644034 ,  1.        ]])"
      ]
     },
     "execution_count": 2,
     "metadata": {},
     "output_type": "execute_result"
    }
   ],
   "source": [
    "rho = onp.loadtxt(\"brca_rho.tab\", delimiter=\"\\t\")\n",
    "rho[0:10, 0:10]"
   ]
  },
  {
   "cell_type": "code",
   "execution_count": 3,
   "metadata": {},
   "outputs": [],
   "source": [
    "d = rho.shape[1]\n",
    "n = 1212"
   ]
  },
  {
   "cell_type": "code",
   "execution_count": 4,
   "metadata": {},
   "outputs": [
    {
     "data": {
      "text/plain": [
       "array([0., 0., 0., ..., 0., 0., 0.])"
      ]
     },
     "execution_count": 4,
     "metadata": {},
     "output_type": "execute_result"
    }
   ],
   "source": [
    "mu = onp.zeros((d,))\n",
    "mu"
   ]
  },
  {
   "cell_type": "code",
   "execution_count": 8,
   "metadata": {},
   "outputs": [],
   "source": [
    "rho_chol = onp.linalg.cholesky(rho)"
   ]
  },
  {
   "cell_type": "code",
   "execution_count": 55,
   "metadata": {},
   "outputs": [],
   "source": [
    "rho_d = jax.device_put(rho)\n",
    "mu_d  = jax.device_put(mu)\n"
   ]
  },
  {
   "cell_type": "code",
   "execution_count": 56,
   "metadata": {},
   "outputs": [],
   "source": [
    "key = jax.random.PRNGKey(0)"
   ]
  },
  {
   "cell_type": "code",
   "execution_count": 57,
   "metadata": {},
   "outputs": [],
   "source": [
    "x_d = jax.random.multivariate_normal(key, mu_d, rho_d, (n,))"
   ]
  },
  {
   "cell_type": "code",
   "execution_count": 58,
   "metadata": {},
   "outputs": [
    {
     "data": {
      "text/plain": [
       "DeviceArray([[nan, nan, nan, ..., nan, nan, nan],\n",
       "             [nan, nan, nan, ..., nan, nan, nan],\n",
       "             [nan, nan, nan, ..., nan, nan, nan],\n",
       "             ...,\n",
       "             [nan, nan, nan, ..., nan, nan, nan],\n",
       "             [nan, nan, nan, ..., nan, nan, nan],\n",
       "             [nan, nan, nan, ..., nan, nan, nan]], dtype=float32)"
      ]
     },
     "execution_count": 58,
     "metadata": {},
     "output_type": "execute_result"
    }
   ],
   "source": [
    "x_d.round(2)"
   ]
  },
  {
   "cell_type": "code",
   "execution_count": 50,
   "metadata": {},
   "outputs": [
    {
     "data": {
      "text/plain": [
       "array([[-0.01,  0.46, -0.76, ..., -0.41, -0.3 , -0.39],\n",
       "       [-0.36,  1.32,  0.71, ..., -0.2 , -1.79,  0.96],\n",
       "       [-1.02,  0.45, -0.58, ...,  1.54,  1.16, -2.25],\n",
       "       ...,\n",
       "       [ 0.51, -1.04,  0.  , ..., -2.22, -1.3 ,  1.54],\n",
       "       [ 1.8 , -0.41,  1.41, ..., -0.67, -0.9 ,  0.99],\n",
       "       [-0.05,  0.1 , -0.1 , ..., -0.33, -0.02,  0.55]], dtype=float32)"
      ]
     },
     "execution_count": 50,
     "metadata": {},
     "output_type": "execute_result"
    }
   ],
   "source": [
    "x = jax.device_get(x_d)\n",
    "x.round(2)"
   ]
  },
  {
   "cell_type": "code",
   "execution_count": null,
   "metadata": {},
   "outputs": [],
   "source": []
  }
 ],
 "metadata": {
  "kernelspec": {
   "display_name": "Python 3",
   "language": "python",
   "name": "python3"
  },
  "language_info": {
   "codemirror_mode": {
    "name": "ipython",
    "version": 3
   },
   "file_extension": ".py",
   "mimetype": "text/x-python",
   "name": "python",
   "nbconvert_exporter": "python",
   "pygments_lexer": "ipython3",
   "version": "3.7.7"
  }
 },
 "nbformat": 4,
 "nbformat_minor": 4
}
