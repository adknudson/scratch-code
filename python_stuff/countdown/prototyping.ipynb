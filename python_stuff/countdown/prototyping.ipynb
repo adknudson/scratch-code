{
 "cells": [
  {
   "cell_type": "code",
   "execution_count": 15,
   "metadata": {},
   "outputs": [],
   "source": [
    "import argparse\n",
    "import itertools\n",
    "from sympy.utilities.iterables import kbins, multiset_permutations, iproduct\n",
    "import operator as op\n",
    "\n",
    "\n",
    "def is_integer(x):\n",
    "    return float.is_integer(float(x))"
   ]
  },
  {
   "cell_type": "markdown",
   "metadata": {},
   "source": [
    "# Setting up the parser"
   ]
  },
  {
   "cell_type": "code",
   "execution_count": 16,
   "metadata": {},
   "outputs": [
    {
     "data": {
      "text/plain": [
       "_StoreAction(option_strings=[], dest='integers', nargs='+', const=None, default=None, type=<class 'int'>, choices=None, help='A list of integers to operate on', metavar='N')"
      ]
     },
     "execution_count": 16,
     "metadata": {},
     "output_type": "execute_result"
    }
   ],
   "source": [
    "parser = argparse.ArgumentParser(description='Read in some integers and do some math.')\n",
    "parser.add_argument('integers', metavar='N', type=int, nargs='+',\n",
    "                    help='A list of integers to operate on')"
   ]
  },
  {
   "cell_type": "code",
   "execution_count": 17,
   "metadata": {},
   "outputs": [
    {
     "name": "stdout",
     "output_type": "stream",
     "text": [
      "usage: ipykernel_launcher.py [-h] N [N ...]\n",
      "\n",
      "Read in some integers and do some math.\n",
      "\n",
      "positional arguments:\n",
      "  N           A list of integers to operate on\n",
      "\n",
      "optional arguments:\n",
      "  -h, --help  show this help message and exit\n"
     ]
    }
   ],
   "source": [
    "parser.print_help()"
   ]
  },
  {
   "cell_type": "code",
   "execution_count": 18,
   "metadata": {},
   "outputs": [],
   "source": [
    "args = parser.parse_args(\"1 2 3\".split())"
   ]
  },
  {
   "cell_type": "code",
   "execution_count": 19,
   "metadata": {},
   "outputs": [
    {
     "data": {
      "text/plain": [
       "[1, 2, 3]"
      ]
     },
     "execution_count": 19,
     "metadata": {},
     "output_type": "execute_result"
    }
   ],
   "source": [
    "args.integers"
   ]
  },
  {
   "cell_type": "markdown",
   "metadata": {},
   "source": [
    "# Define the valid operations"
   ]
  },
  {
   "cell_type": "code",
   "execution_count": 20,
   "metadata": {},
   "outputs": [],
   "source": [
    "operations = {'+': op.add, \n",
    "              '-': op.sub,\n",
    "              '*': op.mul,\n",
    "              '/': op.truediv}"
   ]
  },
  {
   "cell_type": "markdown",
   "metadata": {},
   "source": [
    "# Creating the permutations"
   ]
  },
  {
   "cell_type": "code",
   "execution_count": 26,
   "metadata": {},
   "outputs": [],
   "source": [
    "def f(S):\n",
    "    N = len(S)\n",
    "    if N == 1:\n",
    "        return S\n",
    "    elif N == 2:\n",
    "        return [tuple(x) for x in multiset_permutations(S, 2)]\n",
    "    else:\n",
    "        accumulator = []\n",
    "        for p in kbins(S, 2, ordered=10):\n",
    "            accumulator.extend(iproduct(f(p[0]), f(p[1])))\n",
    "        return accumulator"
   ]
  },
  {
   "cell_type": "markdown",
   "metadata": {},
   "source": [
    "# Unpacking the tuples"
   ]
  },
  {
   "cell_type": "code",
   "execution_count": 27,
   "metadata": {},
   "outputs": [],
   "source": [
    "def unpackFactorGroup(factoredGroup, operations):\n",
    "    left, right = factoredGroup[0], factoredGroup[1]\n",
    "    F = list(operations)  # Operations get passed as tuple. Need to be a list\n",
    "\n",
    "    # CASE 1: Left and Right are tuples\n",
    "    if type(left) is tuple and type(right) is tuple:\n",
    "        fx = F.pop()\n",
    "        format_left = unpackFactorGroup(left, F)\n",
    "        F.pop()\n",
    "        format_right = unpackFactorGroup(right, F)\n",
    "        return F\"({format_left}) {fx} ({format_right})\"\n",
    "\n",
    "    # CASE 2: Left is a tuple and the Right is not a tuple\n",
    "    elif type(left) is tuple and type(right) is not tuple:\n",
    "        try:\n",
    "            fx = F.pop()\n",
    "        except:\n",
    "            fx = F\n",
    "        return F\"({unpackFactorGroup(left, F)} {fx} {right})\"\n",
    "\n",
    "    # CASE 3: Left is not a tuple and the Right is a tuple\n",
    "    elif type(left) is not tuple and type(right) is tuple:\n",
    "        try:\n",
    "            fx = F.pop()\n",
    "        except:\n",
    "            fx = F\n",
    "        return F\"({left} {fx} {unpackFactorGroup(right, F)})\"\n",
    "\n",
    "    # CASE 4: Neither Left nor Right is a tuple\n",
    "    elif type(left) is not tuple and type(right) is not tuple:\n",
    "        try:\n",
    "            fx = F.pop()\n",
    "        except:\n",
    "            fx = F\n",
    "        return F\"({left} {fx} {right})\"\n",
    "    \n",
    "    # CASE 5: WTF\n",
    "    else:\n",
    "        print(\"You done goofed son\")\n",
    "        return None"
   ]
  },
  {
   "cell_type": "markdown",
   "metadata": {},
   "source": [
    "# Combining functions"
   ]
  },
  {
   "cell_type": "code",
   "execution_count": 28,
   "metadata": {},
   "outputs": [],
   "source": [
    "def allIntegerResults(numberSet, operations):\n",
    "    results = {}\n",
    "    N = len(numberSet)\n",
    "\n",
    "    # All groups of size 2 up to N\n",
    "    for n_elements in range(2, N+1):\n",
    "        # Get all combinations of n elements C(N, n)\n",
    "        # Treat each combination as a new 'hand'\n",
    "        combinationSet = itertools.combinations(numberSet, n_elements)\n",
    "        # for a hand of size n, there are n-1 operations\n",
    "        operationSet = list(itertools.product(operations, repeat=n_elements-1))\n",
    "        # For each hand, find the two element factor groups\n",
    "        for hand in combinationSet:\n",
    "            # Go through every two element factor group\n",
    "            for factorGroup in f(hand):\n",
    "                # Go through every combination of operations\n",
    "                for operationCombination in operationSet:\n",
    "                    result = unpackFactorGroup(\n",
    "                        factoredGroup=factorGroup,\n",
    "                        operations=operationCombination\n",
    "                    )\n",
    "\n",
    "                    try:\n",
    "                        eval(result)\n",
    "                    except (TypeError, ZeroDivisionError):\n",
    "                        pass\n",
    "                    else:\n",
    "                        eval_result = eval(result)\n",
    "\n",
    "                    if is_integer(eval_result):\n",
    "                        # Add the combination to the results\n",
    "                        # If the number is already a key in the results, then\n",
    "                        # append the combo to the values\n",
    "                        if int(eval_result) in results:\n",
    "                            results[int(eval_result)].append(result)\n",
    "                        # If the key does not exist, add it to the results\n",
    "                        else:\n",
    "                            results[int(eval_result)] = [result]\n",
    "                    else:\n",
    "                        pass\n",
    "    return results"
   ]
  },
  {
   "cell_type": "markdown",
   "metadata": {},
   "source": [
    "# Testing"
   ]
  },
  {
   "cell_type": "code",
   "execution_count": 29,
   "metadata": {},
   "outputs": [],
   "source": [
    "test_N = [1, 2, 3]"
   ]
  },
  {
   "cell_type": "code",
   "execution_count": 30,
   "metadata": {},
   "outputs": [
    {
     "data": {
      "text/plain": [
       "{3: ['(1 + 2)',\n",
       "  '(2 + 1)',\n",
       "  '(1 * 3)',\n",
       "  '(3 * 1)',\n",
       "  '(3 / 1)',\n",
       "  '((2 - 1) * 3)',\n",
       "  '(3 * (2 - 1))',\n",
       "  '(3 / (2 - 1))'],\n",
       " -1: ['(1 - 2)',\n",
       "  '(2 - 3)',\n",
       "  '((1 * 2) - 3)',\n",
       "  '((2 * 1) - 3)',\n",
       "  '((2 / 1) - 3)',\n",
       "  '((1 - 3) / 2)',\n",
       "  '(2 / (1 - 3))',\n",
       "  '(2 - (1 * 3))',\n",
       "  '(2 - (3 * 1))',\n",
       "  '(2 - (3 / 1))',\n",
       "  '(1 * (2 - 3))',\n",
       "  '(1 / (2 - 3))',\n",
       "  '((2 - 3) * 1)',\n",
       "  '((2 - 3) / 1)'],\n",
       " 2: ['(1 * 2)',\n",
       "  '(2 * 1)',\n",
       "  '(2 / 1)',\n",
       "  '(3 - 1)',\n",
       "  '((1 - 2) + 3)',\n",
       "  '(3 + (1 - 2))',\n",
       "  '(3 - (2 - 1))',\n",
       "  '((1 + 3) - 2)',\n",
       "  '((1 + 3) / 2)',\n",
       "  '((3 + 1) - 2)',\n",
       "  '((3 + 1) / 2)',\n",
       "  '(1 - (2 - 3))',\n",
       "  '(1 + (3 - 2))',\n",
       "  '((3 - 2) + 1)'],\n",
       " 1: ['(2 - 1)',\n",
       "  '(3 - 2)',\n",
       "  '((1 + 2) / 3)',\n",
       "  '((2 + 1) / 3)',\n",
       "  '(3 / (1 + 2))',\n",
       "  '(3 - (1 * 2))',\n",
       "  '(3 / (2 + 1))',\n",
       "  '(3 - (2 * 1))',\n",
       "  '(3 - (2 / 1))',\n",
       "  '((1 * 3) - 2)',\n",
       "  '((3 - 1) / 2)',\n",
       "  '((3 * 1) - 2)',\n",
       "  '((3 / 1) - 2)',\n",
       "  '(2 / (3 - 1))',\n",
       "  '(1 * (3 - 2))',\n",
       "  '(1 / (3 - 2))',\n",
       "  '((3 - 2) * 1)',\n",
       "  '((3 - 2) / 1)'],\n",
       " 4: ['(1 + 3)',\n",
       "  '(3 + 1)',\n",
       "  '((2 - 1) + 3)',\n",
       "  '(3 - (1 - 2))',\n",
       "  '(3 + (2 - 1))',\n",
       "  '((3 - 1) + 2)',\n",
       "  '((3 - 1) * 2)',\n",
       "  '(2 - (1 - 3))',\n",
       "  '(2 + (3 - 1))',\n",
       "  '(2 * (3 - 1))',\n",
       "  '((2 + 3) - 1)',\n",
       "  '((3 + 2) - 1)'],\n",
       " -2: ['(1 - 3)',\n",
       "  '((2 - 1) - 3)',\n",
       "  '(2 - (1 + 3))',\n",
       "  '(2 - (3 + 1))',\n",
       "  '((2 - 3) - 1)'],\n",
       " 5: ['(2 + 3)',\n",
       "  '(3 + 2)',\n",
       "  '((1 * 2) + 3)',\n",
       "  '((2 * 1) + 3)',\n",
       "  '((2 / 1) + 3)',\n",
       "  '(3 + (1 * 2))',\n",
       "  '(3 + (2 * 1))',\n",
       "  '(3 + (2 / 1))',\n",
       "  '((1 * 3) + 2)',\n",
       "  '((3 * 1) + 2)',\n",
       "  '((3 / 1) + 2)',\n",
       "  '(2 + (1 * 3))',\n",
       "  '(2 + (3 * 1))',\n",
       "  '(2 + (3 / 1))',\n",
       "  '(1 * (2 + 3))',\n",
       "  '(1 * (3 + 2))',\n",
       "  '((2 + 3) * 1)',\n",
       "  '((2 + 3) / 1)',\n",
       "  '((2 * 3) - 1)',\n",
       "  '((3 + 2) * 1)',\n",
       "  '((3 + 2) / 1)',\n",
       "  '((3 * 2) - 1)'],\n",
       " 6: ['(2 * 3)',\n",
       "  '(3 * 2)',\n",
       "  '((1 + 2) + 3)',\n",
       "  '((1 * 2) * 3)',\n",
       "  '((2 + 1) + 3)',\n",
       "  '((2 * 1) * 3)',\n",
       "  '((2 / 1) * 3)',\n",
       "  '(3 + (1 + 2))',\n",
       "  '(3 * (1 * 2))',\n",
       "  '(3 / (1 / 2))',\n",
       "  '(3 + (2 + 1))',\n",
       "  '(3 * (2 * 1))',\n",
       "  '(3 * (2 / 1))',\n",
       "  '((1 + 3) + 2)',\n",
       "  '((1 * 3) * 2)',\n",
       "  '((3 + 1) + 2)',\n",
       "  '((3 * 1) * 2)',\n",
       "  '((3 / 1) * 2)',\n",
       "  '(2 + (1 + 3))',\n",
       "  '(2 * (1 * 3))',\n",
       "  '(2 / (1 / 3))',\n",
       "  '(2 + (3 + 1))',\n",
       "  '(2 * (3 * 1))',\n",
       "  '(2 * (3 / 1))',\n",
       "  '(1 + (2 + 3))',\n",
       "  '(1 * (2 * 3))',\n",
       "  '(1 + (3 + 2))',\n",
       "  '(1 * (3 * 2))',\n",
       "  '((2 + 3) + 1)',\n",
       "  '((2 * 3) * 1)',\n",
       "  '((2 * 3) / 1)',\n",
       "  '((3 + 2) + 1)',\n",
       "  '((3 * 2) * 1)',\n",
       "  '((3 * 2) / 1)'],\n",
       " 0: ['((1 + 2) - 3)',\n",
       "  '((2 + 1) - 3)',\n",
       "  '(3 - (1 + 2))',\n",
       "  '(3 - (2 + 1))',\n",
       "  '((1 - 3) + 2)',\n",
       "  '((3 - 1) - 2)',\n",
       "  '(2 + (1 - 3))',\n",
       "  '(2 - (3 - 1))',\n",
       "  '(1 + (2 - 3))',\n",
       "  '(1 - (3 - 2))',\n",
       "  '((2 - 3) + 1)',\n",
       "  '((3 - 2) - 1)'],\n",
       " 9: ['((1 + 2) * 3)', '((2 + 1) * 3)', '(3 * (1 + 2))', '(3 * (2 + 1))'],\n",
       " -4: ['((1 - 2) - 3)',\n",
       "  '((1 - 3) - 2)',\n",
       "  '((1 - 3) * 2)',\n",
       "  '(2 * (1 - 3))',\n",
       "  '(1 - (2 + 3))',\n",
       "  '(1 - (3 + 2))'],\n",
       " -3: ['((1 - 2) * 3)', '(3 * (1 - 2))', '(3 / (1 - 2))'],\n",
       " 8: ['((1 + 3) * 2)', '((3 + 1) * 2)', '(2 * (1 + 3))', '(2 * (3 + 1))'],\n",
       " 7: ['(1 + (2 * 3))', '(1 + (3 * 2))', '((2 * 3) + 1)', '((3 * 2) + 1)'],\n",
       " -5: ['(1 - (2 * 3))', '(1 - (3 * 2))']}"
      ]
     },
     "execution_count": 30,
     "metadata": {},
     "output_type": "execute_result"
    }
   ],
   "source": [
    "allIntegerResults(test_N, operations)"
   ]
  },
  {
   "cell_type": "code",
   "execution_count": null,
   "metadata": {},
   "outputs": [],
   "source": []
  },
  {
   "cell_type": "code",
   "execution_count": null,
   "metadata": {},
   "outputs": [],
   "source": []
  }
 ],
 "metadata": {
  "kernelspec": {
   "display_name": "Python 3",
   "language": "python",
   "name": "python3"
  },
  "language_info": {
   "codemirror_mode": {
    "name": "ipython",
    "version": 3
   },
   "file_extension": ".py",
   "mimetype": "text/x-python",
   "name": "python",
   "nbconvert_exporter": "python",
   "pygments_lexer": "ipython3",
   "version": "3.7.4"
  }
 },
 "nbformat": 4,
 "nbformat_minor": 4
}
