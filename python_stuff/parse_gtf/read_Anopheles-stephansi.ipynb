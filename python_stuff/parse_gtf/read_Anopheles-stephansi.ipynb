{
 "cells": [
  {
   "cell_type": "code",
   "execution_count": 1,
   "metadata": {},
   "outputs": [],
   "source": [
    "from gtfparse import read_gtf"
   ]
  },
  {
   "cell_type": "code",
   "execution_count": 2,
   "metadata": {},
   "outputs": [
    {
     "name": "stderr",
     "output_type": "stream",
     "text": [
      "INFO:root:Extracted GTF attributes: ['gene_id', 'transcript_id', 'exon_number']\n"
     ]
    }
   ],
   "source": [
    "df = read_gtf(\"Anopheles-stephensi-SDA-500_BASEFEATURES_AsteS1.7.gtf\")"
   ]
  },
  {
   "cell_type": "code",
   "execution_count": 3,
   "metadata": {},
   "outputs": [
    {
     "data": {
      "text/html": [
       "<div>\n",
       "<style scoped>\n",
       "    .dataframe tbody tr th:only-of-type {\n",
       "        vertical-align: middle;\n",
       "    }\n",
       "\n",
       "    .dataframe tbody tr th {\n",
       "        vertical-align: top;\n",
       "    }\n",
       "\n",
       "    .dataframe thead th {\n",
       "        text-align: right;\n",
       "    }\n",
       "</style>\n",
       "<table border=\"1\" class=\"dataframe\">\n",
       "  <thead>\n",
       "    <tr style=\"text-align: right;\">\n",
       "      <th></th>\n",
       "      <th>seqname</th>\n",
       "      <th>source</th>\n",
       "      <th>feature</th>\n",
       "      <th>start</th>\n",
       "      <th>end</th>\n",
       "      <th>score</th>\n",
       "      <th>strand</th>\n",
       "      <th>frame</th>\n",
       "      <th>gene_id</th>\n",
       "      <th>transcript_id</th>\n",
       "      <th>exon_number</th>\n",
       "    </tr>\n",
       "  </thead>\n",
       "  <tbody>\n",
       "    <tr>\n",
       "      <th>0</th>\n",
       "      <td>KB664845</td>\n",
       "      <td>VectorBase</td>\n",
       "      <td>gene</td>\n",
       "      <td>3348</td>\n",
       "      <td>3623</td>\n",
       "      <td>NaN</td>\n",
       "      <td>-</td>\n",
       "      <td>0</td>\n",
       "      <td>ASTE003361</td>\n",
       "      <td></td>\n",
       "      <td></td>\n",
       "    </tr>\n",
       "    <tr>\n",
       "      <th>1</th>\n",
       "      <td>KB664845</td>\n",
       "      <td>VectorBase</td>\n",
       "      <td>transcript</td>\n",
       "      <td>3348</td>\n",
       "      <td>3623</td>\n",
       "      <td>NaN</td>\n",
       "      <td>-</td>\n",
       "      <td>0</td>\n",
       "      <td>ASTE003361</td>\n",
       "      <td>ASTE003361-RA</td>\n",
       "      <td></td>\n",
       "    </tr>\n",
       "    <tr>\n",
       "      <th>2</th>\n",
       "      <td>KB664845</td>\n",
       "      <td>VectorBase</td>\n",
       "      <td>exon</td>\n",
       "      <td>3522</td>\n",
       "      <td>3623</td>\n",
       "      <td>NaN</td>\n",
       "      <td>-</td>\n",
       "      <td>0</td>\n",
       "      <td>ASTE003361</td>\n",
       "      <td>ASTE003361-RA</td>\n",
       "      <td>1</td>\n",
       "    </tr>\n",
       "    <tr>\n",
       "      <th>3</th>\n",
       "      <td>KB664845</td>\n",
       "      <td>VectorBase</td>\n",
       "      <td>CDS</td>\n",
       "      <td>3522</td>\n",
       "      <td>3623</td>\n",
       "      <td>NaN</td>\n",
       "      <td>-</td>\n",
       "      <td>0</td>\n",
       "      <td>ASTE003361</td>\n",
       "      <td>ASTE003361-RA</td>\n",
       "      <td>1</td>\n",
       "    </tr>\n",
       "    <tr>\n",
       "      <th>4</th>\n",
       "      <td>KB664845</td>\n",
       "      <td>VectorBase</td>\n",
       "      <td>start_codon</td>\n",
       "      <td>3621</td>\n",
       "      <td>3623</td>\n",
       "      <td>NaN</td>\n",
       "      <td>-</td>\n",
       "      <td>0</td>\n",
       "      <td>ASTE003361</td>\n",
       "      <td>ASTE003361-RA</td>\n",
       "      <td>1</td>\n",
       "    </tr>\n",
       "  </tbody>\n",
       "</table>\n",
       "</div>"
      ],
      "text/plain": [
       "    seqname      source      feature  start   end  score strand frame  \\\n",
       "0  KB664845  VectorBase         gene   3348  3623    NaN      -     0   \n",
       "1  KB664845  VectorBase   transcript   3348  3623    NaN      -     0   \n",
       "2  KB664845  VectorBase         exon   3522  3623    NaN      -     0   \n",
       "3  KB664845  VectorBase          CDS   3522  3623    NaN      -     0   \n",
       "4  KB664845  VectorBase  start_codon   3621  3623    NaN      -     0   \n",
       "\n",
       "      gene_id  transcript_id exon_number  \n",
       "0  ASTE003361                             \n",
       "1  ASTE003361  ASTE003361-RA              \n",
       "2  ASTE003361  ASTE003361-RA           1  \n",
       "3  ASTE003361  ASTE003361-RA           1  \n",
       "4  ASTE003361  ASTE003361-RA           1  "
      ]
     },
     "execution_count": 3,
     "metadata": {},
     "output_type": "execute_result"
    }
   ],
   "source": [
    "df.head()"
   ]
  },
  {
   "cell_type": "markdown",
   "metadata": {},
   "source": [
    "this is a mosquito so its genome is not well annotated\n",
    "\n",
    "there are 9 columns in the gtf\n",
    "\n",
    "only extract gene rows (3rd column)\n",
    "\n",
    "need:\n",
    "- chromosome (col 1)\n",
    "- start (col 4)\n",
    "- end (col5)\n",
    "\n",
    "and from col 8 i need gene_id (edited) "
   ]
  },
  {
   "cell_type": "code",
   "execution_count": 5,
   "metadata": {},
   "outputs": [],
   "source": [
    "df2 = df[df.feature == 'gene']"
   ]
  },
  {
   "cell_type": "code",
   "execution_count": 6,
   "metadata": {},
   "outputs": [
    {
     "data": {
      "text/html": [
       "<div>\n",
       "<style scoped>\n",
       "    .dataframe tbody tr th:only-of-type {\n",
       "        vertical-align: middle;\n",
       "    }\n",
       "\n",
       "    .dataframe tbody tr th {\n",
       "        vertical-align: top;\n",
       "    }\n",
       "\n",
       "    .dataframe thead th {\n",
       "        text-align: right;\n",
       "    }\n",
       "</style>\n",
       "<table border=\"1\" class=\"dataframe\">\n",
       "  <thead>\n",
       "    <tr style=\"text-align: right;\">\n",
       "      <th></th>\n",
       "      <th>seqname</th>\n",
       "      <th>start</th>\n",
       "      <th>end</th>\n",
       "      <th>gene_id</th>\n",
       "    </tr>\n",
       "  </thead>\n",
       "  <tbody>\n",
       "    <tr>\n",
       "      <th>0</th>\n",
       "      <td>KB664845</td>\n",
       "      <td>3348</td>\n",
       "      <td>3623</td>\n",
       "      <td>ASTE003361</td>\n",
       "    </tr>\n",
       "    <tr>\n",
       "      <th>8</th>\n",
       "      <td>KB664288</td>\n",
       "      <td>91693</td>\n",
       "      <td>107527</td>\n",
       "      <td>ASTE006291</td>\n",
       "    </tr>\n",
       "    <tr>\n",
       "      <th>39</th>\n",
       "      <td>KB664288</td>\n",
       "      <td>114095</td>\n",
       "      <td>119655</td>\n",
       "      <td>ASTE006292</td>\n",
       "    </tr>\n",
       "    <tr>\n",
       "      <th>55</th>\n",
       "      <td>KB664288</td>\n",
       "      <td>120818</td>\n",
       "      <td>131806</td>\n",
       "      <td>ASTE006293</td>\n",
       "    </tr>\n",
       "    <tr>\n",
       "      <th>80</th>\n",
       "      <td>KB664288</td>\n",
       "      <td>137040</td>\n",
       "      <td>138278</td>\n",
       "      <td>ASTE006294</td>\n",
       "    </tr>\n",
       "  </tbody>\n",
       "</table>\n",
       "</div>"
      ],
      "text/plain": [
       "     seqname   start     end     gene_id\n",
       "0   KB664845    3348    3623  ASTE003361\n",
       "8   KB664288   91693  107527  ASTE006291\n",
       "39  KB664288  114095  119655  ASTE006292\n",
       "55  KB664288  120818  131806  ASTE006293\n",
       "80  KB664288  137040  138278  ASTE006294"
      ]
     },
     "execution_count": 6,
     "metadata": {},
     "output_type": "execute_result"
    }
   ],
   "source": [
    "df3 = df2[['seqname', 'start', 'end', 'gene_id']]\n",
    "df3.head()"
   ]
  },
  {
   "cell_type": "code",
   "execution_count": 8,
   "metadata": {},
   "outputs": [],
   "source": [
    "df3.to_csv(\"Anopheles-stephensi-SDA-500_BASEFEATURES_AsteS1.7.csv\", index=False)"
   ]
  },
  {
   "cell_type": "code",
   "execution_count": null,
   "metadata": {},
   "outputs": [],
   "source": []
  }
 ],
 "metadata": {
  "kernelspec": {
   "display_name": "Python [conda env:py-inbre]",
   "language": "python",
   "name": "conda-env-py-inbre-py"
  },
  "language_info": {
   "codemirror_mode": {
    "name": "ipython",
    "version": 3
   },
   "file_extension": ".py",
   "mimetype": "text/x-python",
   "name": "python",
   "nbconvert_exporter": "python",
   "pygments_lexer": "ipython3",
   "version": "3.7.9"
  }
 },
 "nbformat": 4,
 "nbformat_minor": 4
}
