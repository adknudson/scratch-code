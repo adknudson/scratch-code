{
 "cells": [
  {
   "cell_type": "code",
   "execution_count": 1,
   "metadata": {},
   "outputs": [
    {
     "data": {
      "text/html": [
       "<script>\n",
       "// Immediately-invoked-function-expression to avoid global variables.\n",
       "(function() {\n",
       "    var warning_div = document.getElementById(\"webio-warning-3953719693773906224\");\n",
       "    var hide = function () {\n",
       "        var script = document.getElementById(\"webio-setup-8342690290512000471\");\n",
       "        var parent = script && script.parentElement;\n",
       "        var grandparent = parent && parent.parentElement;\n",
       "        if (grandparent) {\n",
       "            grandparent.style.display = \"none\";\n",
       "        }\n",
       "        warning_div.style.display = \"none\";\n",
       "    };\n",
       "    if (typeof Jupyter !== \"undefined\") {\n",
       "        console.log(\"WebIO detected Jupyter notebook environment.\");\n",
       "        // Jupyter notebook.\n",
       "        var extensions = (\n",
       "            Jupyter\n",
       "            && Jupyter.notebook.config.data\n",
       "            && Jupyter.notebook.config.data.load_extensions\n",
       "        );\n",
       "        if (extensions && extensions[\"webio-jupyter-notebook\"]) {\n",
       "            // Extension already loaded.\n",
       "            console.log(\"Jupyter WebIO nbextension detected; not loading ad-hoc.\");\n",
       "            hide();\n",
       "            return;\n",
       "        }\n",
       "    } else if (window.location.pathname.includes(\"/lab\")) {\n",
       "        // Guessing JupyterLa\n",
       "        console.log(\"Jupyter Lab detected; make sure the @webio/jupyter-lab-provider labextension is installed.\");\n",
       "        hide();\n",
       "        return;\n",
       "    }\n",
       "})();\n",
       "\n",
       "</script>\n",
       "<p\n",
       "    id=\"webio-warning-3953719693773906224\"\n",
       "    class=\"output_text output_stderr\"\n",
       "    style=\"padding: 1em; font-weight: bold;\"\n",
       ">\n",
       "    Unable to load WebIO. Please make sure WebIO works for your Jupyter client.\n",
       "    For troubleshooting, please see <a href=\"https://juliagizmos.github.io/WebIO.jl/latest/providers/ijulia/\">\n",
       "    the WebIO/IJulia documentation</a>.\n",
       "    <!-- TODO: link to installation docs. -->\n",
       "</p>\n"
      ],
      "text/plain": [
       "HTML{String}(\"<script>\\n// Immediately-invoked-function-expression to avoid global variables.\\n(function() {\\n    var warning_div = document.getElementById(\\\"webio-warning-3953719693773906224\\\");\\n    var hide = function () {\\n        var script = document.getElementById(\\\"webio-setup-8342690290512000471\\\");\\n        var parent = script && script.parentElement;\\n        var grandparent = parent && parent.parentElement;\\n        if (grandparent) {\\n            grandparent.style.display = \\\"none\\\";\\n        }\\n        warning_div.style.display = \\\"none\\\";\\n    };\\n    if (typeof Jupyter !== \\\"undefined\\\") {\\n        console.log(\\\"WebIO detected Jupyter notebook environment.\\\");\\n        // Jupyter notebook.\\n        var extensions = (\\n            Jupyter\\n            && Jupyter.notebook.config.data\\n            && Jupyter.notebook.config.data.load_extensions\\n        );\\n        if (extensions && extensions[\\\"webio-jupyter-notebook\\\"]) {\\n            // Extension already loaded.\\n            console.log(\\\"Jupyter WebIO nbextension detected; not loading ad-hoc.\\\");\\n            hide();\\n            return;\\n        }\\n    } else if (window.location.pathname.includes(\\\"/lab\\\")) {\\n        // Guessing JupyterLa\\n        console.log(\\\"Jupyter Lab detected; make sure the @webio/jupyter-lab-provider labextension is installed.\\\");\\n        hide();\\n        return;\\n    }\\n})();\\n\\n</script>\\n<p\\n    id=\\\"webio-warning-3953719693773906224\\\"\\n    class=\\\"output_text output_stderr\\\"\\n    style=\\\"padding: 1em; font-weight: bold;\\\"\\n>\\n    Unable to load WebIO. Please make sure WebIO works for your Jupyter client.\\n    For troubleshooting, please see <a href=\\\"https://juliagizmos.github.io/WebIO.jl/latest/providers/ijulia/\\\">\\n    the WebIO/IJulia documentation</a>.\\n    <!-- TODO: link to installation docs. -->\\n</p>\\n\")"
      ]
     },
     "metadata": {},
     "output_type": "display_data"
    }
   ],
   "source": [
    "using Turing\n",
    "using Random\n",
    "using Plots\n",
    "using Distributions\n",
    "using StatsPlots\n",
    "using Interact\n",
    "using MCMCChains"
   ]
  },
  {
   "cell_type": "code",
   "execution_count": 2,
   "metadata": {},
   "outputs": [
    {
     "data": {
      "text/plain": [
       "0:100"
      ]
     },
     "execution_count": 2,
     "metadata": {},
     "output_type": "execute_result"
    }
   ],
   "source": [
    "prob = 0.5\n",
    "Ns = 0:100"
   ]
  },
  {
   "cell_type": "code",
   "execution_count": 3,
   "metadata": {},
   "outputs": [],
   "source": [
    "Random.seed!(12)\n",
    "data = rand(Bernoulli(prob), last(Ns));"
   ]
  },
  {
   "cell_type": "code",
   "execution_count": 4,
   "metadata": {},
   "outputs": [
    {
     "data": {
      "text/plain": [
       "Beta{Float64}(α=1.0, β=1.0)"
      ]
     },
     "execution_count": 4,
     "metadata": {},
     "output_type": "execute_result"
    }
   ],
   "source": [
    "prior = Beta(1, 1)"
   ]
  },
  {
   "cell_type": "code",
   "execution_count": 5,
   "metadata": {},
   "outputs": [
    {
     "name": "stderr",
     "output_type": "stream",
     "text": [
      "┌ Info: Saved animation to \n",
      "│   fn = /mnt/Data/Repos/Julia_stuff/anim.gif\n",
      "└ @ Plots /home/alex/.julia/packages/Plots/Iuc9S/src/animation.jl:95\n"
     ]
    },
    {
     "data": {
      "text/html": [
       "<img src=\"anim.gif\" />"
      ],
      "text/plain": [
       "Plots.AnimatedGif(\"/mnt/Data/Repos/Julia_stuff/anim.gif\")"
      ]
     },
     "execution_count": 5,
     "metadata": {},
     "output_type": "execute_result"
    }
   ],
   "source": [
    "animation = @animate for (i, N) in enumerate(Ns)\n",
    "    heads = sum(data[1:i-1])\n",
    "    tails = N - heads\n",
    "    \n",
    "    updated_belief = Beta(prior.α + heads, prior.β + tails)\n",
    "    \n",
    "    plot(updated_belief,\n",
    "        size = (500, 250),\n",
    "        title = \"Updated belief after $N observations\",\n",
    "        xlabel = \"Probability of heads\",\n",
    "        ylabel = \"\",\n",
    "        legend = nothing,\n",
    "        xlim = (0, 1),\n",
    "        fill = 0, α = 0.3, w = 3)\n",
    "    vline!([prob])\n",
    "end;\n",
    "\n",
    "gif(animation, \"anim.gif\", fps = 20)"
   ]
  },
  {
   "cell_type": "code",
   "execution_count": 6,
   "metadata": {},
   "outputs": [],
   "source": [
    "@model coinflip(y) = begin\n",
    "    p ~ Beta(1, 1)\n",
    "    \n",
    "    N = length(y)\n",
    "    for n in 1:N\n",
    "        y[n] ~ Bernoulli(p)\n",
    "    end\n",
    "end;"
   ]
  },
  {
   "cell_type": "code",
   "execution_count": 7,
   "metadata": {},
   "outputs": [
    {
     "ename": "MethodError",
     "evalue": "MethodError: no method matching HMC{Turing.Core.ForwardDiffAD{40},space,metricT} where metricT<:AdvancedHMC.Adaptation.AbstractMetric where space(::Int64, ::Float64, ::Int64)",
     "output_type": "error",
     "traceback": [
      "MethodError: no method matching HMC{Turing.Core.ForwardDiffAD{40},space,metricT} where metricT<:AdvancedHMC.Adaptation.AbstractMetric where space(::Int64, ::Float64, ::Int64)",
      "",
      "Stacktrace:",
      " [1] HMC(::Int64, ::Vararg{Any,N} where N) at /home/alex/.julia/packages/Turing/fbY6B/src/inference/hmc.jl:85",
      " [2] top-level scope at In[7]:4"
     ]
    }
   ],
   "source": [
    "iterations = 1000\n",
    "ϵ = 0.05\n",
    "τ = 10\n",
    "\n",
    "chain = sample(coinflip(data), HMC(iterations, ϵ, τ))"
   ]
  },
  {
   "cell_type": "code",
   "execution_count": null,
   "metadata": {},
   "outputs": [],
   "source": [
    "p_summ = chain[:p]"
   ]
  },
  {
   "cell_type": "code",
   "execution_count": null,
   "metadata": {},
   "outputs": [],
   "source": [
    "plot(p_summ, seriestype = :histogram, bins = 50)"
   ]
  },
  {
   "cell_type": "code",
   "execution_count": null,
   "metadata": {},
   "outputs": [],
   "source": [
    "N = length(data)\n",
    "heads = sum(data)\n",
    "updated_belief = Beta(prior.α + heads, prior.β + N - heads)\n",
    "\n",
    "p = plot(p_summ, seriestype = :density, xlim = (0, 1), legend = :best, w = 2, c = :blue)"
   ]
  },
  {
   "cell_type": "code",
   "execution_count": null,
   "metadata": {},
   "outputs": [],
   "source": [
    "plot!(p, \n",
    "    range(0, stop = 1, length = 100), \n",
    "    pdf.(Ref(updated_belief), range(0, stop = 1, length = 100)),\n",
    "    xlabel = \"Probability of heads\", ylabel = \"\", title = \"\",\n",
    "    xlim = (0, 1), label = \"Closed-form\",\n",
    "    fill = 0, α = 0.3, w = 3, c = :lightgreen)"
   ]
  },
  {
   "cell_type": "code",
   "execution_count": null,
   "metadata": {},
   "outputs": [],
   "source": [
    "vline!(p, [prob], label = \"True Probability\", c = :red)"
   ]
  },
  {
   "cell_type": "code",
   "execution_count": null,
   "metadata": {},
   "outputs": [],
   "source": []
  }
 ],
 "metadata": {
  "kernelspec": {
   "display_name": "Julia 1.2.0",
   "language": "julia",
   "name": "julia-1.2"
  },
  "language_info": {
   "file_extension": ".jl",
   "mimetype": "application/julia",
   "name": "julia",
   "version": "1.2.0"
  }
 },
 "nbformat": 4,
 "nbformat_minor": 4
}
