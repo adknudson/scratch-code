{
 "cells": [
  {
   "cell_type": "code",
   "execution_count": 1,
   "metadata": {},
   "outputs": [
    {
     "data": {
      "text/plain": [
       "\"/mnt/Data/projects/personal/scratch-code/julia_stuff/tpoisson\""
      ]
     },
     "execution_count": 1,
     "metadata": {},
     "output_type": "execute_result"
    }
   ],
   "source": [
    "pwd()"
   ]
  },
  {
   "cell_type": "code",
   "execution_count": 2,
   "metadata": {},
   "outputs": [
    {
     "name": "stderr",
     "output_type": "stream",
     "text": [
      "\u001b[32m\u001b[1m Activating\u001b[22m\u001b[39m environment at `/mnt/Data/projects/personal/scratch-code/julia_stuff/tpoisson/Project.toml`\n"
     ]
    }
   ],
   "source": [
    "using Pkg\n",
    "Pkg.activate(\".\")"
   ]
  },
  {
   "cell_type": "markdown",
   "metadata": {},
   "source": [
    "# Big Idea\n",
    "\n",
    "Take some correlated gamma sims, run them through a Poisson process, and now you magically have negative binomial sims. Wow!\n",
    "\n",
    "Now we need to calculate the PMF of the multivariate negative binomial sims. How?\n",
    "\n",
    "Magic!"
   ]
  },
  {
   "cell_type": "code",
   "execution_count": 3,
   "metadata": {},
   "outputs": [],
   "source": [
    "using Distributions, Statistics, LinearAlgebra, SpecialFunctions"
   ]
  },
  {
   "cell_type": "markdown",
   "metadata": {},
   "source": [
    "Okay, not really. Say we have a set of target negative binomial distributions. By this I mean we want to end up with margins that have a set of target parameters and a desired correlation structure.\n",
    "\n",
    "Negative Binomial (`NB`) distributions are parameterized by a *size* $r$ and a *probability* $p$. So we need to set some target parameters.\n",
    "\n",
    "Smaller probabilities allow for a wider range of possible correlations."
   ]
  },
  {
   "cell_type": "code",
   "execution_count": 4,
   "metadata": {},
   "outputs": [
    {
     "data": {
      "text/plain": [
       "(0.14, 0.08)"
      ]
     },
     "execution_count": 4,
     "metadata": {},
     "output_type": "execute_result"
    }
   ],
   "source": [
    "target_probs = (0.14, 0.08)"
   ]
  },
  {
   "cell_type": "code",
   "execution_count": 5,
   "metadata": {},
   "outputs": [
    {
     "data": {
      "text/plain": [
       "(23, 30)"
      ]
     },
     "execution_count": 5,
     "metadata": {},
     "output_type": "execute_result"
    }
   ],
   "source": [
    "target_sizes = (23, 30)"
   ]
  },
  {
   "cell_type": "code",
   "execution_count": 6,
   "metadata": {},
   "outputs": [
    {
     "data": {
      "text/plain": [
       "(NegativeBinomial{Float64}(r=23.0, p=0.14), NegativeBinomial{Float64}(r=30.0, p=0.08))"
      ]
     },
     "execution_count": 6,
     "metadata": {},
     "output_type": "execute_result"
    }
   ],
   "source": [
    "margins = Tuple(NegativeBinomial(r, p) for (r, p) in zip(target_sizes, target_probs))"
   ]
  },
  {
   "cell_type": "code",
   "execution_count": 7,
   "metadata": {},
   "outputs": [
    {
     "data": {
      "text/plain": [
       "(139, 341)"
      ]
     },
     "execution_count": 7,
     "metadata": {},
     "output_type": "execute_result"
    }
   ],
   "source": [
    "Y = median.(margins)"
   ]
  },
  {
   "cell_type": "markdown",
   "metadata": {},
   "source": [
    "If we assume that the margins are independent, then we can find the joint PMF by calculating the PMF of each margin at their respective values and taking the product."
   ]
  },
  {
   "cell_type": "code",
   "execution_count": 8,
   "metadata": {},
   "outputs": [
    {
     "data": {
      "text/plain": [
       "independent_PMF (generic function with 1 method)"
      ]
     },
     "execution_count": 8,
     "metadata": {},
     "output_type": "execute_result"
    }
   ],
   "source": [
    "independent_logPMF(margins, Y) = sum([logpdf(m, y) for (m, y) in zip(margins, Y)])\n",
    "independent_PMF(margins, Y) = exp(independent_logPMF(margins, Y))"
   ]
  },
  {
   "cell_type": "code",
   "execution_count": 9,
   "metadata": {},
   "outputs": [
    {
     "data": {
      "text/plain": [
       "7.74716982679846e-5"
      ]
     },
     "execution_count": 9,
     "metadata": {},
     "output_type": "execute_result"
    }
   ],
   "source": [
    "independent_PMF(margins, Y)"
   ]
  },
  {
   "cell_type": "code",
   "execution_count": 10,
   "metadata": {},
   "outputs": [
    {
     "data": {
      "text/plain": [
       "0.8894942383174834"
      ]
     },
     "execution_count": 10,
     "metadata": {},
     "output_type": "execute_result"
    }
   ],
   "source": [
    "scale_factors = √(prod(1 .- target_probs))"
   ]
  },
  {
   "cell_type": "code",
   "execution_count": 11,
   "metadata": {},
   "outputs": [
    {
     "data": {
      "text/plain": [
       "0.999999999999989"
      ]
     },
     "execution_count": 11,
     "metadata": {},
     "output_type": "execute_result"
    }
   ],
   "source": [
    "sum([independent_PMF(margins, [x, y]) for x in 0:2000 for y in 0:2000])"
   ]
  },
  {
   "cell_type": "markdown",
   "metadata": {},
   "source": [
    "# Setup\n",
    "\n",
    "There are these two equations from this one paper, **Eq_14** and **Eq_29**, that can somehow determine the probability mass function of correlated NB distributions. That doesn't sound too amazing until you consider that holy carp! we have a correlated MvNB distribution!\n",
    "\n",
    "Okay, so what's the deal?\n",
    "\n",
    "Well there's this beast of an equation, **Eq_14**\n",
    "\n",
    "$$\n",
    "\\mathbb{P}(Y = y) = \\mathbb{E}\\left\\lbrace c\\left(F_1(X_1), \\ldots, F_d(X_d)\\right)\\right\\rbrace \\cdot \\prod_{i=1}^d g_i (y_i)\n",
    "$$\n",
    "\n",
    "where $g_i(\\cdot)$ is the $i^{th}$ PMF of the target marginal negative binomial distribution. In this bivariate case, the margins are\n",
    "\n",
    "$$\n",
    "\\begin{align*}\n",
    "Y_1 &\\sim \\mathrm{NB}(30, 0.14) \\\\\n",
    "Y_2 &\\sim \\mathrm{NB}(23, 0.09)\n",
    "\\end{align*}\n",
    "$$\n",
    "\n",
    "The next part is the expected value of the copula function. The copula function is given by **Eq_29**\n",
    "\n",
    "$$\n",
    "c_R(u_1, \\ldots, u_d) = \\frac{1}{|{R}|^{1/2}}e^{-\\frac{1}{2}(\\Phi^{-1}(u))^T (R^{-1} - I_d) \\Phi^{-1}(u)},\\quad u=(u_1, \\ldots, u_d)^T \\in [0, 1]^d\n",
    "$$\n",
    "\n",
    "Essentially it's the PDF of a standard multivariate gaussian distribution, but with the diagonal of the correlation matrix removed in the exponent. Let's try to write it as a function of $u$ and $R$."
   ]
  },
  {
   "cell_type": "code",
   "execution_count": 12,
   "metadata": {},
   "outputs": [
    {
     "data": {
      "text/plain": [
       "cR (generic function with 1 method)"
      ]
     },
     "execution_count": 12,
     "metadata": {},
     "output_type": "execute_result"
    }
   ],
   "source": [
    "Φ⁻¹(u) = quantile(Normal(), u)\n",
    "cR(u, R) = inv(√det(R)) * exp( (-0.5 .* Φ⁻¹(u)' * (inv(R) - I) * Φ⁻¹(u))[] )"
   ]
  },
  {
   "cell_type": "code",
   "execution_count": 13,
   "metadata": {},
   "outputs": [
    {
     "data": {
      "text/plain": [
       "2-element Array{Float64,1}:\n",
       " 0.9848110654261236\n",
       " 0.06075252162771529"
      ]
     },
     "execution_count": 13,
     "metadata": {},
     "output_type": "execute_result"
    }
   ],
   "source": [
    "U = rand(10000, 2)\n",
    "Φ⁻¹(U[1,:])"
   ]
  },
  {
   "cell_type": "code",
   "execution_count": 14,
   "metadata": {},
   "outputs": [
    {
     "data": {
      "text/plain": [
       "2×2 Array{Float64,2}:\n",
       " 1.0  0.0\n",
       " 0.0  1.0"
      ]
     },
     "execution_count": 14,
     "metadata": {},
     "output_type": "execute_result"
    }
   ],
   "source": [
    "ρ = 0.0\n",
    "R = Float64[1 ρ; ρ 1]"
   ]
  },
  {
   "cell_type": "code",
   "execution_count": 24,
   "metadata": {},
   "outputs": [
    {
     "data": {
      "text/plain": [
       "1.0"
      ]
     },
     "execution_count": 24,
     "metadata": {},
     "output_type": "execute_result"
    }
   ],
   "source": [
    "U = rand(1, 2);\n",
    "cR_val = mapslices(x -> cR(x, R), U; dims=2);\n",
    "E = mean(cR_val)"
   ]
  },
  {
   "cell_type": "code",
   "execution_count": 16,
   "metadata": {},
   "outputs": [
    {
     "data": {
      "text/plain": [
       "myPDF (generic function with 1 method)"
      ]
     },
     "execution_count": 16,
     "metadata": {},
     "output_type": "execute_result"
    }
   ],
   "source": [
    "myPDF(x, y) = exp(log(E) + sum([logpdf(m, y) for (m, y) in zip(margins, [x, y])]))"
   ]
  },
  {
   "cell_type": "code",
   "execution_count": 17,
   "metadata": {},
   "outputs": [
    {
     "data": {
      "text/plain": [
       "myCDF (generic function with 1 method)"
      ]
     },
     "execution_count": 17,
     "metadata": {},
     "output_type": "execute_result"
    }
   ],
   "source": [
    "myCDF(a, b) = sum(myPDF(u, v) for u in 0:a for v in 0:b)"
   ]
  },
  {
   "cell_type": "code",
   "execution_count": 18,
   "metadata": {},
   "outputs": [
    {
     "data": {
      "text/plain": [
       "0.2541964274438002"
      ]
     },
     "execution_count": 18,
     "metadata": {},
     "output_type": "execute_result"
    }
   ],
   "source": [
    "myCDF(median(margins[1]), median(margins[2]))"
   ]
  },
  {
   "cell_type": "code",
   "execution_count": 19,
   "metadata": {},
   "outputs": [
    {
     "data": {
      "text/plain": [
       "7.74716982679846e-5"
      ]
     },
     "execution_count": 19,
     "metadata": {},
     "output_type": "execute_result"
    }
   ],
   "source": [
    "independent_PMF(margins, Y)"
   ]
  },
  {
   "cell_type": "code",
   "execution_count": 20,
   "metadata": {},
   "outputs": [
    {
     "data": {
      "text/plain": [
       "7.74716982679846e-5"
      ]
     },
     "execution_count": 20,
     "metadata": {},
     "output_type": "execute_result"
    }
   ],
   "source": [
    "myPDF(Y...)"
   ]
  },
  {
   "cell_type": "code",
   "execution_count": null,
   "metadata": {},
   "outputs": [],
   "source": []
  }
 ],
 "metadata": {
  "kernelspec": {
   "display_name": "Julia 1.5.0",
   "language": "julia",
   "name": "julia-1.5"
  },
  "language_info": {
   "file_extension": ".jl",
   "mimetype": "application/julia",
   "name": "julia",
   "version": "1.5.0"
  }
 },
 "nbformat": 4,
 "nbformat_minor": 4
}
