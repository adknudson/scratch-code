{
 "cells": [
  {
   "cell_type": "code",
   "execution_count": 1,
   "metadata": {},
   "outputs": [
    {
     "name": "stderr",
     "output_type": "stream",
     "text": [
      "\u001b[32m\u001b[1m Activating\u001b[22m\u001b[39m environment at `~/projects/scratch-code/julia_stuff/distributed/Project.toml`\n"
     ]
    }
   ],
   "source": [
    "import Pkg; Pkg.activate(\".\")"
   ]
  },
  {
   "cell_type": "code",
   "execution_count": 2,
   "metadata": {},
   "outputs": [
    {
     "name": "stderr",
     "output_type": "stream",
     "text": [
      "┌ Info: Precompiling DataFrames [a93c6f00-e57d-5684-b7b6-d8193f3e46c0]\n",
      "└ @ Base loading.jl:1278\n",
      "┌ Info: Precompiling CSV [336ed68f-0bac-5ca0-87d4-7b16caf5d00b]\n",
      "└ @ Base loading.jl:1278\n",
      "┌ Info: Precompiling RCall [6f49c342-dc21-5d91-9882-a32aef131414]\n",
      "└ @ Base loading.jl:1278\n"
     ]
    }
   ],
   "source": [
    "using Distributed\n",
    "using DataFrames\n",
    "using CSV\n",
    "using RCall"
   ]
  },
  {
   "cell_type": "code",
   "execution_count": 3,
   "metadata": {},
   "outputs": [
    {
     "data": {
      "text/plain": [
       "20-element Array{Int64,1}:\n",
       "  2\n",
       "  3\n",
       "  4\n",
       "  5\n",
       "  6\n",
       "  7\n",
       "  8\n",
       "  9\n",
       " 10\n",
       " 11\n",
       " 12\n",
       " 13\n",
       " 14\n",
       " 15\n",
       " 16\n",
       " 17\n",
       " 18\n",
       " 19\n",
       " 20\n",
       " 21"
      ]
     },
     "execution_count": 3,
     "metadata": {},
     "output_type": "execute_result"
    }
   ],
   "source": [
    "addprocs(20)"
   ]
  },
  {
   "cell_type": "code",
   "execution_count": 4,
   "metadata": {},
   "outputs": [
    {
     "data": {
      "text/plain": [
       "21"
      ]
     },
     "execution_count": 4,
     "metadata": {},
     "output_type": "execute_result"
    }
   ],
   "source": [
    "nprocs()"
   ]
  },
  {
   "cell_type": "code",
   "execution_count": 5,
   "metadata": {},
   "outputs": [
    {
     "data": {
      "text/plain": [
       "21-element Array{Int64,1}:\n",
       "  1\n",
       "  2\n",
       "  3\n",
       "  4\n",
       "  5\n",
       "  6\n",
       "  7\n",
       "  8\n",
       "  9\n",
       " 10\n",
       " 11\n",
       " 12\n",
       " 13\n",
       " 14\n",
       " 15\n",
       " 16\n",
       " 17\n",
       " 18\n",
       " 19\n",
       " 20\n",
       " 21"
      ]
     },
     "execution_count": 5,
     "metadata": {},
     "output_type": "execute_result"
    }
   ],
   "source": [
    "procs()"
   ]
  },
  {
   "cell_type": "code",
   "execution_count": 6,
   "metadata": {},
   "outputs": [
    {
     "data": {
      "text/plain": [
       "20-element Array{Int64,1}:\n",
       "  2\n",
       "  3\n",
       "  4\n",
       "  5\n",
       "  6\n",
       "  7\n",
       "  8\n",
       "  9\n",
       " 10\n",
       " 11\n",
       " 12\n",
       " 13\n",
       " 14\n",
       " 15\n",
       " 16\n",
       " 17\n",
       " 18\n",
       " 19\n",
       " 20\n",
       " 21"
      ]
     },
     "execution_count": 6,
     "metadata": {},
     "output_type": "execute_result"
    }
   ],
   "source": [
    "workers()"
   ]
  },
  {
   "cell_type": "code",
   "execution_count": 7,
   "metadata": {},
   "outputs": [
    {
     "data": {
      "text/plain": [
       "20"
      ]
     },
     "execution_count": 7,
     "metadata": {},
     "output_type": "execute_result"
    }
   ],
   "source": [
    "nworkers()"
   ]
  },
  {
   "cell_type": "code",
   "execution_count": 8,
   "metadata": {},
   "outputs": [
    {
     "data": {
      "text/plain": [
       "1"
      ]
     },
     "execution_count": 8,
     "metadata": {},
     "output_type": "execute_result"
    }
   ],
   "source": [
    "myid()"
   ]
  },
  {
   "cell_type": "code",
   "execution_count": 9,
   "metadata": {},
   "outputs": [
    {
     "data": {
      "text/plain": [
       "3"
      ]
     },
     "execution_count": 9,
     "metadata": {},
     "output_type": "execute_result"
    }
   ],
   "source": [
    "remotecall_fetch(() -> myid(), 3)"
   ]
  },
  {
   "cell_type": "markdown",
   "metadata": {},
   "source": [
    "`pmap` is preferred when each operation is long"
   ]
  },
  {
   "cell_type": "code",
   "execution_count": 10,
   "metadata": {},
   "outputs": [
    {
     "name": "stdout",
     "output_type": "stream",
     "text": [
      "      From worker 3:\tI'm worker 3, working on 12\n",
      "      From worker 4:\tI'm worker 4, working on 16\n",
      "      From worker 15:\tI'm worker 15, working on 6\n",
      "      From worker 16:\tI'm worker 16, working on 9\n",
      "      From worker 5:\tI'm worker 5, working on 4\n",
      "      From worker 21:\tI'm worker 21, working on 8\n",
      "      From worker 20:\tI'm worker 20, working on 14\n",
      "      From worker 11:\tI'm worker 11, working on 5\n",
      "      From worker 18:\tI'm worker 18, working on 20\n",
      "      From worker 14:\tI'm worker 14, working on 13\n",
      "      From worker 7:\tI'm worker 7, working on 10\n",
      "      From worker 10:\tI'm worker 10, working on 2\n",
      "      From worker 19:\tI'm worker 19, working on 3\n",
      "      From worker 8:\tI'm worker 8, working on 7\n",
      "      From worker 2:\tI'm worker 2, working on 1\n",
      "      From worker 6:\tI'm worker 6, working on 19\n",
      "      From worker 12:\tI'm worker 12, working on 11\n",
      "      From worker 17:\tI'm worker 17, working on 17\n",
      "      From worker 9:\tI'm worker 9, working on 18\n",
      "      From worker 13:\tI'm worker 13, working on 15\n"
     ]
    },
    {
     "data": {
      "text/plain": [
       "20-element Array{Nothing,1}:\n",
       " nothing\n",
       " nothing\n",
       " nothing\n",
       " nothing\n",
       " nothing\n",
       " nothing\n",
       " nothing\n",
       " nothing\n",
       " nothing\n",
       " nothing\n",
       " nothing\n",
       " nothing\n",
       " nothing\n",
       " nothing\n",
       " nothing\n",
       " nothing\n",
       " nothing\n",
       " nothing\n",
       " nothing\n",
       " nothing"
      ]
     },
     "execution_count": 10,
     "metadata": {},
     "output_type": "execute_result"
    }
   ],
   "source": [
    "pmap(i -> println(\"I'm worker $(myid()), working on $i\"), 1:20)"
   ]
  },
  {
   "cell_type": "markdown",
   "metadata": {},
   "source": [
    "`@distributed for` is better when each operation is short"
   ]
  },
  {
   "cell_type": "code",
   "execution_count": 11,
   "metadata": {},
   "outputs": [
    {
     "name": "stdout",
     "output_type": "stream",
     "text": [
      "      From worker 19:\tI'm worker 19, working on 18\n",
      "      From worker 13:\tI'm worker 13, working on 12\n",
      "      From worker 18:\tI'm worker 18, working on 17\n",
      "      From worker 6:\tI'm worker 6, working on 5\n",
      "      From worker 14:\tI'm worker 14, working on 13\n",
      "      From worker 4:\tI'm worker 4, working on 3\n",
      "      From worker 5:\tI'm worker 5, working on 4\n",
      "      From worker 2:\tI'm worker 2, working on 1\n",
      "      From worker 9:\tI'm worker 9, working on 8\n",
      "      From worker 3:\tI'm worker 3, working on 2\n",
      "      From worker 16:\tI'm worker 16, working on 15\n",
      "      From worker 8:\tI'm worker 8, working on 7\n",
      "      From worker 7:\tI'm worker 7, working on 6\n",
      "      From worker 21:\tI'm worker 21, working on 20\n",
      "      From worker 11:\tI'm worker 11, working on 10\n",
      "      From worker 20:\tI'm worker 20, working on 19\n",
      "      From worker 10:\tI'm worker 10, working on 9\n",
      "      From worker 12:\tI'm worker 12, working on 11\n",
      "      From worker 15:\tI'm worker 15, working on 14\n",
      "      From worker 17:\tI'm worker 17, working on 16\n"
     ]
    },
    {
     "data": {
      "text/plain": [
       "Task (done) @0x00007f64e8784010"
      ]
     },
     "execution_count": 11,
     "metadata": {},
     "output_type": "execute_result"
    }
   ],
   "source": [
    "@sync @distributed for i in 1:20\n",
    "    println(\"I'm worker $(myid()), working on $i\")\n",
    "end"
   ]
  },
  {
   "cell_type": "code",
   "execution_count": 12,
   "metadata": {},
   "outputs": [
    {
     "name": "stdout",
     "output_type": "stream",
     "text": [
      "working on i=2: its square is 4\n"
     ]
    }
   ],
   "source": [
    "printsquare(i) = println(\"working on i=$i: its square is $(i^2)\");\n",
    "printsquare(2)"
   ]
  },
  {
   "cell_type": "code",
   "execution_count": 13,
   "metadata": {
    "jupyter": {
     "outputs_hidden": true
    },
    "scrolled": true
   },
   "outputs": [
    {
     "ename": "LoadError",
     "evalue": "TaskFailedException:\nOn worker 2:\nUndefVarError: #printsquare not defined\ndeserialize_datatype at /buildworker/worker/package_linux64/build/usr/share/julia/stdlib/v1.5/Serialization/src/Serialization.jl:1252\nhandle_deserialize at /buildworker/worker/package_linux64/build/usr/share/julia/stdlib/v1.5/Serialization/src/Serialization.jl:826\ndeserialize at /buildworker/worker/package_linux64/build/usr/share/julia/stdlib/v1.5/Serialization/src/Serialization.jl:773\nhandle_deserialize at /buildworker/worker/package_linux64/build/usr/share/julia/stdlib/v1.5/Serialization/src/Serialization.jl:833\ndeserialize at /buildworker/worker/package_linux64/build/usr/share/julia/stdlib/v1.5/Serialization/src/Serialization.jl:773 [inlined]\ndeserialize_global_from_main at /buildworker/worker/package_linux64/build/usr/share/julia/stdlib/v1.5/Distributed/src/clusterserialize.jl:180\n#3 at /buildworker/worker/package_linux64/build/usr/share/julia/stdlib/v1.5/Distributed/src/clusterserialize.jl:72 [inlined]\nforeach at ./abstractarray.jl:2009\ndeserialize at /buildworker/worker/package_linux64/build/usr/share/julia/stdlib/v1.5/Distributed/src/clusterserialize.jl:72\nhandle_deserialize at /buildworker/worker/package_linux64/build/usr/share/julia/stdlib/v1.5/Serialization/src/Serialization.jl:919\ndeserialize at /buildworker/worker/package_linux64/build/usr/share/julia/stdlib/v1.5/Serialization/src/Serialization.jl:773\nhandle_deserialize at /buildworker/worker/package_linux64/build/usr/share/julia/stdlib/v1.5/Serialization/src/Serialization.jl:830\ndeserialize at /buildworker/worker/package_linux64/build/usr/share/julia/stdlib/v1.5/Serialization/src/Serialization.jl:773\ndeserialize_datatype at /buildworker/worker/package_linux64/build/usr/share/julia/stdlib/v1.5/Serialization/src/Serialization.jl:1276\nhandle_deserialize at /buildworker/worker/package_linux64/build/usr/share/julia/stdlib/v1.5/Serialization/src/Serialization.jl:826\ndeserialize at /buildworker/worker/package_linux64/build/usr/share/julia/stdlib/v1.5/Serialization/src/Serialization.jl:773\nhandle_deserialize at /buildworker/worker/package_linux64/build/usr/share/julia/stdlib/v1.5/Serialization/src/Serialization.jl:833\ndeserialize at /buildworker/worker/package_linux64/build/usr/share/julia/stdlib/v1.5/Serialization/src/Serialization.jl:773 [inlined]\ndeserialize_msg at /buildworker/worker/package_linux64/build/usr/share/julia/stdlib/v1.5/Distributed/src/messages.jl:99\n#invokelatest#1 at ./essentials.jl:710 [inlined]\ninvokelatest at ./essentials.jl:709 [inlined]\nmessage_handler_loop at /buildworker/worker/package_linux64/build/usr/share/julia/stdlib/v1.5/Distributed/src/process_messages.jl:185\nprocess_tcp_streams at /buildworker/worker/package_linux64/build/usr/share/julia/stdlib/v1.5/Distributed/src/process_messages.jl:142\n#99 at ./task.jl:356\n\n...and 9 more exception(s).\n\nStacktrace:\n [1] sync_end(::Channel{Any}) at ./task.jl:314\n [2] (::Distributed.var\"#159#161\"{var\"#13#14\",UnitRange{Int64}})() at ./task.jl:333",
     "output_type": "error",
     "traceback": [
      "TaskFailedException:\nOn worker 2:\nUndefVarError: #printsquare not defined\ndeserialize_datatype at /buildworker/worker/package_linux64/build/usr/share/julia/stdlib/v1.5/Serialization/src/Serialization.jl:1252\nhandle_deserialize at /buildworker/worker/package_linux64/build/usr/share/julia/stdlib/v1.5/Serialization/src/Serialization.jl:826\ndeserialize at /buildworker/worker/package_linux64/build/usr/share/julia/stdlib/v1.5/Serialization/src/Serialization.jl:773\nhandle_deserialize at /buildworker/worker/package_linux64/build/usr/share/julia/stdlib/v1.5/Serialization/src/Serialization.jl:833\ndeserialize at /buildworker/worker/package_linux64/build/usr/share/julia/stdlib/v1.5/Serialization/src/Serialization.jl:773 [inlined]\ndeserialize_global_from_main at /buildworker/worker/package_linux64/build/usr/share/julia/stdlib/v1.5/Distributed/src/clusterserialize.jl:180\n#3 at /buildworker/worker/package_linux64/build/usr/share/julia/stdlib/v1.5/Distributed/src/clusterserialize.jl:72 [inlined]\nforeach at ./abstractarray.jl:2009\ndeserialize at /buildworker/worker/package_linux64/build/usr/share/julia/stdlib/v1.5/Distributed/src/clusterserialize.jl:72\nhandle_deserialize at /buildworker/worker/package_linux64/build/usr/share/julia/stdlib/v1.5/Serialization/src/Serialization.jl:919\ndeserialize at /buildworker/worker/package_linux64/build/usr/share/julia/stdlib/v1.5/Serialization/src/Serialization.jl:773\nhandle_deserialize at /buildworker/worker/package_linux64/build/usr/share/julia/stdlib/v1.5/Serialization/src/Serialization.jl:830\ndeserialize at /buildworker/worker/package_linux64/build/usr/share/julia/stdlib/v1.5/Serialization/src/Serialization.jl:773\ndeserialize_datatype at /buildworker/worker/package_linux64/build/usr/share/julia/stdlib/v1.5/Serialization/src/Serialization.jl:1276\nhandle_deserialize at /buildworker/worker/package_linux64/build/usr/share/julia/stdlib/v1.5/Serialization/src/Serialization.jl:826\ndeserialize at /buildworker/worker/package_linux64/build/usr/share/julia/stdlib/v1.5/Serialization/src/Serialization.jl:773\nhandle_deserialize at /buildworker/worker/package_linux64/build/usr/share/julia/stdlib/v1.5/Serialization/src/Serialization.jl:833\ndeserialize at /buildworker/worker/package_linux64/build/usr/share/julia/stdlib/v1.5/Serialization/src/Serialization.jl:773 [inlined]\ndeserialize_msg at /buildworker/worker/package_linux64/build/usr/share/julia/stdlib/v1.5/Distributed/src/messages.jl:99\n#invokelatest#1 at ./essentials.jl:710 [inlined]\ninvokelatest at ./essentials.jl:709 [inlined]\nmessage_handler_loop at /buildworker/worker/package_linux64/build/usr/share/julia/stdlib/v1.5/Distributed/src/process_messages.jl:185\nprocess_tcp_streams at /buildworker/worker/package_linux64/build/usr/share/julia/stdlib/v1.5/Distributed/src/process_messages.jl:142\n#99 at ./task.jl:356\n\n...and 9 more exception(s).\n\nStacktrace:\n [1] sync_end(::Channel{Any}) at ./task.jl:314\n [2] (::Distributed.var\"#159#161\"{var\"#13#14\",UnitRange{Int64}})() at ./task.jl:333",
      "",
      "Stacktrace:",
      " [1] sync_end(::Channel{Any}) at ./task.jl:314",
      " [2] top-level scope at task.jl:333",
      " [3] include_string(::Function, ::Module, ::String, ::String) at ./loading.jl:1091"
     ]
    }
   ],
   "source": [
    "@sync @distributed for i in 1:10\n",
    "  printsquare(i) # error\n",
    "end"
   ]
  },
  {
   "cell_type": "code",
   "execution_count": 14,
   "metadata": {},
   "outputs": [],
   "source": [
    "@everywhere printsquare(i) = println(\"working on i=$i:\\tits square is $(i^2)\")"
   ]
  },
  {
   "cell_type": "code",
   "execution_count": 15,
   "metadata": {},
   "outputs": [
    {
     "name": "stdout",
     "output_type": "stream",
     "text": [
      "      From worker 18:\tworking on i=7:\tits square is 49\n",
      "      From worker 5:\tworking on i=14:\tits square is 196\n",
      "      From worker 4:\tworking on i=13:\tits square is 169\n",
      "      From worker 13:\tworking on i=2:\tits square is 4\n",
      "      From worker 20:\tworking on i=9:\tits square is 81\n",
      "      From worker 15:\tworking on i=4:\tits square is 16\n",
      "      From worker 12:\tworking on i=1:\tits square is 1\n",
      "      From worker 17:\tworking on i=6:\tits square is 36\n",
      "      From worker 16:\tworking on i=5:\tits square is 25\n",
      "      From worker 21:\tworking on i=10:\tits square is 100\n",
      "      From worker 19:\tworking on i=8:\tits square is 64\n",
      "      From worker 9:\tworking on i=18:\tits square is 324\n",
      "      From worker 3:\tworking on i=12:\tits square is 144\n",
      "      From worker 10:\tworking on i=19:\tits square is 361\n",
      "      From worker 14:\tworking on i=3:\tits square is 9\n",
      "      From worker 7:\tworking on i=16:\tits square is 256\n",
      "      From worker 6:\tworking on i=15:\tits square is 225\n",
      "      From worker 8:\tworking on i=17:\tits square is 289\n",
      "      From worker 2:\tworking on i=11:\tits square is 121\n",
      "      From worker 11:\tworking on i=20:\tits square is 400\n"
     ]
    },
    {
     "data": {
      "text/plain": [
       "Task (done) @0x00007f64e8a60760"
      ]
     },
     "execution_count": 15,
     "metadata": {},
     "output_type": "execute_result"
    }
   ],
   "source": [
    "@sync @distributed for i in 1:20\n",
    "  printsquare(i)\n",
    "end"
   ]
  },
  {
   "cell_type": "code",
   "execution_count": 16,
   "metadata": {},
   "outputs": [
    {
     "name": "stdout",
     "output_type": "stream",
     "text": [
      "      From worker 21:\t Activating environment at `~/projects/scratch-code/julia_stuff/distributed/Project.toml`\n",
      "      From worker 5:\t Activating environment at `~/projects/scratch-code/julia_stuff/distributed/Project.toml`\n",
      "      From worker 18:\t Activating environment at `~/projects/scratch-code/julia_stuff/distributed/Project.toml`\n",
      "      From worker 6:\t Activating environment at `~/projects/scratch-code/julia_stuff/distributed/Project.toml`\n",
      "      From worker 15:\t Activating environment at `~/projects/scratch-code/julia_stuff/distributed/Project.toml`\n",
      "      From worker 12:\t Activating environment at `~/projects/scratch-code/julia_stuff/distributed/Project.toml`\n",
      "      From worker 19:\t Activating environment at `~/projects/scratch-code/julia_stuff/distributed/Project.toml`\n",
      "      From worker 17:\t Activating environment at `~/projects/scratch-code/julia_stuff/distributed/Project.toml`\n",
      "      From worker 20:\t Activating environment at `~/projects/scratch-code/julia_stuff/distributed/Project.toml`\n",
      "      From worker 14:\t Activating environment at `~/projects/scratch-code/julia_stuff/distributed/Project.toml`\n",
      "      From worker 2:\t Activating environment at `~/projects/scratch-code/julia_stuff/distributed/Project.toml`\n",
      "      From worker 16:\t Activating environment at `~/projects/scratch-code/julia_stuff/distributed/Project.toml`\n",
      "      From worker 13:\t Activating environment at `~/projects/scratch-code/julia_stuff/distributed/Project.toml`\n",
      "      From worker 3:\t Activating environment at `~/projects/scratch-code/julia_stuff/distributed/Project.toml`\n",
      "      From worker 9:\t Activating environment at `~/projects/scratch-code/julia_stuff/distributed/Project.toml`\n",
      "      From worker 7:\t Activating environment at `~/projects/scratch-code/julia_stuff/distributed/Project.toml`\n",
      "      From worker 11:\t Activating environment at `~/projects/scratch-code/julia_stuff/distributed/Project.toml`\n",
      "      From worker 8:\t Activating environment at `~/projects/scratch-code/julia_stuff/distributed/Project.toml`\n",
      "      From worker 10:\t Activating environment at `~/projects/scratch-code/julia_stuff/distributed/Project.toml`\n",
      "      From worker 4:\t Activating environment at `~/projects/scratch-code/julia_stuff/distributed/Project.toml`\n"
     ]
    },
    {
     "name": "stderr",
     "output_type": "stream",
     "text": [
      "\u001b[32m\u001b[1m Activating\u001b[22m\u001b[39m environment at `~/projects/scratch-code/julia_stuff/distributed/Project.toml`\n"
     ]
    }
   ],
   "source": [
    "@everywhere begin\n",
    "  using Pkg\n",
    "  Pkg.activate(\".\")\n",
    "  using Distributions\n",
    "  using SharedArrays\n",
    "end"
   ]
  },
  {
   "cell_type": "code",
   "execution_count": 17,
   "metadata": {},
   "outputs": [],
   "source": [
    "@everywhere function onesim(N, nrarecat, μ)\n",
    "    p = μ / N\n",
    "    @assert 0.0 ≤ p ≤ 0.5 \"the rate category probability must ∈[0, 0.5]\"\n",
    "    if nrarecat == 1\n",
    "        probs = [p, (1.0 - p) / 2.0, (1.0 - p) / 2.0]\n",
    "        @assert p ≤ 1.0\n",
    "    else\n",
    "        probs = [p, p, 1 - 2p]\n",
    "    end\n",
    "    \n",
    "    df = 2\n",
    "    obs = rand(Multinomial(N, probs), 1)\n",
    "    p̂ = obs ./ N\n",
    "    pearson = N * sum((p̂ - probs).^2 ./ probs)\n",
    "    Qlog = 0.0\n",
    "    for i in 1:3\n",
    "        if obs[i] == 0\n",
    "            continue\n",
    "        end\n",
    "        \n",
    "        ratio = p̂[i] / probs[i]\n",
    "        ratio ≉ 1.0 || continue\n",
    "        \n",
    "        dev = ratio - 1.0\n",
    "        Qlog += probs[i] * dev^2 / log(ratio)\n",
    "    end\n",
    "    \n",
    "    Qlog *= 2N\n",
    "    \n",
    "    p_pearson = ccdf(Chisq(df), pearson)\n",
    "    p_Qlog    = ccdf(Chisq(df), Qlog)\n",
    "    \n",
    "    return pearson, Qlog, p_pearson, p_Qlog\n",
    "end"
   ]
  },
  {
   "cell_type": "code",
   "execution_count": 18,
   "metadata": {},
   "outputs": [
    {
     "data": {
      "text/plain": [
       "3600"
      ]
     },
     "execution_count": 18,
     "metadata": {},
     "output_type": "execute_result"
    }
   ],
   "source": [
    "nreps = 200\n",
    "samplesizes = [30, 100, 1000]\n",
    "nrarecats = [1, 2]\n",
    "μs = [0.1, 1.0, 2.0]\n",
    "\n",
    "Nssize    = length(samplesizes)\n",
    "Nnrarecat = length(nrarecats)\n",
    "Nμ        = length(μs)\n",
    "\n",
    "ntotal = nreps * Nssize * Nnrarecat * Nμ"
   ]
  },
  {
   "cell_type": "code",
   "execution_count": 19,
   "metadata": {},
   "outputs": [],
   "source": [
    "samplesize = SharedArray(\n",
    "    repeat(samplesizes, inner=nreps, outer=Nnrarecat * Nμ))\n",
    "nrarecat = SharedArray(\n",
    "    repeat(nrarecats, inner=nreps * Nssize, outer=Nμ))\n",
    "μ = SharedArray(\n",
    "    repeat(μs, inner=nreps * Nssize * Nnrarecat));"
   ]
  },
  {
   "cell_type": "code",
   "execution_count": 20,
   "metadata": {},
   "outputs": [],
   "source": [
    "pearson   = SharedArray{Float64}(ntotal)\n",
    "qlog      = SharedArray{Float64}(ntotal)\n",
    "p_pearson = SharedArray{Float64}(ntotal)\n",
    "p_qlog    = SharedArray{Float64}(ntotal);"
   ]
  },
  {
   "cell_type": "code",
   "execution_count": 21,
   "metadata": {},
   "outputs": [
    {
     "data": {
      "text/plain": [
       "Task (done) @0x00007f64fc33fd00"
      ]
     },
     "execution_count": 21,
     "metadata": {},
     "output_type": "execute_result"
    }
   ],
   "source": [
    "@sync @distributed for i in 1:ntotal\n",
    "  res = onesim(samplesize[i], nrarecat[i], μ[i])\n",
    "  pearson[i], qlog[i], p_pearson[i], p_qlog[i] = res\n",
    "end"
   ]
  },
  {
   "cell_type": "code",
   "execution_count": 22,
   "metadata": {},
   "outputs": [
    {
     "data": {
      "text/html": [
       "<table class=\"data-frame\"><thead><tr><th></th><th>samplesize</th><th>numrarecategories</th><th>numrareexpected</th><th>pearson</th><th>qlog</th><th>pval_pearson</th></tr><tr><th></th><th>Int64</th><th>Int64</th><th>Float64</th><th>Float64</th><th>Float64</th><th>Float64</th></tr></thead><tbody><p>3,600 rows × 7 columns (omitted printing of 1 columns)</p><tr><th>1</th><td>30</td><td>1</td><td>0.1</td><td>0.234114</td><td>0.33394</td><td>0.889535</td></tr><tr><th>2</th><td>30</td><td>1</td><td>0.1</td><td>0.100334</td><td>0.200334</td><td>0.95107</td></tr><tr><th>3</th><td>30</td><td>1</td><td>0.1</td><td>0.100334</td><td>0.200334</td><td>0.95107</td></tr><tr><th>4</th><td>30</td><td>1</td><td>0.1</td><td>1.30435</td><td>1.40641</td><td>0.520912</td></tr><tr><th>5</th><td>30</td><td>1</td><td>0.1</td><td>0.234114</td><td>0.33394</td><td>0.889535</td></tr><tr><th>6</th><td>30</td><td>1</td><td>0.1</td><td>3.44482</td><td>3.57174</td><td>0.178635</td></tr><tr><th>7</th><td>30</td><td>1</td><td>0.1</td><td>0.100334</td><td>0.200334</td><td>0.95107</td></tr><tr><th>8</th><td>30</td><td>1</td><td>0.1</td><td>0.635452</td><td>0.735356</td><td>0.727802</td></tr><tr><th>9</th><td>30</td><td>1</td><td>0.1</td><td>0.234114</td><td>0.33394</td><td>0.889535</td></tr><tr><th>10</th><td>30</td><td>1</td><td>0.1</td><td>0.234114</td><td>0.33394</td><td>0.889535</td></tr><tr><th>11</th><td>30</td><td>1</td><td>0.1</td><td>0.234114</td><td>0.33394</td><td>0.889535</td></tr><tr><th>12</th><td>30</td><td>1</td><td>0.1</td><td>2.2408</td><td>2.35029</td><td>0.326149</td></tr><tr><th>13</th><td>30</td><td>1</td><td>0.1</td><td>2.2408</td><td>2.35029</td><td>0.326149</td></tr><tr><th>14</th><td>30</td><td>1</td><td>0.1</td><td>0.234114</td><td>0.33394</td><td>0.889535</td></tr><tr><th>15</th><td>30</td><td>1</td><td>0.1</td><td>0.100334</td><td>0.200334</td><td>0.95107</td></tr><tr><th>16</th><td>30</td><td>1</td><td>0.1</td><td>0.100334</td><td>0.200334</td><td>0.95107</td></tr><tr><th>17</th><td>30</td><td>1</td><td>0.1</td><td>4.91639</td><td>5.07743</td><td>0.0855894</td></tr><tr><th>18</th><td>30</td><td>1</td><td>0.1</td><td>8.42809</td><td>5.56875</td><td>0.0147864</td></tr><tr><th>19</th><td>30</td><td>1</td><td>0.1</td><td>0.234114</td><td>0.33394</td><td>0.889535</td></tr><tr><th>20</th><td>30</td><td>1</td><td>0.1</td><td>0.234114</td><td>0.33394</td><td>0.889535</td></tr><tr><th>21</th><td>30</td><td>1</td><td>0.1</td><td>0.234114</td><td>0.33394</td><td>0.889535</td></tr><tr><th>22</th><td>30</td><td>1</td><td>0.1</td><td>1.30435</td><td>1.40641</td><td>0.520912</td></tr><tr><th>23</th><td>30</td><td>1</td><td>0.1</td><td>2.2408</td><td>2.35029</td><td>0.326149</td></tr><tr><th>24</th><td>30</td><td>1</td><td>0.1</td><td>10.8361</td><td>8.03745</td><td>0.00443574</td></tr><tr><th>25</th><td>30</td><td>1</td><td>0.1</td><td>2.2408</td><td>2.35029</td><td>0.326149</td></tr><tr><th>26</th><td>30</td><td>1</td><td>0.1</td><td>0.234114</td><td>0.33394</td><td>0.889535</td></tr><tr><th>27</th><td>30</td><td>1</td><td>0.1</td><td>0.234114</td><td>0.33394</td><td>0.889535</td></tr><tr><th>28</th><td>30</td><td>1</td><td>0.1</td><td>0.234114</td><td>0.33394</td><td>0.889535</td></tr><tr><th>29</th><td>30</td><td>1</td><td>0.1</td><td>0.100334</td><td>0.200334</td><td>0.95107</td></tr><tr><th>30</th><td>30</td><td>1</td><td>0.1</td><td>0.635452</td><td>0.735356</td><td>0.727802</td></tr><tr><th>&vellip;</th><td>&vellip;</td><td>&vellip;</td><td>&vellip;</td><td>&vellip;</td><td>&vellip;</td><td>&vellip;</td></tr></tbody></table>"
      ],
      "text/latex": [
       "\\begin{tabular}{r|ccccccc}\n",
       "\t& samplesize & numrarecategories & numrareexpected & pearson & qlog & pval\\_pearson & \\\\\n",
       "\t\\hline\n",
       "\t& Int64 & Int64 & Float64 & Float64 & Float64 & Float64 & \\\\\n",
       "\t\\hline\n",
       "\t1 & 30 & 1 & 0.1 & 0.234114 & 0.33394 & 0.889535 & $\\dots$ \\\\\n",
       "\t2 & 30 & 1 & 0.1 & 0.100334 & 0.200334 & 0.95107 & $\\dots$ \\\\\n",
       "\t3 & 30 & 1 & 0.1 & 0.100334 & 0.200334 & 0.95107 & $\\dots$ \\\\\n",
       "\t4 & 30 & 1 & 0.1 & 1.30435 & 1.40641 & 0.520912 & $\\dots$ \\\\\n",
       "\t5 & 30 & 1 & 0.1 & 0.234114 & 0.33394 & 0.889535 & $\\dots$ \\\\\n",
       "\t6 & 30 & 1 & 0.1 & 3.44482 & 3.57174 & 0.178635 & $\\dots$ \\\\\n",
       "\t7 & 30 & 1 & 0.1 & 0.100334 & 0.200334 & 0.95107 & $\\dots$ \\\\\n",
       "\t8 & 30 & 1 & 0.1 & 0.635452 & 0.735356 & 0.727802 & $\\dots$ \\\\\n",
       "\t9 & 30 & 1 & 0.1 & 0.234114 & 0.33394 & 0.889535 & $\\dots$ \\\\\n",
       "\t10 & 30 & 1 & 0.1 & 0.234114 & 0.33394 & 0.889535 & $\\dots$ \\\\\n",
       "\t11 & 30 & 1 & 0.1 & 0.234114 & 0.33394 & 0.889535 & $\\dots$ \\\\\n",
       "\t12 & 30 & 1 & 0.1 & 2.2408 & 2.35029 & 0.326149 & $\\dots$ \\\\\n",
       "\t13 & 30 & 1 & 0.1 & 2.2408 & 2.35029 & 0.326149 & $\\dots$ \\\\\n",
       "\t14 & 30 & 1 & 0.1 & 0.234114 & 0.33394 & 0.889535 & $\\dots$ \\\\\n",
       "\t15 & 30 & 1 & 0.1 & 0.100334 & 0.200334 & 0.95107 & $\\dots$ \\\\\n",
       "\t16 & 30 & 1 & 0.1 & 0.100334 & 0.200334 & 0.95107 & $\\dots$ \\\\\n",
       "\t17 & 30 & 1 & 0.1 & 4.91639 & 5.07743 & 0.0855894 & $\\dots$ \\\\\n",
       "\t18 & 30 & 1 & 0.1 & 8.42809 & 5.56875 & 0.0147864 & $\\dots$ \\\\\n",
       "\t19 & 30 & 1 & 0.1 & 0.234114 & 0.33394 & 0.889535 & $\\dots$ \\\\\n",
       "\t20 & 30 & 1 & 0.1 & 0.234114 & 0.33394 & 0.889535 & $\\dots$ \\\\\n",
       "\t21 & 30 & 1 & 0.1 & 0.234114 & 0.33394 & 0.889535 & $\\dots$ \\\\\n",
       "\t22 & 30 & 1 & 0.1 & 1.30435 & 1.40641 & 0.520912 & $\\dots$ \\\\\n",
       "\t23 & 30 & 1 & 0.1 & 2.2408 & 2.35029 & 0.326149 & $\\dots$ \\\\\n",
       "\t24 & 30 & 1 & 0.1 & 10.8361 & 8.03745 & 0.00443574 & $\\dots$ \\\\\n",
       "\t25 & 30 & 1 & 0.1 & 2.2408 & 2.35029 & 0.326149 & $\\dots$ \\\\\n",
       "\t26 & 30 & 1 & 0.1 & 0.234114 & 0.33394 & 0.889535 & $\\dots$ \\\\\n",
       "\t27 & 30 & 1 & 0.1 & 0.234114 & 0.33394 & 0.889535 & $\\dots$ \\\\\n",
       "\t28 & 30 & 1 & 0.1 & 0.234114 & 0.33394 & 0.889535 & $\\dots$ \\\\\n",
       "\t29 & 30 & 1 & 0.1 & 0.100334 & 0.200334 & 0.95107 & $\\dots$ \\\\\n",
       "\t30 & 30 & 1 & 0.1 & 0.635452 & 0.735356 & 0.727802 & $\\dots$ \\\\\n",
       "\t$\\dots$ & $\\dots$ & $\\dots$ & $\\dots$ & $\\dots$ & $\\dots$ & $\\dots$ &  \\\\\n",
       "\\end{tabular}\n"
      ],
      "text/plain": [
       "3600×7 DataFrame. Omitted printing of 3 columns\n",
       "│ Row  │ samplesize │ numrarecategories │ numrareexpected │ pearson  │\n",
       "│      │ \u001b[90mInt64\u001b[39m      │ \u001b[90mInt64\u001b[39m             │ \u001b[90mFloat64\u001b[39m         │ \u001b[90mFloat64\u001b[39m  │\n",
       "├──────┼────────────┼───────────────────┼─────────────────┼──────────┤\n",
       "│ 1    │ 30         │ 1                 │ 0.1             │ 0.234114 │\n",
       "│ 2    │ 30         │ 1                 │ 0.1             │ 0.100334 │\n",
       "│ 3    │ 30         │ 1                 │ 0.1             │ 0.100334 │\n",
       "│ 4    │ 30         │ 1                 │ 0.1             │ 1.30435  │\n",
       "│ 5    │ 30         │ 1                 │ 0.1             │ 0.234114 │\n",
       "│ 6    │ 30         │ 1                 │ 0.1             │ 3.44482  │\n",
       "│ 7    │ 30         │ 1                 │ 0.1             │ 0.100334 │\n",
       "│ 8    │ 30         │ 1                 │ 0.1             │ 0.635452 │\n",
       "│ 9    │ 30         │ 1                 │ 0.1             │ 0.234114 │\n",
       "│ 10   │ 30         │ 1                 │ 0.1             │ 0.234114 │\n",
       "⋮\n",
       "│ 3590 │ 1000       │ 2                 │ 2.0             │ 1.0      │\n",
       "│ 3591 │ 1000       │ 2                 │ 2.0             │ 2.00402  │\n",
       "│ 3592 │ 1000       │ 2                 │ 2.0             │ 6.501    │\n",
       "│ 3593 │ 1000       │ 2                 │ 2.0             │ 6.5251   │\n",
       "│ 3594 │ 1000       │ 2                 │ 2.0             │ 2.501    │\n",
       "│ 3595 │ 1000       │ 2                 │ 2.0             │ 0.501004 │\n",
       "│ 3596 │ 1000       │ 2                 │ 2.0             │ 1.0      │\n",
       "│ 3597 │ 1000       │ 2                 │ 2.0             │ 2.00402  │\n",
       "│ 3598 │ 1000       │ 2                 │ 2.0             │ 0.501004 │\n",
       "│ 3599 │ 1000       │ 2                 │ 2.0             │ 4.50904  │\n",
       "│ 3600 │ 1000       │ 2                 │ 2.0             │ 0.501004 │"
      ]
     },
     "execution_count": 22,
     "metadata": {},
     "output_type": "execute_result"
    }
   ],
   "source": [
    "df = DataFrame(\n",
    "  samplesize = samplesize,\n",
    "  numrarecategories = nrarecat,\n",
    "  numrareexpected = μ,\n",
    "  pearson = pearson,\n",
    "  qlog = qlog,\n",
    "  pval_pearson = p_pearson,\n",
    "  pval_qlog = p_qlog\n",
    ")"
   ]
  },
  {
   "cell_type": "code",
   "execution_count": 23,
   "metadata": {},
   "outputs": [
    {
     "data": {
      "text/plain": [
       "3600×2 Array{Float64,2}:\n",
       " 0.234114  0.33394\n",
       " 0.100334  0.200334\n",
       " 0.100334  0.200334\n",
       " 1.30435   1.40641\n",
       " 0.234114  0.33394\n",
       " 3.44482   3.57174\n",
       " 0.100334  0.200334\n",
       " 0.635452  0.735356\n",
       " 0.234114  0.33394\n",
       " 0.234114  0.33394\n",
       " 0.234114  0.33394\n",
       " 2.2408    2.35029\n",
       " 2.2408    2.35029\n",
       " ⋮         \n",
       " 0.501004  0.558309\n",
       " 1.0       1.02361\n",
       " 2.00402   4.00401\n",
       " 6.501     7.82321\n",
       " 6.5251    5.61811\n",
       " 2.501     4.46731\n",
       " 0.501004  0.467308\n",
       " 1.0       1.02361\n",
       " 2.00402   1.7748\n",
       " 0.501004  0.467308\n",
       " 4.50904   3.83125\n",
       " 0.501004  0.558309"
      ]
     },
     "execution_count": 23,
     "metadata": {},
     "output_type": "execute_result"
    }
   ],
   "source": [
    "hcat(pearson, qlog)"
   ]
  },
  {
   "cell_type": "code",
   "execution_count": 24,
   "metadata": {},
   "outputs": [
    {
     "data": {
      "text/plain": [
       "0.016567371933539226"
      ]
     },
     "execution_count": 24,
     "metadata": {},
     "output_type": "execute_result"
    }
   ],
   "source": [
    "quantile(p_pearson, 0.05)"
   ]
  },
  {
   "cell_type": "code",
   "execution_count": 25,
   "metadata": {},
   "outputs": [
    {
     "data": {
      "text/plain": [
       "0.060093203640496355"
      ]
     },
     "execution_count": 25,
     "metadata": {},
     "output_type": "execute_result"
    }
   ],
   "source": [
    "quantile(p_qlog, 0.05)"
   ]
  },
  {
   "cell_type": "code",
   "execution_count": 26,
   "metadata": {},
   "outputs": [],
   "source": [
    "@rlibrary ggplot2"
   ]
  },
  {
   "cell_type": "code",
   "execution_count": 28,
   "metadata": {},
   "outputs": [
    {
     "data": {
      "image/png": "[encoded data removed]"
     },
     "metadata": {},
     "output_type": "display_data"
    },
    {
     "data": {
      "text/plain": [
       "RObject{VecSxp}\n"
      ]
     },
     "execution_count": 28,
     "metadata": {},
     "output_type": "execute_result"
    }
   ],
   "source": [
    "ggplot(df, aes(x=:pval_pearson)) +\n",
    "    geom_histogram(bins = 30) +\n",
    "    facet_grid(R\"numrareexpected~numrarecategories\")"
   ]
  },
  {
   "cell_type": "code",
   "execution_count": 29,
   "metadata": {
    "scrolled": false
   },
   "outputs": [
    {
     "data": {
      "image/png": "[encoded data removed]"
     },
     "metadata": {},
     "output_type": "display_data"
    },
    {
     "data": {
      "text/plain": [
       "RObject{VecSxp}\n"
      ]
     },
     "execution_count": 29,
     "metadata": {},
     "output_type": "execute_result"
    }
   ],
   "source": [
    "ggplot(df, aes(x=:pval_qlog)) +\n",
    "    geom_histogram(bins = 30) +\n",
    "    facet_grid(R\"numrareexpected~numrarecategories\")"
   ]
  },
  {
   "cell_type": "code",
   "execution_count": 30,
   "metadata": {},
   "outputs": [
    {
     "data": {
      "text/html": [
       "<table class=\"data-frame\"><thead><tr><th></th><th>numrarecategories</th><th>numrareexpected</th><th>x1</th></tr><tr><th></th><th>Int64</th><th>Float64</th><th>Float64</th></tr></thead><tbody><p>6 rows × 3 columns</p><tr><th>1</th><td>1</td><td>0.1</td><td>0.015982</td></tr><tr><th>2</th><td>2</td><td>0.1</td><td>0.0163957</td></tr><tr><th>3</th><td>1</td><td>1.0</td><td>0.0627557</td></tr><tr><th>4</th><td>2</td><td>1.0</td><td>0.0806322</td></tr><tr><th>5</th><td>1</td><td>2.0</td><td>0.0380115</td></tr><tr><th>6</th><td>2</td><td>2.0</td><td>0.0760075</td></tr></tbody></table>"
      ],
      "text/latex": [
       "\\begin{tabular}{r|ccc}\n",
       "\t& numrarecategories & numrareexpected & x1\\\\\n",
       "\t\\hline\n",
       "\t& Int64 & Float64 & Float64\\\\\n",
       "\t\\hline\n",
       "\t1 & 1 & 0.1 & 0.015982 \\\\\n",
       "\t2 & 2 & 0.1 & 0.0163957 \\\\\n",
       "\t3 & 1 & 1.0 & 0.0627557 \\\\\n",
       "\t4 & 2 & 1.0 & 0.0806322 \\\\\n",
       "\t5 & 1 & 2.0 & 0.0380115 \\\\\n",
       "\t6 & 2 & 2.0 & 0.0760075 \\\\\n",
       "\\end{tabular}\n"
      ],
      "text/plain": [
       "6×3 DataFrame\n",
       "│ Row │ numrarecategories │ numrareexpected │ x1        │\n",
       "│     │ \u001b[90mInt64\u001b[39m             │ \u001b[90mFloat64\u001b[39m         │ \u001b[90mFloat64\u001b[39m   │\n",
       "├─────┼───────────────────┼─────────────────┼───────────┤\n",
       "│ 1   │ 1                 │ 0.1             │ 0.015982  │\n",
       "│ 2   │ 2                 │ 0.1             │ 0.0163957 │\n",
       "│ 3   │ 1                 │ 1.0             │ 0.0627557 │\n",
       "│ 4   │ 2                 │ 1.0             │ 0.0806322 │\n",
       "│ 5   │ 1                 │ 2.0             │ 0.0380115 │\n",
       "│ 6   │ 2                 │ 2.0             │ 0.0760075 │"
      ]
     },
     "execution_count": 30,
     "metadata": {},
     "output_type": "execute_result"
    }
   ],
   "source": [
    "by(df, [:numrarecategories, :numrareexpected], d -> quantile(d.pval_pearson, 0.05))"
   ]
  },
  {
   "cell_type": "code",
   "execution_count": 31,
   "metadata": {},
   "outputs": [
    {
     "data": {
      "text/html": [
       "<table class=\"data-frame\"><thead><tr><th></th><th>numrarecategories</th><th>numrareexpected</th><th>x1</th></tr><tr><th></th><th>Int64</th><th>Float64</th><th>Float64</th></tr></thead><tbody><p>6 rows × 3 columns</p><tr><th>1</th><td>1</td><td>0.1</td><td>0.0617676</td></tr><tr><th>2</th><td>2</td><td>0.1</td><td>0.0653125</td></tr><tr><th>3</th><td>1</td><td>1.0</td><td>0.0606628</td></tr><tr><th>4</th><td>2</td><td>1.0</td><td>0.0709296</td></tr><tr><th>5</th><td>1</td><td>2.0</td><td>0.0371704</td></tr><tr><th>6</th><td>2</td><td>2.0</td><td>0.0269498</td></tr></tbody></table>"
      ],
      "text/latex": [
       "\\begin{tabular}{r|ccc}\n",
       "\t& numrarecategories & numrareexpected & x1\\\\\n",
       "\t\\hline\n",
       "\t& Int64 & Float64 & Float64\\\\\n",
       "\t\\hline\n",
       "\t1 & 1 & 0.1 & 0.0617676 \\\\\n",
       "\t2 & 2 & 0.1 & 0.0653125 \\\\\n",
       "\t3 & 1 & 1.0 & 0.0606628 \\\\\n",
       "\t4 & 2 & 1.0 & 0.0709296 \\\\\n",
       "\t5 & 1 & 2.0 & 0.0371704 \\\\\n",
       "\t6 & 2 & 2.0 & 0.0269498 \\\\\n",
       "\\end{tabular}\n"
      ],
      "text/plain": [
       "6×3 DataFrame\n",
       "│ Row │ numrarecategories │ numrareexpected │ x1        │\n",
       "│     │ \u001b[90mInt64\u001b[39m             │ \u001b[90mFloat64\u001b[39m         │ \u001b[90mFloat64\u001b[39m   │\n",
       "├─────┼───────────────────┼─────────────────┼───────────┤\n",
       "│ 1   │ 1                 │ 0.1             │ 0.0617676 │\n",
       "│ 2   │ 2                 │ 0.1             │ 0.0653125 │\n",
       "│ 3   │ 1                 │ 1.0             │ 0.0606628 │\n",
       "│ 4   │ 2                 │ 1.0             │ 0.0709296 │\n",
       "│ 5   │ 1                 │ 2.0             │ 0.0371704 │\n",
       "│ 6   │ 2                 │ 2.0             │ 0.0269498 │"
      ]
     },
     "execution_count": 31,
     "metadata": {},
     "output_type": "execute_result"
    }
   ],
   "source": [
    "by(df, [:numrarecategories, :numrareexpected], d -> quantile(d.pval_qlog, 0.05))"
   ]
  },
  {
   "cell_type": "code",
   "execution_count": null,
   "metadata": {},
   "outputs": [],
   "source": []
  }
 ],
 "metadata": {
  "kernelspec": {
   "display_name": "Julia 1.5.0",
   "language": "julia",
   "name": "julia-1.5"
  },
  "language_info": {
   "file_extension": ".jl",
   "mimetype": "application/julia",
   "name": "julia",
   "version": "1.5.0"
  }
 },
 "nbformat": 4,
 "nbformat_minor": 4
}
