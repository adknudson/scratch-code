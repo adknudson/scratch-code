{
 "cells": [
  {
   "cell_type": "code",
   "execution_count": 1,
   "metadata": {},
   "outputs": [
    {
     "name": "stderr",
     "output_type": "stream",
     "text": [
      "\u001b[32m\u001b[1m Activating\u001b[22m\u001b[39m environment at `~/Projects/scratch-code/julia_stuff/distributed/Project.toml`\n"
     ]
    }
   ],
   "source": [
    "import Pkg; Pkg.activate(\".\")"
   ]
  },
  {
   "cell_type": "code",
   "execution_count": 2,
   "metadata": {},
   "outputs": [],
   "source": [
    "using Distributed"
   ]
  },
  {
   "cell_type": "code",
   "execution_count": 3,
   "metadata": {},
   "outputs": [
    {
     "data": {
      "text/plain": [
       "20-element Array{Int64,1}:\n",
       "  2\n",
       "  3\n",
       "  4\n",
       "  5\n",
       "  6\n",
       "  7\n",
       "  8\n",
       "  9\n",
       " 10\n",
       " 11\n",
       " 12\n",
       " 13\n",
       " 14\n",
       " 15\n",
       " 16\n",
       " 17\n",
       " 18\n",
       " 19\n",
       " 20\n",
       " 21"
      ]
     },
     "execution_count": 3,
     "metadata": {},
     "output_type": "execute_result"
    }
   ],
   "source": [
    "addprocs(20)"
   ]
  },
  {
   "cell_type": "code",
   "execution_count": 4,
   "metadata": {},
   "outputs": [
    {
     "name": "stderr",
     "output_type": "stream",
     "text": [
      "\u001b[32m\u001b[1m Activating\u001b[22m\u001b[39m environment at `~/Projects/scratch-code/julia_stuff/distributed/Project.toml`\n"
     ]
    },
    {
     "name": "stdout",
     "output_type": "stream",
     "text": [
      "      From worker 16:\t Activating environment at `~/Projects/scratch-code/julia_stuff/distributed/Project.toml`\n",
      "      From worker 12:\t Activating environment at `~/Projects/scratch-code/julia_stuff/distributed/Project.toml`\n",
      "      From worker 8:\t Activating environment at `~/Projects/scratch-code/julia_stuff/distributed/Project.toml`\n",
      "      From worker 13:\t Activating environment at `~/Projects/scratch-code/julia_stuff/distributed/Project.toml`\n",
      "      From worker 19:\t Activating environment at `~/Projects/scratch-code/julia_stuff/distributed/Project.toml`\n",
      "      From worker 3:\t Activating environment at `~/Projects/scratch-code/julia_stuff/distributed/Project.toml`\n",
      "      From worker 11:\t Activating environment at `~/Projects/scratch-code/julia_stuff/distributed/Project.toml`\n",
      "      From worker 17:\t Activating environment at `~/Projects/scratch-code/julia_stuff/distributed/Project.toml`\n",
      "      From worker 20:\t Activating environment at `~/Projects/scratch-code/julia_stuff/distributed/Project.toml`\n",
      "      From worker 21:\t Activating environment at `~/Projects/scratch-code/julia_stuff/distributed/Project.toml`\n",
      "      From worker 9:\t Activating environment at `~/Projects/scratch-code/julia_stuff/distributed/Project.toml`\n",
      "      From worker 10:\t Activating environment at `~/Projects/scratch-code/julia_stuff/distributed/Project.toml`\n",
      "      From worker 5:\t Activating environment at `~/Projects/scratch-code/julia_stuff/distributed/Project.toml`\n",
      "      From worker 18:\t Activating environment at `~/Projects/scratch-code/julia_stuff/distributed/Project.toml`\n",
      "      From worker 14:\t Activating environment at `~/Projects/scratch-code/julia_stuff/distributed/Project.toml`\n",
      "      From worker 4:\t Activating environment at `~/Projects/scratch-code/julia_stuff/distributed/Project.toml`\n",
      "      From worker 7:\t Activating environment at `~/Projects/scratch-code/julia_stuff/distributed/Project.toml`\n",
      "      From worker 15:\t Activating environment at `~/Projects/scratch-code/julia_stuff/distributed/Project.toml`\n",
      "      From worker 6:\t Activating environment at `~/Projects/scratch-code/julia_stuff/distributed/Project.toml`\n",
      "      From worker 2:\t Activating environment at `~/Projects/scratch-code/julia_stuff/distributed/Project.toml`\n"
     ]
    }
   ],
   "source": [
    "@everywhere begin\n",
    "  using Pkg\n",
    "  Pkg.activate(\".\")\n",
    "  using SharedArrays\n",
    "end"
   ]
  },
  {
   "cell_type": "code",
   "execution_count": 5,
   "metadata": {},
   "outputs": [
    {
     "data": {
      "text/plain": [
       "10000×10000 SharedArray{Float64,2}:\n",
       " 0.0  0.0  0.0  0.0  0.0  0.0  0.0  0.0  …  0.0  0.0  0.0  0.0  0.0  0.0  0.0\n",
       " 0.0  0.0  0.0  0.0  0.0  0.0  0.0  0.0     0.0  0.0  0.0  0.0  0.0  0.0  0.0\n",
       " 0.0  0.0  0.0  0.0  0.0  0.0  0.0  0.0     0.0  0.0  0.0  0.0  0.0  0.0  0.0\n",
       " 0.0  0.0  0.0  0.0  0.0  0.0  0.0  0.0     0.0  0.0  0.0  0.0  0.0  0.0  0.0\n",
       " 0.0  0.0  0.0  0.0  0.0  0.0  0.0  0.0     0.0  0.0  0.0  0.0  0.0  0.0  0.0\n",
       " 0.0  0.0  0.0  0.0  0.0  0.0  0.0  0.0  …  0.0  0.0  0.0  0.0  0.0  0.0  0.0\n",
       " 0.0  0.0  0.0  0.0  0.0  0.0  0.0  0.0     0.0  0.0  0.0  0.0  0.0  0.0  0.0\n",
       " 0.0  0.0  0.0  0.0  0.0  0.0  0.0  0.0     0.0  0.0  0.0  0.0  0.0  0.0  0.0\n",
       " 0.0  0.0  0.0  0.0  0.0  0.0  0.0  0.0     0.0  0.0  0.0  0.0  0.0  0.0  0.0\n",
       " 0.0  0.0  0.0  0.0  0.0  0.0  0.0  0.0     0.0  0.0  0.0  0.0  0.0  0.0  0.0\n",
       " 0.0  0.0  0.0  0.0  0.0  0.0  0.0  0.0  …  0.0  0.0  0.0  0.0  0.0  0.0  0.0\n",
       " 0.0  0.0  0.0  0.0  0.0  0.0  0.0  0.0     0.0  0.0  0.0  0.0  0.0  0.0  0.0\n",
       " 0.0  0.0  0.0  0.0  0.0  0.0  0.0  0.0     0.0  0.0  0.0  0.0  0.0  0.0  0.0\n",
       " ⋮                        ⋮              ⋱            ⋮                   \n",
       " 0.0  0.0  0.0  0.0  0.0  0.0  0.0  0.0     0.0  0.0  0.0  0.0  0.0  0.0  0.0\n",
       " 0.0  0.0  0.0  0.0  0.0  0.0  0.0  0.0     0.0  0.0  0.0  0.0  0.0  0.0  0.0\n",
       " 0.0  0.0  0.0  0.0  0.0  0.0  0.0  0.0  …  0.0  0.0  0.0  0.0  0.0  0.0  0.0\n",
       " 0.0  0.0  0.0  0.0  0.0  0.0  0.0  0.0     0.0  0.0  0.0  0.0  0.0  0.0  0.0\n",
       " 0.0  0.0  0.0  0.0  0.0  0.0  0.0  0.0     0.0  0.0  0.0  0.0  0.0  0.0  0.0\n",
       " 0.0  0.0  0.0  0.0  0.0  0.0  0.0  0.0     0.0  0.0  0.0  0.0  0.0  0.0  0.0\n",
       " 0.0  0.0  0.0  0.0  0.0  0.0  0.0  0.0     0.0  0.0  0.0  0.0  0.0  0.0  0.0\n",
       " 0.0  0.0  0.0  0.0  0.0  0.0  0.0  0.0  …  0.0  0.0  0.0  0.0  0.0  0.0  0.0\n",
       " 0.0  0.0  0.0  0.0  0.0  0.0  0.0  0.0     0.0  0.0  0.0  0.0  0.0  0.0  0.0\n",
       " 0.0  0.0  0.0  0.0  0.0  0.0  0.0  0.0     0.0  0.0  0.0  0.0  0.0  0.0  0.0\n",
       " 0.0  0.0  0.0  0.0  0.0  0.0  0.0  0.0     0.0  0.0  0.0  0.0  0.0  0.0  0.0\n",
       " 0.0  0.0  0.0  0.0  0.0  0.0  0.0  0.0     0.0  0.0  0.0  0.0  0.0  0.0  0.0"
      ]
     },
     "execution_count": 5,
     "metadata": {},
     "output_type": "execute_result"
    }
   ],
   "source": [
    "A = SharedMatrix{Float64}(10000, 10000)"
   ]
  },
  {
   "cell_type": "code",
   "execution_count": 17,
   "metadata": {},
   "outputs": [
    {
     "name": "stdout",
     "output_type": "stream",
     "text": [
      "  0.492929 seconds (163.31 k allocations: 8.293 MiB)\n"
     ]
    },
    {
     "data": {
      "text/plain": [
       "Task (done) @0x00007f3647923d00"
      ]
     },
     "execution_count": 17,
     "metadata": {},
     "output_type": "execute_result"
    }
   ],
   "source": [
    "@time @sync @distributed for i in 1:10000*10000\n",
    "  @inbounds A[i] = rand()\n",
    "end"
   ]
  },
  {
   "cell_type": "code",
   "execution_count": 18,
   "metadata": {},
   "outputs": [
    {
     "data": {
      "text/plain": [
       "10000×10000 SharedArray{Float64,2}:\n",
       " 0.413493   0.461491    0.324886   …  0.931441    0.704023    0.287739\n",
       " 0.977886   0.619559    0.348784      0.374898    0.217192    0.347798\n",
       " 0.043393   0.633492    0.248611      0.0955401   0.561454    0.874926\n",
       " 0.504747   0.81093     0.326656      0.139859    0.422748    0.967078\n",
       " 0.918203   0.00341184  0.434978      0.362174    0.586531    0.192688\n",
       " 0.442097   0.0512715   0.62437    …  0.819229    0.80592     0.972697\n",
       " 0.932265   0.38356     0.587048      0.357728    0.898754    0.785558\n",
       " 0.641463   0.116784    0.271234      0.535459    0.0490432   0.921844\n",
       " 0.320076   0.501039    0.486914      0.612264    0.358249    0.0680048\n",
       " 0.517716   0.997102    0.612222      0.55581     0.792488    0.545117\n",
       " 0.549235   0.942017    0.385655   …  0.623236    0.159748    0.711016\n",
       " 0.955033   0.235854    0.0327521     0.685648    0.833679    0.0562561\n",
       " 0.466465   0.162336    0.414777      0.581495    0.243854    0.456052\n",
       " ⋮                                 ⋱                          \n",
       " 0.660101   0.967996    0.733365      0.38065     0.00563127  0.169688\n",
       " 0.309962   0.355205    0.62504       0.286004    0.0156531   0.622455\n",
       " 0.896613   0.565312    0.0682765  …  0.53945     0.978313    0.885923\n",
       " 0.340993   0.277369    0.606145      0.230762    0.848052    0.751493\n",
       " 0.971078   0.472999    0.826372      0.408951    0.60692     0.919286\n",
       " 0.0787735  0.997515    0.501485      0.683698    0.22677     0.738754\n",
       " 0.948537   0.415645    0.540938      0.0327104   0.441799    0.613566\n",
       " 0.977418   0.230337    0.825307   …  0.782473    0.693777    0.200914\n",
       " 0.766052   0.685152    0.119848      0.0191206   0.18706     0.683707\n",
       " 0.786294   0.997244    0.789402      0.378144    0.682555    0.458267\n",
       " 0.450787   0.428844    0.266824      0.00184199  0.588651    0.797338\n",
       " 0.31025    0.0244591   0.251551      0.636931    0.641       0.214243"
      ]
     },
     "execution_count": 18,
     "metadata": {},
     "output_type": "execute_result"
    }
   ],
   "source": [
    "A"
   ]
  },
  {
   "cell_type": "code",
   "execution_count": 19,
   "metadata": {},
   "outputs": [
    {
     "data": {
      "text/plain": [
       "10000×10000 Array{Float64,2}:\n",
       " 0.0  0.0  0.0  0.0  0.0  0.0  0.0  0.0  …  0.0  0.0  0.0  0.0  0.0  0.0  0.0\n",
       " 0.0  0.0  0.0  0.0  0.0  0.0  0.0  0.0     0.0  0.0  0.0  0.0  0.0  0.0  0.0\n",
       " 0.0  0.0  0.0  0.0  0.0  0.0  0.0  0.0     0.0  0.0  0.0  0.0  0.0  0.0  0.0\n",
       " 0.0  0.0  0.0  0.0  0.0  0.0  0.0  0.0     0.0  0.0  0.0  0.0  0.0  0.0  0.0\n",
       " 0.0  0.0  0.0  0.0  0.0  0.0  0.0  0.0     0.0  0.0  0.0  0.0  0.0  0.0  0.0\n",
       " 0.0  0.0  0.0  0.0  0.0  0.0  0.0  0.0  …  0.0  0.0  0.0  0.0  0.0  0.0  0.0\n",
       " 0.0  0.0  0.0  0.0  0.0  0.0  0.0  0.0     0.0  0.0  0.0  0.0  0.0  0.0  0.0\n",
       " 0.0  0.0  0.0  0.0  0.0  0.0  0.0  0.0     0.0  0.0  0.0  0.0  0.0  0.0  0.0\n",
       " 0.0  0.0  0.0  0.0  0.0  0.0  0.0  0.0     0.0  0.0  0.0  0.0  0.0  0.0  0.0\n",
       " 0.0  0.0  0.0  0.0  0.0  0.0  0.0  0.0     0.0  0.0  0.0  0.0  0.0  0.0  0.0\n",
       " 0.0  0.0  0.0  0.0  0.0  0.0  0.0  0.0  …  0.0  0.0  0.0  0.0  0.0  0.0  0.0\n",
       " 0.0  0.0  0.0  0.0  0.0  0.0  0.0  0.0     0.0  0.0  0.0  0.0  0.0  0.0  0.0\n",
       " 0.0  0.0  0.0  0.0  0.0  0.0  0.0  0.0     0.0  0.0  0.0  0.0  0.0  0.0  0.0\n",
       " ⋮                        ⋮              ⋱            ⋮                   \n",
       " 0.0  0.0  0.0  0.0  0.0  0.0  0.0  0.0     0.0  0.0  0.0  0.0  0.0  0.0  0.0\n",
       " 0.0  0.0  0.0  0.0  0.0  0.0  0.0  0.0     0.0  0.0  0.0  0.0  0.0  0.0  0.0\n",
       " 0.0  0.0  0.0  0.0  0.0  0.0  0.0  0.0  …  0.0  0.0  0.0  0.0  0.0  0.0  0.0\n",
       " 0.0  0.0  0.0  0.0  0.0  0.0  0.0  0.0     0.0  0.0  0.0  0.0  0.0  0.0  0.0\n",
       " 0.0  0.0  0.0  0.0  0.0  0.0  0.0  0.0     0.0  0.0  0.0  0.0  0.0  0.0  0.0\n",
       " 0.0  0.0  0.0  0.0  0.0  0.0  0.0  0.0     0.0  0.0  0.0  0.0  0.0  0.0  0.0\n",
       " 0.0  0.0  0.0  0.0  0.0  0.0  0.0  0.0     0.0  0.0  0.0  0.0  0.0  0.0  0.0\n",
       " 0.0  0.0  0.0  0.0  0.0  0.0  0.0  0.0  …  0.0  0.0  0.0  0.0  0.0  0.0  0.0\n",
       " 0.0  0.0  0.0  0.0  0.0  0.0  0.0  0.0     0.0  0.0  0.0  0.0  0.0  0.0  0.0\n",
       " 0.0  0.0  0.0  0.0  0.0  0.0  0.0  0.0     0.0  0.0  0.0  0.0  0.0  0.0  0.0\n",
       " 0.0  0.0  0.0  0.0  0.0  0.0  0.0  0.0     0.0  0.0  0.0  0.0  0.0  0.0  0.0\n",
       " 0.0  0.0  0.0  0.0  0.0  0.0  0.0  0.0     0.0  0.0  0.0  0.0  0.0  0.0  0.0"
      ]
     },
     "execution_count": 19,
     "metadata": {},
     "output_type": "execute_result"
    }
   ],
   "source": [
    "B = Matrix{Float64}(undef, 10000, 10000)"
   ]
  },
  {
   "cell_type": "code",
   "execution_count": 20,
   "metadata": {},
   "outputs": [
    {
     "name": "stdout",
     "output_type": "stream",
     "text": [
      "  2.805603 seconds (200.00 M allocations: 2.980 GiB, 4.26% gc time)\n"
     ]
    }
   ],
   "source": [
    "@time for i in 1:10000*10000\n",
    "  B[i] = rand()\n",
    "end"
   ]
  },
  {
   "cell_type": "code",
   "execution_count": 21,
   "metadata": {},
   "outputs": [
    {
     "data": {
      "text/plain": [
       "10000×10000 Array{Float64,2}:\n",
       " 0.436516   0.308914   0.886859    …  0.53915    0.0930486  0.0104987\n",
       " 0.243824   0.382549   0.53497        0.581628   0.0746573  0.551937\n",
       " 0.957539   0.0964297  0.871521       0.735154   0.138975   0.0790726\n",
       " 0.215745   0.398604   0.960071       0.7976     0.397071   0.672273\n",
       " 0.803705   0.913058   0.773204       0.169904   0.255879   0.413594\n",
       " 0.087827   0.181448   0.37047     …  0.761986   0.323415   0.339624\n",
       " 0.295255   0.76231    0.187585       0.142438   0.405184   0.583184\n",
       " 0.910811   0.993232   0.417345       0.660793   0.939324   0.681998\n",
       " 0.693866   0.335717   0.863847       0.419617   0.4588     0.923013\n",
       " 0.15131    0.248709   0.194895       0.964683   0.0983471  0.206673\n",
       " 0.288941   0.102463   0.00319658  …  0.561937   0.45725    0.854126\n",
       " 0.524148   0.564593   0.763921       0.844497   0.514393   0.27201\n",
       " 0.528092   0.0844993  0.592029       0.224018   0.598927   0.357724\n",
       " ⋮                                 ⋱                        \n",
       " 0.978692   0.238225   0.850436       0.824062   0.157312   0.713155\n",
       " 0.061399   0.535068   0.814353       0.137854   0.692687   0.412765\n",
       " 0.437428   0.384617   0.942667    …  0.672063   0.371601   0.776569\n",
       " 0.400914   0.879563   0.951896       0.0355441  0.41281    0.974038\n",
       " 0.130637   0.0213271  0.397519       0.403079   0.121617   0.465093\n",
       " 0.0882578  0.645924   0.265482       0.36368    0.47523    0.188682\n",
       " 0.204127   0.26456    0.672592       0.167618   0.0225722  0.843248\n",
       " 0.187287   0.429193   0.724599    …  0.988605   0.341901   0.993893\n",
       " 0.909625   0.352904   0.44199        0.959228   0.99104    0.255773\n",
       " 0.0253269  0.959539   0.26916        0.362278   0.780648   0.734707\n",
       " 0.327575   0.296119   0.194603       0.614711   0.233978   0.490245\n",
       " 0.578513   0.647933   0.635183       0.575739   0.312709   0.686936"
      ]
     },
     "execution_count": 21,
     "metadata": {},
     "output_type": "execute_result"
    }
   ],
   "source": [
    "B"
   ]
  },
  {
   "cell_type": "code",
   "execution_count": 22,
   "metadata": {},
   "outputs": [
    {
     "data": {
      "text/plain": [
       "5.869565217391305"
      ]
     },
     "execution_count": 22,
     "metadata": {},
     "output_type": "execute_result"
    }
   ],
   "source": [
    "2.7 / 0.46"
   ]
  },
  {
   "cell_type": "code",
   "execution_count": null,
   "metadata": {},
   "outputs": [],
   "source": []
  }
 ],
 "metadata": {
  "kernelspec": {
   "display_name": "Julia 1.5.2",
   "language": "julia",
   "name": "julia-1.5"
  },
  "language_info": {
   "file_extension": ".jl",
   "mimetype": "application/julia",
   "name": "julia",
   "version": "1.5.2"
  }
 },
 "nbformat": 4,
 "nbformat_minor": 4
}
