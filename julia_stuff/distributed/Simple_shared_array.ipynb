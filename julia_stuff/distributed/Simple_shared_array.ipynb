{
 "cells": [
  {
   "cell_type": "code",
   "execution_count": 1,
   "metadata": {},
   "outputs": [
    {
     "name": "stderr",
     "output_type": "stream",
     "text": [
      "\u001b[32m\u001b[1m Activating\u001b[22m\u001b[39m environment at `~/projects/scratch-code/julia_stuff/distributed/Project.toml`\n"
     ]
    }
   ],
   "source": [
    "import Pkg; Pkg.activate(\".\")"
   ]
  },
  {
   "cell_type": "code",
   "execution_count": 2,
   "metadata": {},
   "outputs": [],
   "source": [
    "using Distributed"
   ]
  },
  {
   "cell_type": "code",
   "execution_count": 3,
   "metadata": {},
   "outputs": [
    {
     "data": {
      "text/plain": [
       "20-element Array{Int64,1}:\n",
       "  2\n",
       "  3\n",
       "  4\n",
       "  5\n",
       "  6\n",
       "  7\n",
       "  8\n",
       "  9\n",
       " 10\n",
       " 11\n",
       " 12\n",
       " 13\n",
       " 14\n",
       " 15\n",
       " 16\n",
       " 17\n",
       " 18\n",
       " 19\n",
       " 20\n",
       " 21"
      ]
     },
     "execution_count": 3,
     "metadata": {},
     "output_type": "execute_result"
    }
   ],
   "source": [
    "addprocs(20)"
   ]
  },
  {
   "cell_type": "code",
   "execution_count": 4,
   "metadata": {},
   "outputs": [
    {
     "name": "stdout",
     "output_type": "stream",
     "text": [
      "      From worker 18:\t Activating environment at `~/projects/scratch-code/julia_stuff/distributed/Project.toml`\n",
      "      From worker 19:\t Activating environment at `~/projects/scratch-code/julia_stuff/distributed/Project.toml`\n",
      "      From worker 20:\t Activating environment at `~/projects/scratch-code/julia_stuff/distributed/Project.toml`\n",
      "      From worker 6:\t Activating environment at `~/projects/scratch-code/julia_stuff/distributed/Project.toml`\n",
      "      From worker 3:\t Activating environment at `~/projects/scratch-code/julia_stuff/distributed/Project.toml`\n",
      "      From worker 5:\t Activating environment at `~/projects/scratch-code/julia_stuff/distributed/Project.toml`\n",
      "      From worker 9:\t Activating environment at `~/projects/scratch-code/julia_stuff/distributed/Project.toml`\n",
      "      From worker 4:\t Activating environment at `~/projects/scratch-code/julia_stuff/distributed/Project.toml`\n",
      "      From worker 15:\t Activating environment at `~/projects/scratch-code/julia_stuff/distributed/Project.toml`\n",
      "      From worker 17:\t Activating environment at `~/projects/scratch-code/julia_stuff/distributed/Project.toml`\n",
      "      From worker 13:\t Activating environment at `~/projects/scratch-code/julia_stuff/distributed/Project.toml`\n",
      "      From worker 12:\t Activating environment at `~/projects/scratch-code/julia_stuff/distributed/Project.toml`\n",
      "      From worker 8:\t Activating environment at `~/projects/scratch-code/julia_stuff/distributed/Project.toml`\n",
      "      From worker 7:\t Activating environment at `~/projects/scratch-code/julia_stuff/distributed/Project.toml`\n",
      "      From worker 11:\t Activating environment at `~/projects/scratch-code/julia_stuff/distributed/Project.toml`\n",
      "      From worker 14:\t Activating environment at `~/projects/scratch-code/julia_stuff/distributed/Project.toml`\n",
      "      From worker 21:\t Activating environment at `~/projects/scratch-code/julia_stuff/distributed/Project.toml`\n",
      "      From worker 16:\t Activating environment at `~/projects/scratch-code/julia_stuff/distributed/Project.toml`\n"
     ]
    },
    {
     "name": "stderr",
     "output_type": "stream",
     "text": [
      "\u001b[32m\u001b[1m Activating\u001b[22m\u001b[39m environment at `~/projects/scratch-code/julia_stuff/distributed/Project.toml`\n"
     ]
    },
    {
     "name": "stdout",
     "output_type": "stream",
     "text": [
      "      From worker 10:\t Activating environment at `~/projects/scratch-code/julia_stuff/distributed/Project.toml`\n",
      "      From worker 2:\t Activating environment at `~/projects/scratch-code/julia_stuff/distributed/Project.toml`\n"
     ]
    }
   ],
   "source": [
    "@everywhere begin\n",
    "  using Pkg\n",
    "  Pkg.activate(\".\")\n",
    "  using SharedArrays\n",
    "end"
   ]
  },
  {
   "cell_type": "code",
   "execution_count": 5,
   "metadata": {},
   "outputs": [
    {
     "data": {
      "text/plain": [
       "10000×10000 SharedArray{Float64,2}:\n",
       " 0.0  0.0  0.0  0.0  0.0  0.0  0.0  0.0  …  0.0  0.0  0.0  0.0  0.0  0.0  0.0\n",
       " 0.0  0.0  0.0  0.0  0.0  0.0  0.0  0.0     0.0  0.0  0.0  0.0  0.0  0.0  0.0\n",
       " 0.0  0.0  0.0  0.0  0.0  0.0  0.0  0.0     0.0  0.0  0.0  0.0  0.0  0.0  0.0\n",
       " 0.0  0.0  0.0  0.0  0.0  0.0  0.0  0.0     0.0  0.0  0.0  0.0  0.0  0.0  0.0\n",
       " 0.0  0.0  0.0  0.0  0.0  0.0  0.0  0.0     0.0  0.0  0.0  0.0  0.0  0.0  0.0\n",
       " 0.0  0.0  0.0  0.0  0.0  0.0  0.0  0.0  …  0.0  0.0  0.0  0.0  0.0  0.0  0.0\n",
       " 0.0  0.0  0.0  0.0  0.0  0.0  0.0  0.0     0.0  0.0  0.0  0.0  0.0  0.0  0.0\n",
       " 0.0  0.0  0.0  0.0  0.0  0.0  0.0  0.0     0.0  0.0  0.0  0.0  0.0  0.0  0.0\n",
       " 0.0  0.0  0.0  0.0  0.0  0.0  0.0  0.0     0.0  0.0  0.0  0.0  0.0  0.0  0.0\n",
       " 0.0  0.0  0.0  0.0  0.0  0.0  0.0  0.0     0.0  0.0  0.0  0.0  0.0  0.0  0.0\n",
       " 0.0  0.0  0.0  0.0  0.0  0.0  0.0  0.0  …  0.0  0.0  0.0  0.0  0.0  0.0  0.0\n",
       " 0.0  0.0  0.0  0.0  0.0  0.0  0.0  0.0     0.0  0.0  0.0  0.0  0.0  0.0  0.0\n",
       " 0.0  0.0  0.0  0.0  0.0  0.0  0.0  0.0     0.0  0.0  0.0  0.0  0.0  0.0  0.0\n",
       " ⋮                        ⋮              ⋱            ⋮                   \n",
       " 0.0  0.0  0.0  0.0  0.0  0.0  0.0  0.0     0.0  0.0  0.0  0.0  0.0  0.0  0.0\n",
       " 0.0  0.0  0.0  0.0  0.0  0.0  0.0  0.0     0.0  0.0  0.0  0.0  0.0  0.0  0.0\n",
       " 0.0  0.0  0.0  0.0  0.0  0.0  0.0  0.0  …  0.0  0.0  0.0  0.0  0.0  0.0  0.0\n",
       " 0.0  0.0  0.0  0.0  0.0  0.0  0.0  0.0     0.0  0.0  0.0  0.0  0.0  0.0  0.0\n",
       " 0.0  0.0  0.0  0.0  0.0  0.0  0.0  0.0     0.0  0.0  0.0  0.0  0.0  0.0  0.0\n",
       " 0.0  0.0  0.0  0.0  0.0  0.0  0.0  0.0     0.0  0.0  0.0  0.0  0.0  0.0  0.0\n",
       " 0.0  0.0  0.0  0.0  0.0  0.0  0.0  0.0     0.0  0.0  0.0  0.0  0.0  0.0  0.0\n",
       " 0.0  0.0  0.0  0.0  0.0  0.0  0.0  0.0  …  0.0  0.0  0.0  0.0  0.0  0.0  0.0\n",
       " 0.0  0.0  0.0  0.0  0.0  0.0  0.0  0.0     0.0  0.0  0.0  0.0  0.0  0.0  0.0\n",
       " 0.0  0.0  0.0  0.0  0.0  0.0  0.0  0.0     0.0  0.0  0.0  0.0  0.0  0.0  0.0\n",
       " 0.0  0.0  0.0  0.0  0.0  0.0  0.0  0.0     0.0  0.0  0.0  0.0  0.0  0.0  0.0\n",
       " 0.0  0.0  0.0  0.0  0.0  0.0  0.0  0.0     0.0  0.0  0.0  0.0  0.0  0.0  0.0"
      ]
     },
     "execution_count": 5,
     "metadata": {},
     "output_type": "execute_result"
    }
   ],
   "source": [
    "A = SharedMatrix{Float64}(10000, 10000)"
   ]
  },
  {
   "cell_type": "code",
   "execution_count": 14,
   "metadata": {},
   "outputs": [
    {
     "name": "stdout",
     "output_type": "stream",
     "text": [
      "  0.460139 seconds (163.24 k allocations: 8.279 MiB)\n"
     ]
    },
    {
     "data": {
      "text/plain": [
       "Task (done) @0x00007f345498cc40"
      ]
     },
     "execution_count": 14,
     "metadata": {},
     "output_type": "execute_result"
    }
   ],
   "source": [
    "@time @sync @distributed for i in 1:10000*10000\n",
    "  A[i] = rand()\n",
    "end"
   ]
  },
  {
   "cell_type": "code",
   "execution_count": 15,
   "metadata": {},
   "outputs": [
    {
     "data": {
      "text/plain": [
       "10000×10000 SharedArray{Float64,2}:\n",
       " 0.677675    0.596007   0.0377788  …  0.898644   0.535118   0.200772\n",
       " 0.0378396   0.122502   0.862425      0.625304   0.237226   0.565976\n",
       " 0.361033    0.041237   0.146864      0.845034   0.211914   0.0446595\n",
       " 0.950569    0.518154   0.780203      0.625493   0.73437    0.0964692\n",
       " 0.823477    0.641746   0.285134      0.661282   0.457134   0.577211\n",
       " 0.925407    0.950598   0.925526   …  0.277683   0.88152    0.830885\n",
       " 0.62077     0.488136   0.119684      0.0422964  0.946164   0.185665\n",
       " 0.139887    0.0918946  0.907707      0.194419   0.946911   0.912027\n",
       " 0.284282    0.715437   0.662151      0.83042    0.804478   0.871095\n",
       " 0.977002    0.402029   0.333544      0.40655    0.483439   0.370617\n",
       " 0.758742    0.210722   0.375759   …  0.797371   0.573265   0.47026\n",
       " 0.643184    0.0198254  0.859593      0.396916   0.175578   0.813322\n",
       " 0.231803    0.081593   0.0996725     0.463051   0.0702213  0.317762\n",
       " ⋮                                 ⋱                        \n",
       " 0.333183    0.53068    0.740299      0.583354   0.625133   0.768543\n",
       " 0.218827    0.649647   0.37037       0.336136   0.763398   0.295672\n",
       " 0.486603    0.446083   0.991856   …  0.701615   0.727675   0.522919\n",
       " 0.0264094   0.419692   0.858354      0.718165   0.641438   0.153653\n",
       " 0.00148999  0.833102   0.777679      0.4067     0.835587   0.926884\n",
       " 0.166671    0.802162   0.37614       0.349321   0.14251    0.143395\n",
       " 0.662744    0.348481   0.663931      0.762607   0.618735   0.130318\n",
       " 0.0697363   0.109974   0.473159   …  0.337517   0.80702    0.625083\n",
       " 0.840211    0.173501   0.454534      0.10165    0.969351   0.666988\n",
       " 0.007985    0.454828   0.589299      0.997223   0.148639   0.49236\n",
       " 0.300989    0.817121   0.827676      0.0935893  0.640632   0.735789\n",
       " 0.657832    0.29377    0.615761      0.228676   0.539067   0.533681"
      ]
     },
     "execution_count": 15,
     "metadata": {},
     "output_type": "execute_result"
    }
   ],
   "source": [
    "A"
   ]
  },
  {
   "cell_type": "code",
   "execution_count": 16,
   "metadata": {},
   "outputs": [
    {
     "data": {
      "text/plain": [
       "10000×10000 Array{Float64,2}:\n",
       " 0.0  0.0  0.0  0.0  0.0  0.0  0.0  0.0  …  0.0  0.0  0.0  0.0  0.0  0.0  0.0\n",
       " 0.0  0.0  0.0  0.0  0.0  0.0  0.0  0.0     0.0  0.0  0.0  0.0  0.0  0.0  0.0\n",
       " 0.0  0.0  0.0  0.0  0.0  0.0  0.0  0.0     0.0  0.0  0.0  0.0  0.0  0.0  0.0\n",
       " 0.0  0.0  0.0  0.0  0.0  0.0  0.0  0.0     0.0  0.0  0.0  0.0  0.0  0.0  0.0\n",
       " 0.0  0.0  0.0  0.0  0.0  0.0  0.0  0.0     0.0  0.0  0.0  0.0  0.0  0.0  0.0\n",
       " 0.0  0.0  0.0  0.0  0.0  0.0  0.0  0.0  …  0.0  0.0  0.0  0.0  0.0  0.0  0.0\n",
       " 0.0  0.0  0.0  0.0  0.0  0.0  0.0  0.0     0.0  0.0  0.0  0.0  0.0  0.0  0.0\n",
       " 0.0  0.0  0.0  0.0  0.0  0.0  0.0  0.0     0.0  0.0  0.0  0.0  0.0  0.0  0.0\n",
       " 0.0  0.0  0.0  0.0  0.0  0.0  0.0  0.0     0.0  0.0  0.0  0.0  0.0  0.0  0.0\n",
       " 0.0  0.0  0.0  0.0  0.0  0.0  0.0  0.0     0.0  0.0  0.0  0.0  0.0  0.0  0.0\n",
       " 0.0  0.0  0.0  0.0  0.0  0.0  0.0  0.0  …  0.0  0.0  0.0  0.0  0.0  0.0  0.0\n",
       " 0.0  0.0  0.0  0.0  0.0  0.0  0.0  0.0     0.0  0.0  0.0  0.0  0.0  0.0  0.0\n",
       " 0.0  0.0  0.0  0.0  0.0  0.0  0.0  0.0     0.0  0.0  0.0  0.0  0.0  0.0  0.0\n",
       " ⋮                        ⋮              ⋱            ⋮                   \n",
       " 0.0  0.0  0.0  0.0  0.0  0.0  0.0  0.0     0.0  0.0  0.0  0.0  0.0  0.0  0.0\n",
       " 0.0  0.0  0.0  0.0  0.0  0.0  0.0  0.0     0.0  0.0  0.0  0.0  0.0  0.0  0.0\n",
       " 0.0  0.0  0.0  0.0  0.0  0.0  0.0  0.0  …  0.0  0.0  0.0  0.0  0.0  0.0  0.0\n",
       " 0.0  0.0  0.0  0.0  0.0  0.0  0.0  0.0     0.0  0.0  0.0  0.0  0.0  0.0  0.0\n",
       " 0.0  0.0  0.0  0.0  0.0  0.0  0.0  0.0     0.0  0.0  0.0  0.0  0.0  0.0  0.0\n",
       " 0.0  0.0  0.0  0.0  0.0  0.0  0.0  0.0     0.0  0.0  0.0  0.0  0.0  0.0  0.0\n",
       " 0.0  0.0  0.0  0.0  0.0  0.0  0.0  0.0     0.0  0.0  0.0  0.0  0.0  0.0  0.0\n",
       " 0.0  0.0  0.0  0.0  0.0  0.0  0.0  0.0  …  0.0  0.0  0.0  0.0  0.0  0.0  0.0\n",
       " 0.0  0.0  0.0  0.0  0.0  0.0  0.0  0.0     0.0  0.0  0.0  0.0  0.0  0.0  0.0\n",
       " 0.0  0.0  0.0  0.0  0.0  0.0  0.0  0.0     0.0  0.0  0.0  0.0  0.0  0.0  0.0\n",
       " 0.0  0.0  0.0  0.0  0.0  0.0  0.0  0.0     0.0  0.0  0.0  0.0  0.0  0.0  0.0\n",
       " 0.0  0.0  0.0  0.0  0.0  0.0  0.0  0.0     0.0  0.0  0.0  0.0  0.0  0.0  0.0"
      ]
     },
     "execution_count": 16,
     "metadata": {},
     "output_type": "execute_result"
    }
   ],
   "source": [
    "B = Matrix{Float64}(undef, 10000, 10000)"
   ]
  },
  {
   "cell_type": "code",
   "execution_count": 17,
   "metadata": {},
   "outputs": [
    {
     "name": "stdout",
     "output_type": "stream",
     "text": [
      "  2.712577 seconds (200.00 M allocations: 2.980 GiB, 5.55% gc time)\n"
     ]
    }
   ],
   "source": [
    "@time for i in 1:10000*10000\n",
    "  B[i] = rand()\n",
    "end"
   ]
  },
  {
   "cell_type": "code",
   "execution_count": 18,
   "metadata": {},
   "outputs": [
    {
     "data": {
      "text/plain": [
       "10000×10000 Array{Float64,2}:\n",
       " 0.153185  0.0350848  0.24744    …  0.706962   0.135595   0.548017\n",
       " 0.992999  0.0810207  0.25038       0.917546   0.692679   0.737366\n",
       " 0.387602  0.429349   0.179178      0.610174   0.825186   0.597258\n",
       " 0.91298   0.520259   0.869271      0.213362   0.600809   0.0400087\n",
       " 0.130466  0.911494   0.852967      0.851911   0.478217   0.273522\n",
       " 0.278717  0.587159   0.891083   …  0.275961   0.288218   0.385109\n",
       " 0.763629  0.966782   0.60327       0.927943   0.594544   0.986217\n",
       " 0.188864  0.27866    0.228262      0.0262439  0.041477   0.668694\n",
       " 0.497351  0.898047   0.907438      0.120475   0.920284   0.189104\n",
       " 0.637091  0.392338   0.756224      0.740982   0.521004   0.452761\n",
       " 0.989899  0.0319938  0.292647   …  0.532326   0.932501   0.0798184\n",
       " 0.838745  0.859716   0.872193      0.859295   0.140443   0.511468\n",
       " 0.259603  0.151088   0.0693965     0.517611   0.895429   0.577059\n",
       " ⋮                               ⋱                        \n",
       " 0.915145  0.279857   0.889269      0.204824   0.482365   0.441812\n",
       " 0.114059  0.362529   0.917229      0.618832   0.682921   0.599018\n",
       " 0.552673  0.726765   0.184743   …  0.485938   0.511356   0.463533\n",
       " 0.328914  0.7714     0.662478      0.892998   0.979694   0.966356\n",
       " 0.252223  0.508188   0.998772      0.400951   0.912599   0.678016\n",
       " 0.713228  0.080122   0.892929      0.99405    0.327752   0.589199\n",
       " 0.658868  0.892908   0.126726      0.595891   0.990342   0.534143\n",
       " 0.631045  0.520086   0.416682   …  0.633748   0.60853    0.894297\n",
       " 0.304865  0.0537772  0.582351      0.227042   0.755521   0.54453\n",
       " 0.310836  0.898154   0.443065      0.727067   0.0858042  0.716074\n",
       " 0.366322  0.870703   0.984507      0.620205   0.774834   0.0574119\n",
       " 0.695964  0.673245   0.800941      0.489023   0.601771   0.443266"
      ]
     },
     "execution_count": 18,
     "metadata": {},
     "output_type": "execute_result"
    }
   ],
   "source": [
    "B"
   ]
  },
  {
   "cell_type": "code",
   "execution_count": 19,
   "metadata": {},
   "outputs": [
    {
     "data": {
      "text/plain": [
       "5.869565217391305"
      ]
     },
     "execution_count": 19,
     "metadata": {},
     "output_type": "execute_result"
    }
   ],
   "source": [
    "2.7 / 0.46"
   ]
  },
  {
   "cell_type": "code",
   "execution_count": null,
   "metadata": {},
   "outputs": [],
   "source": []
  }
 ],
 "metadata": {
  "kernelspec": {
   "display_name": "Julia 1.5.0",
   "language": "julia",
   "name": "julia-1.5"
  },
  "language_info": {
   "file_extension": ".jl",
   "mimetype": "application/julia",
   "name": "julia",
   "version": "1.5.0"
  }
 },
 "nbformat": 4,
 "nbformat_minor": 4
}
