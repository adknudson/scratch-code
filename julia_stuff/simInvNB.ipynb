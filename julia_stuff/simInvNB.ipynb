{
 "cells": [
  {
   "cell_type": "markdown",
   "metadata": {},
   "source": [
    "# simInvNB Using the GPU\n",
    "\n",
    "## Crude Helper Function"
   ]
  },
  {
   "cell_type": "code",
   "execution_count": 2,
   "metadata": {},
   "outputs": [
    {
     "name": "stderr",
     "output_type": "stream",
     "text": [
      "┌ Info: Precompiling RCall [6f49c342-dc21-5d91-9882-a32aef131414]\n",
      "└ @ Base loading.jl:1260\n"
     ]
    }
   ],
   "source": [
    "using Distributions\n",
    "using LinearAlgebra\n",
    "using RCall"
   ]
  },
  {
   "cell_type": "code",
   "execution_count": 3,
   "metadata": {},
   "outputs": [
    {
     "data": {
      "text/plain": [
       "cov2cor (generic function with 1 method)"
      ]
     },
     "execution_count": 3,
     "metadata": {},
     "output_type": "execute_result"
    }
   ],
   "source": [
    "function cov2cor(M)\n",
    "    Mcor = copy(M)\n",
    "    @inbounds for i in CartesianIndices(M)\n",
    "        Mcor[i] = M[i] / sqrt(M[i[1], i[1]] * M[i[2], i[2]])\n",
    "    end\n",
    "    return Mcor\n",
    "end"
   ]
  },
  {
   "cell_type": "code",
   "execution_count": 4,
   "metadata": {},
   "outputs": [
    {
     "data": {
      "text/plain": [
       "rcor (generic function with 2 methods)"
      ]
     },
     "execution_count": 4,
     "metadata": {},
     "output_type": "execute_result"
    }
   ],
   "source": [
    "function rcor(d, ρ_constant=false)\n",
    "    if ρ_constant\n",
    "        ρ_temp = rand(Uniform(0.25, 0.90))\n",
    "        Σ = fill(ρ_temp, (d, d))\n",
    "        @inbounds for i = 1:d\n",
    "            Σ[i,i] = 1.0\n",
    "        end\n",
    "    else\n",
    "        tmp  = randn(d, d)\n",
    "        mcov = tmp * tmp'\n",
    "        Σ    = cov2cor(mcov)\n",
    "    end\n",
    "    return Σ\n",
    "end     "
   ]
  },
  {
   "cell_type": "code",
   "execution_count": 5,
   "metadata": {},
   "outputs": [
    {
     "data": {
      "text/plain": [
       "rmvnb (generic function with 1 method)"
      ]
     },
     "execution_count": 5,
     "metadata": {},
     "output_type": "execute_result"
    }
   ],
   "source": [
    "function rmvnb(d::Int)\n",
    "    rates = rand(1:5, d)\n",
    "    probs = rand(0.2:0.01:0.8, d)\n",
    "    return collect((NegativeBinomial, (rate, prob)) for (rate, prob) in zip(rates, probs))\n",
    "end"
   ]
  },
  {
   "cell_type": "code",
   "execution_count": 6,
   "metadata": {},
   "outputs": [
    {
     "data": {
      "text/plain": [
       "4-element Array{Tuple{UnionAll,Tuple{Int64,Float64}},1}:\n",
       " (NegativeBinomial, (3, 0.75))\n",
       " (NegativeBinomial, (4, 0.31))\n",
       " (NegativeBinomial, (4, 0.44))\n",
       " (NegativeBinomial, (2, 0.43))"
      ]
     },
     "execution_count": 6,
     "metadata": {},
     "output_type": "execute_result"
    }
   ],
   "source": [
    "rmvnb(4)"
   ]
  },
  {
   "cell_type": "markdown",
   "metadata": {},
   "source": [
    "## Helper Functions"
   ]
  },
  {
   "cell_type": "code",
   "execution_count": 7,
   "metadata": {},
   "outputs": [
    {
     "data": {
      "text/plain": [
       "convertCor (generic function with 1 method)"
      ]
     },
     "execution_count": 7,
     "metadata": {},
     "output_type": "execute_result"
    }
   ],
   "source": [
    "function convertCor(ρ, from, to)\n",
    "    F = Dict(\n",
    "        (\"pearson\", \"pearson\")  => A -> A,\n",
    "        (\"pearson\", \"spearman\") => A -> (6 / pi) .* asin.(A ./ 2),\n",
    "        (\"pearson\", \"kendall\")  => A -> (2 / pi) .* asin.(A),\n",
    "        (\"spearman\", \"pearson\") => A -> 2 .* sin.(A .* (pi / 6)),\n",
    "        (\"spearman\", \"spearman\")=> A -> A,\n",
    "        (\"spearman\", \"kendall\") => A -> (2 / pi) .* asin.(2 .* sin.(A .* (pi / 6))),\n",
    "        (\"kendall\", \"pearson\")  => A -> sin.(A .* (pi / 2)),\n",
    "        (\"kendal\", \"spearman\")  => A -> (6 / pi) .* asin.(sin.(A .* (pi / 2)) ./ 2),\n",
    "        (\"kendall\", \"kendall\")  => A -> A\n",
    "    )\n",
    "    tmp = F[(from, to)](ρ)\n",
    "    @rput tmp\n",
    "    return rcopy(R\"as.matrix(Matrix::nearPD(tmp)$mat)\")\n",
    "end"
   ]
  },
  {
   "cell_type": "code",
   "execution_count": 8,
   "metadata": {},
   "outputs": [
    {
     "data": {
      "text/plain": [
       "adjustCor (generic function with 1 method)"
      ]
     },
     "execution_count": 8,
     "metadata": {},
     "output_type": "execute_result"
    }
   ],
   "source": [
    "function adjustCor(ρ, params)\n",
    "    d = size(ρ, 1)\n",
    "    \n",
    "    indexMat = rcopy(R\"combn(1:$d, 2)\")\n",
    "    ρ_out = Matrix{Float64}(I, d, d)\n",
    "    \n",
    "    iter = [(j,i) for (j,i) in enumerate(eachcol(indexMat))]\n",
    "    Threads.@threads for it in iter\n",
    "        j = it[1]\n",
    "        i = it[2]\n",
    "        α₁ = params[:α][i[1]]\n",
    "        α₂ = params[:α][i[2]]\n",
    "        λ₁ = params[:λ][i[1]]\n",
    "        λ₂ = params[:λ][i[2]]\n",
    "        σ₁ = sqrt(params[:σ][i[1]])\n",
    "        σ₂ = sqrt(params[:σ][i[2]])\n",
    "        \n",
    "        scaleFactor = sqrt(α₁ * α₂)\n",
    "        ρ_tmp = ρ[i...]\n",
    "        ρ_targetGamma = ρ_tmp * (σ₁ * σ₂) / (scaleFactor * λ₁ * λ₂)\n",
    "        @inbounds ρ_out[i...] = ρ_out[reverse(i)...] = min(1, ρ_targetGamma)\n",
    "    end\n",
    "    \n",
    "    eigenDecomp = eigen(ρ_out)\n",
    "    if any(eigenDecomp.values .< 0)\n",
    "        @rput ρ_out\n",
    "        return cov2cor(rcopy(R\"as.matrix(Matrix::nearPD(ρ_out)$mat)\"))\n",
    "    end\n",
    "    \n",
    "    return ρ_out\n",
    "end"
   ]
  },
  {
   "cell_type": "code",
   "execution_count": 9,
   "metadata": {},
   "outputs": [
    {
     "data": {
      "text/plain": [
       "normal2marginal (generic function with 1 method)"
      ]
     },
     "execution_count": 9,
     "metadata": {},
     "output_type": "execute_result"
    }
   ],
   "source": [
    "# margin = (Distribution, (param1, param2, ...))\n",
    "function normal2marginal(x, margin)\n",
    "    quantile.(margin[1](margin[2]...), cdf.(Normal(), x))\n",
    "end"
   ]
  },
  {
   "cell_type": "markdown",
   "metadata": {},
   "source": [
    "## Simulate Negative Binomial"
   ]
  },
  {
   "cell_type": "code",
   "execution_count": 10,
   "metadata": {},
   "outputs": [
    {
     "data": {
      "text/plain": [
       "rvec (generic function with 1 method)"
      ]
     },
     "execution_count": 10,
     "metadata": {},
     "output_type": "execute_result"
    }
   ],
   "source": [
    "function rvec(n, ρ, margins, inputCorType)\n",
    "    ρ = convertCor(ρ, inputCorType, \"pearson\")\n",
    "    d = size(ρ, 1)\n",
    "\n",
    "    mvn = rand(MultivariateNormal(zeros(d), ρ), n)'\n",
    "    \n",
    "    Threads.@threads for i in 1:d\n",
    "        mvn[:,i] = normal2marginal(mvn[:,i], margins[i])\n",
    "    end\n",
    "    \n",
    "    return mvn\n",
    "end"
   ]
  },
  {
   "cell_type": "markdown",
   "metadata": {},
   "source": [
    "# Testing"
   ]
  },
  {
   "cell_type": "code",
   "execution_count": 11,
   "metadata": {},
   "outputs": [],
   "source": [
    "using Test"
   ]
  },
  {
   "cell_type": "code",
   "execution_count": 16,
   "metadata": {},
   "outputs": [
    {
     "data": {
      "text/plain": [
       "1000×1000 Array{Float64,2}:\n",
       "  1.0         -4.96977e-5   -0.024831    …   0.0285552     0.00283257\n",
       " -4.96977e-5   1.0           0.00571509     -0.0145097    -0.0124817\n",
       " -0.024831     0.00571509    1.0             0.034235      0.0292596\n",
       " -0.0497791   -0.0339075    -0.0219188       0.0418519     0.0433473\n",
       "  0.0235752   -0.0408207    -0.0200231       0.00686585   -0.0461368\n",
       "  0.0106226    0.0409509     0.0151158   …   0.00155695    0.00591934\n",
       " -0.0401845    0.0353036     0.0375004      -0.0515039    -0.0425675\n",
       "  0.00171626   0.00785709    0.042297        0.00620113    0.0350942\n",
       "  0.0148377    0.0390678     0.0231779       0.0157224    -0.0472018\n",
       "  0.0642118   -0.0418073     0.00427608     -0.00430518    0.0146081\n",
       "  0.0212841    0.0141278    -0.00599587  …  -0.0147713     0.0342745\n",
       "  0.0190852   -0.0456527    -0.0105069      -0.0301319     0.0120687\n",
       "  0.00361333   0.0288592     0.0107117       0.0183042    -0.0563393\n",
       "  ⋮                                      ⋱                \n",
       " -0.00309025   0.0423431    -0.00656917      0.0171585     0.0259774\n",
       "  0.0125036    0.00797029    0.0301239      -0.0274528    -0.0100633\n",
       "  0.022962    -0.0144473     0.00293657  …   0.000594177   0.00373106\n",
       " -0.0620551   -0.0550642     0.0328065       0.0186387     0.0309696\n",
       " -0.00379708  -0.0423257    -0.0282552       0.0332344    -0.0239572\n",
       "  0.00996469   0.0264098    -0.00901982     -0.011045      0.00594267\n",
       "  0.0689392    0.0104518     0.00434348     -0.00235021    0.0430881\n",
       " -0.00729325  -0.000186212  -0.0121164   …   0.00872245   -0.00662672\n",
       " -0.0131894   -0.0537761    -0.0199653      -0.0184375     0.0256689\n",
       "  0.0297708   -0.00108161    0.0321367       0.0217887     0.0374804\n",
       "  0.0285552   -0.0145097     0.034235        1.0           0.0418659\n",
       "  0.00283257  -0.0124817     0.0292596       0.0418659     1.0"
      ]
     },
     "execution_count": 16,
     "metadata": {},
     "output_type": "execute_result"
    }
   ],
   "source": [
    "d = 1000\n",
    "n = Int(1e4)\n",
    "ρ = rcor(d);\n",
    "margins = rmvnb(d)\n",
    "s1 = rvec(n, ρ, margins, \"pearson\")\n",
    "ρ_hat = cor(s1)"
   ]
  },
  {
   "cell_type": "code",
   "execution_count": 24,
   "metadata": {},
   "outputs": [
    {
     "data": {
      "text/plain": [
       "10-element Array{Float64,1}:\n",
       "  0.023172562698905767\n",
       " -0.06654367278840025\n",
       "  0.023172562698905767\n",
       "  0.024909591158790406\n",
       " -0.04411580403870944\n",
       " -0.04411580403870944\n",
       "  0.03776570102391063\n",
       " -0.06654367278840025\n",
       "  0.024909591158790406\n",
       "  0.03776570102391063"
      ]
     },
     "execution_count": 24,
     "metadata": {},
     "output_type": "execute_result"
    }
   ],
   "source": [
    "ρ_hat[findall(abs.(ρ .- ρ_hat) .> 0.057)]"
   ]
  },
  {
   "cell_type": "code",
   "execution_count": 25,
   "metadata": {},
   "outputs": [
    {
     "data": {
      "text/plain": [
       "10-element Array{Float64,1}:\n",
       "  0.08062146528208884\n",
       " -0.12518846580872178\n",
       "  0.08062146528208884\n",
       "  0.08285939616761884\n",
       " -0.10264689908870102\n",
       " -0.10264689908870102\n",
       "  0.09589531683737997\n",
       " -0.12518846580872178\n",
       "  0.08285939616761884\n",
       "  0.09589531683737997"
      ]
     },
     "execution_count": 25,
     "metadata": {},
     "output_type": "execute_result"
    }
   ],
   "source": [
    "ρ[findall(abs.(ρ .- ρ_hat) .> 0.057)]"
   ]
  },
  {
   "cell_type": "code",
   "execution_count": 26,
   "metadata": {},
   "outputs": [
    {
     "data": {
      "text/plain": [
       "115000-element Array{Float64,1}:\n",
       "  0.020528137207175706\n",
       " -0.002194448917754211\n",
       " -0.0017940108441060379\n",
       " -7.407153228458754e-5\n",
       " -0.005841991493852829\n",
       " -0.00010122826581239139\n",
       " -0.0048664352143473035\n",
       " -0.0022737049324424736\n",
       "  0.0068467882151009045\n",
       "  0.0074696606755299535\n",
       "  0.0007907738500876401\n",
       "  0.0049114517071707315\n",
       " -0.0023494836781127043\n",
       "  ⋮\n",
       " -0.007048756039653522\n",
       " -0.012191003425743351\n",
       "  0.011549806133159023\n",
       " -0.005011244062609902\n",
       " -0.001597787042511401\n",
       "  0.01014159800856057\n",
       " -0.019698935754295297\n",
       " -0.001477844570464791\n",
       " -0.0030952011437844163\n",
       " -0.007567789223555355\n",
       "  0.002378409211574413\n",
       " -0.015829044559791266"
      ]
     },
     "execution_count": 26,
     "metadata": {},
     "output_type": "execute_result"
    }
   ],
   "source": [
    "ρ[findall(sign.(ρ) .!= sign.(ρ_hat))]"
   ]
  },
  {
   "cell_type": "code",
   "execution_count": 27,
   "metadata": {},
   "outputs": [
    {
     "data": {
      "text/plain": [
       "115000-element Array{Float64,1}:\n",
       " -4.9697742279532574e-5\n",
       "  0.012382250184789922\n",
       "  0.008268549544674752\n",
       "  0.0033378972604191886\n",
       "  0.002205879293068132\n",
       "  0.010955870571039139\n",
       "  0.0028992657242496527\n",
       "  0.014637972307079803\n",
       " -0.00785130400211254\n",
       " -0.007338384217526894\n",
       " -0.006631409199766768\n",
       " -0.01567699522372538\n",
       "  0.019900988583533688\n",
       "  ⋮\n",
       "  0.0032251405641661656\n",
       "  0.021029848201440295\n",
       " -4.8046450963770335e-5\n",
       "  0.002493243640345325\n",
       "  0.0010668062481008927\n",
       " -0.00037052031216175776\n",
       "  0.0018088902872004703\n",
       "  0.004522559601894479\n",
       "  0.000666251306166924\n",
       "  0.00970133127055489\n",
       " -0.002331775775725134\n",
       "  0.005942665132980212"
      ]
     },
     "execution_count": 27,
     "metadata": {},
     "output_type": "execute_result"
    }
   ],
   "source": [
    "ρ_hat[findall(sign.(ρ) .!= sign.(ρ_hat))]"
   ]
  },
  {
   "cell_type": "code",
   "execution_count": null,
   "metadata": {},
   "outputs": [],
   "source": []
  }
 ],
 "metadata": {
  "kernelspec": {
   "display_name": "Julia 1.4.1",
   "language": "julia",
   "name": "julia-1.4"
  },
  "language_info": {
   "file_extension": ".jl",
   "mimetype": "application/julia",
   "name": "julia",
   "version": "1.4.1"
  }
 },
 "nbformat": 4,
 "nbformat_minor": 4
}
