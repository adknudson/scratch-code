{
 "cells": [
  {
   "cell_type": "markdown",
   "metadata": {},
   "source": [
    "# simInvNB Using the GPU\n",
    "\n",
    "## Crude Helper Function"
   ]
  },
  {
   "cell_type": "code",
   "execution_count": 2,
   "metadata": {},
   "outputs": [
    {
     "name": "stderr",
     "output_type": "stream",
     "text": [
      "┌ Info: Precompiling Distributions [31c24e10-a181-5473-b8eb-7969acd0382f]\n",
      "└ @ Base loading.jl:1273\n",
      "┌ Info: Precompiling RCall [6f49c342-dc21-5d91-9882-a32aef131414]\n",
      "└ @ Base loading.jl:1273\n"
     ]
    }
   ],
   "source": [
    "using Distributions\n",
    "using LinearAlgebra\n",
    "using RCall"
   ]
  },
  {
   "cell_type": "code",
   "execution_count": 3,
   "metadata": {},
   "outputs": [
    {
     "data": {
      "text/plain": [
       "cov2cor (generic function with 1 method)"
      ]
     },
     "execution_count": 3,
     "metadata": {},
     "output_type": "execute_result"
    }
   ],
   "source": [
    "function cov2cor(M)\n",
    "    Mcor = copy(M)\n",
    "    @simd for i in CartesianIndices(M)\n",
    "        Mcor[i] = M[i] / sqrt(M[i[1], i[1]] * M[i[2], i[2]])\n",
    "    end\n",
    "    return Mcor\n",
    "end"
   ]
  },
  {
   "cell_type": "code",
   "execution_count": 4,
   "metadata": {},
   "outputs": [
    {
     "data": {
      "text/plain": [
       "rcor (generic function with 2 methods)"
      ]
     },
     "execution_count": 4,
     "metadata": {},
     "output_type": "execute_result"
    }
   ],
   "source": [
    "function rcor(d, ρ_constant=false)\n",
    "    if ρ_constant\n",
    "        ρ_temp = rand(Uniform(0.25, 0.90))\n",
    "        Σ = fill(ρ_temp, (d, d))\n",
    "        @simd for i = 1:d\n",
    "            @inbounds Σ[i,i] = 1.0\n",
    "        end\n",
    "    else\n",
    "        tmp  = randn(d, d)\n",
    "        mcov = tmp * tmp'\n",
    "        Σ    = cov2cor(mcov)\n",
    "    end\n",
    "    return Σ\n",
    "end     "
   ]
  },
  {
   "cell_type": "code",
   "execution_count": 5,
   "metadata": {},
   "outputs": [
    {
     "data": {
      "text/plain": [
       "rmvnb (generic function with 1 method)"
      ]
     },
     "execution_count": 5,
     "metadata": {},
     "output_type": "execute_result"
    }
   ],
   "source": [
    "function rmvnb(d::Int)\n",
    "    rates = rand(1:5, d)\n",
    "    probs = rand(0.2:0.01:0.8, d)\n",
    "    return collect((NegativeBinomial, (rate, prob)) for (rate, prob) in zip(rates, probs))\n",
    "end"
   ]
  },
  {
   "cell_type": "code",
   "execution_count": 6,
   "metadata": {},
   "outputs": [
    {
     "data": {
      "text/plain": [
       "4-element Array{Tuple{UnionAll,Tuple{Int64,Float64}},1}:\n",
       " (NegativeBinomial, (3, 0.41))\n",
       " (NegativeBinomial, (3, 0.21))\n",
       " (NegativeBinomial, (5, 0.23))\n",
       " (NegativeBinomial, (3, 0.55))"
      ]
     },
     "execution_count": 6,
     "metadata": {},
     "output_type": "execute_result"
    }
   ],
   "source": [
    "rmvnb(4)"
   ]
  },
  {
   "cell_type": "markdown",
   "metadata": {},
   "source": [
    "## Helper Functions"
   ]
  },
  {
   "cell_type": "code",
   "execution_count": 7,
   "metadata": {},
   "outputs": [
    {
     "data": {
      "text/plain": [
       "convertCor (generic function with 1 method)"
      ]
     },
     "execution_count": 7,
     "metadata": {},
     "output_type": "execute_result"
    }
   ],
   "source": [
    "function convertCor(ρ, from, to)\n",
    "    F = Dict(\n",
    "        (\"pearson\", \"pearson\")  => A -> A,\n",
    "        (\"pearson\", \"spearman\") => A -> (6 / pi) .* asin.(A ./ 2),\n",
    "        (\"pearson\", \"kendall\")  => A -> (2 / pi) .* asin.(A),\n",
    "        (\"spearman\", \"pearson\") => A -> 2 .* sin.(A .* (pi / 6)),\n",
    "        (\"spearman\", \"spearman\")=> A -> A,\n",
    "        (\"spearman\", \"kendall\") => A -> (2 / pi) .* asin.(2 .* sin.(A .* (pi / 6))),\n",
    "        (\"kendall\", \"pearson\")  => A -> sin.(A .* (pi / 2)),\n",
    "        (\"kendal\", \"spearman\")  => A -> (6 / pi) .* asin.(sin.(A .* (pi / 2)) ./ 2),\n",
    "        (\"kendall\", \"kendall\")  => A -> A\n",
    "    )\n",
    "    tmp = F[(from, to)](ρ)\n",
    "    @rput tmp\n",
    "    return rcopy(R\"as.matrix(Matrix::nearPD(tmp)$mat)\")\n",
    "end"
   ]
  },
  {
   "cell_type": "code",
   "execution_count": 14,
   "metadata": {},
   "outputs": [
    {
     "data": {
      "text/plain": [
       "adjustCor (generic function with 1 method)"
      ]
     },
     "execution_count": 14,
     "metadata": {},
     "output_type": "execute_result"
    }
   ],
   "source": [
    "function adjustCor(ρ, params)\n",
    "    d = size(ρ, 1)\n",
    "    \n",
    "    indexMat = rcopy(R\"combn(1:$d, 2)\")\n",
    "    ρ_out = Matrix{Float64}(I, d, d)\n",
    "    \n",
    "    iter = [(j,i) for (j,i) in enumerate(eachcol(indexMat))]\n",
    "    Threads.@threads for it in iter\n",
    "        j = it[1]\n",
    "        i = it[2]\n",
    "        α₁ = params[:α][i[1]]\n",
    "        α₂ = params[:α][i[2]]\n",
    "        λ₁ = params[:λ][i[1]]\n",
    "        λ₂ = params[:λ][i[2]]\n",
    "        σ₁ = sqrt(params[:σ][i[1]])\n",
    "        σ₂ = sqrt(params[:σ][i[2]])\n",
    "        \n",
    "        scaleFactor = sqrt(α₁ * α₂)\n",
    "        ρ_tmp = ρ[i...]\n",
    "        ρ_targetGamma = ρ_tmp * (σ₁ * σ₂) / (scaleFactor * λ₁ * λ₂)\n",
    "        @inbounds ρ_out[i...] = ρ_out[reverse(i)...] = min(1, ρ_targetGamma)\n",
    "    end\n",
    "    \n",
    "    eigenDecomp = eigen(ρ_out)\n",
    "    if any(eigenDecomp.values .< 0)\n",
    "        @rput ρ_out\n",
    "        return cov2cor(rcopy(R\"as.matrix(Matrix::nearPD(ρ_out)$mat)\"))\n",
    "    end\n",
    "    \n",
    "    return ρ_out\n",
    "end"
   ]
  },
  {
   "cell_type": "code",
   "execution_count": 15,
   "metadata": {},
   "outputs": [
    {
     "data": {
      "text/plain": [
       "normal2marginal (generic function with 1 method)"
      ]
     },
     "execution_count": 15,
     "metadata": {},
     "output_type": "execute_result"
    }
   ],
   "source": [
    "# margin = (Distribution, (param1, param2, ...))\n",
    "function normal2marginal(x, margin)\n",
    "    quantile.(margin[1](margin[2]...), cdf.(Normal(), x))\n",
    "end"
   ]
  },
  {
   "cell_type": "markdown",
   "metadata": {},
   "source": [
    "## Simulate Negative Binomial"
   ]
  },
  {
   "cell_type": "code",
   "execution_count": 16,
   "metadata": {},
   "outputs": [
    {
     "data": {
      "text/plain": [
       "rvec (generic function with 1 method)"
      ]
     },
     "execution_count": 16,
     "metadata": {},
     "output_type": "execute_result"
    }
   ],
   "source": [
    "function rvec(n, ρ, margins, inputCorType)\n",
    "    ρ = convertCor(ρ, inputCorType, \"pearson\")\n",
    "    d = size(ρ, 1)\n",
    "\n",
    "    mvn = rand(MultivariateNormal(zeros(d), ρ), n)'\n",
    "    \n",
    "    Threads.@threads for i in 1:d\n",
    "        mvn[:,i] = normal2marginal(mvn[:,i], margins[i])\n",
    "    end\n",
    "    \n",
    "    return mvn\n",
    "end"
   ]
  },
  {
   "cell_type": "markdown",
   "metadata": {},
   "source": [
    "# Testing"
   ]
  },
  {
   "cell_type": "code",
   "execution_count": 52,
   "metadata": {},
   "outputs": [],
   "source": [
    "using Test"
   ]
  },
  {
   "cell_type": "code",
   "execution_count": 85,
   "metadata": {},
   "outputs": [
    {
     "data": {
      "text/plain": [
       "100×100 Array{Float64,2}:\n",
       "  1.0          0.0859355    -0.0648805   …   0.0257976    -0.064315 \n",
       "  0.0859355    1.0           0.00921852     -0.0355429    -0.218549 \n",
       " -0.0648805    0.00921852    1.0             0.0561855     0.122769 \n",
       "  0.078731     0.007477     -0.0218245       0.00914989    0.0516017\n",
       " -0.202522     0.0191046    -0.127106       -0.00806571    0.0314712\n",
       " -0.0101051   -0.0621611    -0.11505     …   0.0519673    -0.0572856\n",
       "  0.0860626    0.0547228     0.0838671       0.000971664  -0.0673425\n",
       "  0.104438     0.0794737    -0.0288445      -0.00916851    0.094365 \n",
       "  0.00551062   0.0954886     0.0813635       0.0927361    -0.015372 \n",
       " -0.0963952   -0.0559465     0.0326044      -0.0367154     0.0280819\n",
       " -0.017649     0.0593911    -0.106748    …  -0.0783684    -0.0631905\n",
       " -0.0587731    0.0774242    -0.0874482       0.0544168    -0.0867599\n",
       " -0.0456822    0.0073854    -0.0310187      -0.065102     -0.023483 \n",
       "  ⋮                                      ⋱                          \n",
       "  0.0584582   -0.0523682     0.00726779     -0.0566947    -0.220089 \n",
       "  0.0437935   -0.0503471    -0.0900601       0.102998      0.105157 \n",
       " -0.0312682    0.106548     -0.0686591   …  -0.0283571     0.0187385\n",
       "  0.0252293   -0.074605      0.0951653      -0.108641      0.0882301\n",
       "  0.127913     0.0449745    -0.0177951       0.0130337    -0.0872032\n",
       " -0.095448    -0.0229724    -0.0500459      -0.0609494     0.0500204\n",
       "  0.18069      0.0815661    -0.0349838       0.0526928    -0.0534538\n",
       "  0.0110355   -0.0124837     0.0622642   …   0.0274119     0.0341528\n",
       " -0.0735713   -0.0097082    -0.0946078       0.0721762     0.0885596\n",
       " -0.064319     0.000890982   0.140632        0.179554     -0.0427676\n",
       "  0.0257976   -0.0355429     0.0561855       1.0           0.0172514\n",
       " -0.064315    -0.218549      0.122769        0.0172514     1.0      "
      ]
     },
     "execution_count": 85,
     "metadata": {},
     "output_type": "execute_result"
    }
   ],
   "source": [
    "d = 100\n",
    "n = Int(1e7)\n",
    "ρ = rcor(d);\n",
    "margins = rmvnb(d)\n",
    "s1 = rvec(n, ρ, margins, \"pearson\")\n",
    "ρ_hat = cor(s1)"
   ]
  },
  {
   "cell_type": "code",
   "execution_count": 90,
   "metadata": {},
   "outputs": [
    {
     "data": {
      "text/plain": [
       "4-element Array{Float64,1}:\n",
       " -0.20081011101530913\n",
       " -0.1799820979399502 \n",
       " -0.1799820979399502 \n",
       " -0.20081011101530913"
      ]
     },
     "execution_count": 90,
     "metadata": {},
     "output_type": "execute_result"
    }
   ],
   "source": [
    "ρ_hat[findall(abs.(ρ .- ρ_hat) .> 0.1)]"
   ]
  },
  {
   "cell_type": "code",
   "execution_count": 91,
   "metadata": {},
   "outputs": [
    {
     "data": {
      "text/plain": [
       "4-element Array{Float64,1}:\n",
       " -0.31579970592528367\n",
       " -0.30785828435375434\n",
       " -0.30785828435375434\n",
       " -0.31579970592528367"
      ]
     },
     "execution_count": 91,
     "metadata": {},
     "output_type": "execute_result"
    }
   ],
   "source": [
    "ρ[findall(abs.(ρ .- ρ_hat) .> 0.1)]"
   ]
  },
  {
   "cell_type": "code",
   "execution_count": null,
   "metadata": {},
   "outputs": [],
   "source": []
  }
 ],
 "metadata": {
  "kernelspec": {
   "display_name": "Julia 1.3.1",
   "language": "julia",
   "name": "julia-1.3"
  },
  "language_info": {
   "file_extension": ".jl",
   "mimetype": "application/julia",
   "name": "julia",
   "version": "1.3.1"
  }
 },
 "nbformat": 4,
 "nbformat_minor": 4
}
