{
 "cells": [
  {
   "cell_type": "code",
   "execution_count": 1,
   "metadata": {},
   "outputs": [],
   "source": [
    "using Combinatorics\n",
    "using IterTools"
   ]
  },
  {
   "cell_type": "code",
   "execution_count": 5,
   "metadata": {},
   "outputs": [
    {
     "data": {
      "text/plain": [
       "kbins (generic function with 2 methods)"
      ]
     },
     "execution_count": 5,
     "metadata": {},
     "output_type": "execute_result"
    }
   ],
   "source": []
  },
  {
   "cell_type": "code",
   "execution_count": 6,
   "metadata": {},
   "outputs": [
    {
     "ename": "DimensionMismatch",
     "evalue": "DimensionMismatch(\"dimensions must match\")",
     "output_type": "error",
     "traceback": [
      "DimensionMismatch(\"dimensions must match\")",
      "",
      "Stacktrace:",
      " [1] +(::Array{Array{Int64,1},1}, ::Array{Int64,1}) at ./indices.jl:154",
      " [2] (::var\"#partition#3\")(::Array{Int64,1}, ::Int64) at ./In[5]:8",
      " [3] kbins(::Array{Int64,1}, ::Int64, ::Nothing) at ./In[5]:18",
      " [4] kbins(::Array{Int64,1}, ::Int64) at ./In[5]:2",
      " [5] top-level scope at In[6]:1"
     ]
    }
   ],
   "source": [
    "collect(kbins([1,1,2], 2))"
   ]
  },
  {
   "cell_type": "code",
   "execution_count": 67,
   "metadata": {},
   "outputs": [
    {
     "data": {
      "text/plain": [
       "f (generic function with 1 method)"
      ]
     },
     "execution_count": 67,
     "metadata": {},
     "output_type": "execute_result"
    }
   ],
   "source": [
    "function kbins(A, m)\n",
    "    unique(vcat((map(x -> collect(partitions(x, m)), multiset_c(A, length(A))))...))\n",
    "end\n",
    "\n",
    "function f(S)\n",
    "    N = length(S)\n",
    "    if N == 1\n",
    "        return S\n",
    "    elseif N == 2\n",
    "        return [Tuple(x) for x in multiset_permutations(S, 2)]\n",
    "    else\n",
    "        accumulator = []\n",
    "        for p in kbins(S, 2)\n",
    "            accumulator = vcat(accumulator, collect(Iterators.product(f(p[1]), f(p[2])))...)\n",
    "        end\n",
    "        return unique(accumulator)\n",
    "    end\n",
    "end"
   ]
  },
  {
   "cell_type": "code",
   "execution_count": 72,
   "metadata": {},
   "outputs": [
    {
     "data": {
      "text/plain": [
       "72-element Array{Array{Array{Int64,1},1},1}:\n",
       " [[1, 2, 3], [4]]\n",
       " [[1, 2, 4], [3]]\n",
       " [[1, 2], [3, 4]]\n",
       " [[1, 3, 4], [2]]\n",
       " [[1, 3], [2, 4]]\n",
       " [[1, 4], [2, 3]]\n",
       " [[1], [2, 3, 4]]\n",
       " [[1, 2], [4, 3]]\n",
       " [[1, 4, 3], [2]]\n",
       " [[1], [2, 4, 3]]\n",
       " [[1, 3, 2], [4]]\n",
       " [[1, 4], [3, 2]]\n",
       " [[1], [3, 2, 4]]\n",
       " ⋮               \n",
       " [[4], [1, 2, 3]]\n",
       " [[4, 1], [3, 2]]\n",
       " [[4, 3, 2], [1]]\n",
       " [[4], [1, 3, 2]]\n",
       " [[4, 2, 1], [3]]\n",
       " [[4, 3], [2, 1]]\n",
       " [[4], [2, 1, 3]]\n",
       " [[4, 2], [3, 1]]\n",
       " [[4, 3, 1], [2]]\n",
       " [[4], [2, 3, 1]]\n",
       " [[4], [3, 1, 2]]\n",
       " [[4], [3, 2, 1]]"
      ]
     },
     "execution_count": 72,
     "metadata": {},
     "output_type": "execute_result"
    }
   ],
   "source": [
    "kbins([1, 2, 3, 4], 2)"
   ]
  },
  {
   "cell_type": "code",
   "execution_count": 71,
   "metadata": {},
   "outputs": [
    {
     "data": {
      "text/plain": [
       "448-element Array{Any,1}:\n",
       " (((1, 1), 3), 4)\n",
       " (((1, 3), 1), 4)\n",
       " (((3, 1), 1), 4)\n",
       " ((1, (1, 3)), 4)\n",
       " ((1, (3, 1)), 4)\n",
       " ((1, (3, 1)), 4)\n",
       " ((1, (1, 3)), 4)\n",
       " (((3, 1), 1), 4)\n",
       " (((1, 3), 1), 4)\n",
       " ((3, (1, 1)), 4)\n",
       " (((1, 1), 4), 3)\n",
       " (((1, 4), 1), 3)\n",
       " (((4, 1), 1), 3)\n",
       " ⋮               \n",
       " (4, ((1, 3), 1))\n",
       " (4, (3, (1, 1)))\n",
       " (4, ((3, 1), 1))\n",
       " (4, ((1, 3), 1))\n",
       " (4, (3, (1, 1)))\n",
       " (4, ((1, 3), 1))\n",
       " (4, ((3, 1), 1))\n",
       " (4, ((1, 1), 3))\n",
       " (4, (1, (3, 1)))\n",
       " (4, (1, (1, 3)))\n",
       " (4, (1, (1, 3)))\n",
       " (4, (1, (3, 1)))"
      ]
     },
     "execution_count": 71,
     "metadata": {},
     "output_type": "execute_result"
    }
   ],
   "source": [
    "f([1, 1, 3, 4])"
   ]
  },
  {
   "cell_type": "code",
   "execution_count": null,
   "metadata": {},
   "outputs": [],
   "source": []
  }
 ],
 "metadata": {
  "kernelspec": {
   "display_name": "Julia 1.3.1",
   "language": "julia",
   "name": "julia-1.3"
  },
  "language_info": {
   "file_extension": ".jl",
   "mimetype": "application/julia",
   "name": "julia",
   "version": "1.3.1"
  }
 },
 "nbformat": 4,
 "nbformat_minor": 4
}
